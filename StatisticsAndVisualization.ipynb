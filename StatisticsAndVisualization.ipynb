{
  "metadata": {
    "kernelspec": {
      "language": "python",
      "display_name": "Python 3",
      "name": "python3"
    },
    "language_info": {
      "name": "python",
      "version": "3.7.12",
      "mimetype": "text/x-python",
      "codemirror_mode": {
        "name": "ipython",
        "version": 3
      },
      "pygments_lexer": "ipython3",
      "nbconvert_exporter": "python",
      "file_extension": ".py"
    },
    "colab": {
      "provenance": []
    }
  },
  "nbformat_minor": 0,
  "nbformat": 4,
  "cells": [
    {
      "cell_type": "markdown",
      "source": [
        "**STATISTICS AND VISUALIZATION**\n",
        "\n",
        "---\n",
        "\n"
      ],
      "metadata": {
        "id": "jkb4IiJVMIzY"
      }
    },
    {
      "cell_type": "markdown",
      "source": [
        "\n",
        "**Q1. Consider a test to detect a disease that 0.1 % of the population have. The test is 99 % effective in detecting an infected person. However, the test gives a false positive result in 0.5 % of cases. If a person tests positive for the disease what is the probability that they actually have it?**"
      ],
      "metadata": {
        "id": "_vGArzJEMPlp"
      }
    },
    {
      "cell_type": "markdown",
      "source": [
        "SOLUTION:\n",
        "\n",
        "Let D1 and D2 be the respective events that a person has a disease and a person has no disease\n",
        "Since D1 and D 2 are events complimentary to each other.\n",
        "\n",
        "P(D1) + P(D2) = 1\n",
        "\n",
        "P(D2) = 1 − P(D1)  ==> 1 − 0.001 = 0.999  [ Since D1 = 0.001]\n",
        "\n",
        "Let A be the event that the blood test result is positive.\n",
        "P(D1) = 0.1% => 100 / 0.1 = 0.001\n",
        "\n",
        "P(A ∣ D1) = P(result is positive given the person has disease) = 99% = 0.99\n",
        "\n",
        "P(A ∣ D2) = P(result is positive given that the person has no disease) = 0.5% = 0.005\n",
        "\n",
        "Probability that a person has a disease, given that his test result is positive, is given by P(D1 ∣ A).\n",
        "\n",
        "Using Baye's theorem, we get:\n",
        "\n",
        "    P(D1 ∣ A) = P(D1​) ⋅ P(A | D1​) /\n",
        "                P(D1) ⋅ P(A | D1​) + P(D2​) ⋅ (A ∣ D2​) \n",
        "              \n",
        "So using above value , we will substitute in the above equation\n",
        "\n",
        "      = 0.001 × 0.99 /\n",
        "        0.001 × 0.99 + 0.999 × 0.005\n",
        "\n",
        "      = 0.00099 ​/\n",
        "        0.00099 + 0.004995\n",
        "\n",
        "      = 0.00099 /\n",
        "        0.005985\n",
        "\n",
        "      = 0.167\n",
        "\n",
        "**Therefore , 0.167 or 16.7% is the probability that if a person tests positive for the disease and they actually have it.** \n",
        "\n",
        "---\n",
        "\n",
        "\n",
        " \n",
        " \n",
        "\n",
        "​\n",
        " \n"
      ],
      "metadata": {
        "id": "yK7iBrBDMPiH"
      }
    },
    {
      "cell_type": "markdown",
      "source": [
        "**Q2. Two production lines produce the same part. Line 1 produces 1,000 parts per week of which 100 are defective. Line 2 produces 2,000 parts per week of which 150 are defective. If you choose a part randomly from the stock what is the probability it is defective? If it is defective what is the probability it was produced by line 1?**"
      ],
      "metadata": {
        "id": "i9rq8vWiMPdj"
      }
    },
    {
      "cell_type": "markdown",
      "source": [
        "**SOLUTION**\n",
        "\n",
        "Given,\n",
        "\n",
        "Let Parts of line one be : (P1) = 1,000 parts\n",
        "\n",
        "Defects in line one be : (d1) = 100 parts\n",
        "\n",
        "Parts of line two be : (p2) = 2,000 parts\n",
        "\n",
        "Defects in line two be : (d2) = 150 parts\n",
        "\n",
        "Total number of parts in production be : (p) = 3,000 parts\n",
        "\n",
        "\n",
        "**Probability of a randomly selected part being defective can be calculated by:**\n",
        "\n",
        "    P(D) = d1 + d2 / \n",
        "           p1 + p2\n",
        "\n",
        "    P(D) = 100 + 150 /\n",
        "           1000 + 2000\n",
        "\n",
        "    P(D) = 0.0833 \n",
        "\n",
        "    Therefore the probabilty will be 0.0883 OR 8.33%\n",
        "\n",
        "**Probability of a part being produced by line one, given that it is defective can be calculated by:**\n",
        "\n",
        "    P(1 | D) = P(1 ∩ D) /\n",
        "               P(1 ∩ D) + P(2 ∩ D)\n",
        "\n",
        "             = 100/3000  /\n",
        "               100/3000 + 150/3000\n",
        "\n",
        "             = 0.4\n",
        "      \n",
        "\n",
        "**Therefor , the probability of a part being produced by line one, given that it is defective is 0.4 or 40%**\n",
        "\n",
        "---"
      ],
      "metadata": {
        "id": "x2pvf4U6MPZl"
      }
    },
    {
      "cell_type": "markdown",
      "source": [
        "**Q3. A store owner opens up a large shipment of shirts of various colours. It is found that the shipment has approximately 56% blue shirts. An employee of the store randomly selects five shirts to put on display. Find the probability that at least one of the selected shirts is blue.**"
      ],
      "metadata": {
        "id": "9kPGYn7FMiB8"
      }
    },
    {
      "cell_type": "markdown",
      "source": [
        "**SOLUTION**\n",
        "\n",
        "Let X be no of successes desired = 0\n",
        "\n",
        "n be no of trails = 5\n",
        "\n",
        "p be no sucesses in trail = 0.56\n",
        "\n",
        "q be the probability that no shirt is blue =0.44 [ ie  1 - 0.56 ]\n",
        "\n",
        "The probability may be found by finding probability that there is no blue shirts while selecting and subtract it by 1\n",
        "\n",
        "\n"
      ],
      "metadata": {
        "id": "Wer9fyHBMh-8"
      }
    },
    {
      "cell_type": "code",
      "source": [
        "from scipy.stats import binom\n",
        "\n",
        "#calculate binomial probability\n",
        "p_blue_0=binom.pmf(k=0, n=5, p=0.56)\n",
        "p_blue_0\n"
      ],
      "metadata": {
        "colab": {
          "base_uri": "https://localhost:8080/"
        },
        "id": "Gqrg1Oe3f_Kv",
        "outputId": "dfb9f7e0-c349-4c28-f8df-96b6356e9cf6"
      },
      "execution_count": 119,
      "outputs": [
        {
          "output_type": "execute_result",
          "data": {
            "text/plain": [
              "0.01649162239999999"
            ]
          },
          "metadata": {},
          "execution_count": 119
        }
      ]
    },
    {
      "cell_type": "code",
      "source": [
        "1 - p_blue_0 #Thus p(at least 1 blue)  = 1 - p_blue"
      ],
      "metadata": {
        "colab": {
          "base_uri": "https://localhost:8080/"
        },
        "id": "N8NOmmU9g72K",
        "outputId": "6ea117f5-a53b-4331-b3ed-a1785e4deff9"
      },
      "execution_count": 120,
      "outputs": [
        {
          "output_type": "execute_result",
          "data": {
            "text/plain": [
              "0.9835083776"
            ]
          },
          "metadata": {},
          "execution_count": 120
        }
      ]
    },
    {
      "cell_type": "markdown",
      "source": [
        "**probability that at least one of the selected shirts is blue is 98.35%**\n",
        "\n",
        "---\n",
        "\n",
        "\n",
        "\n",
        "---\n",
        "\n"
      ],
      "metadata": {
        "id": "qOQh58EIhRXC"
      }
    },
    {
      "cell_type": "markdown",
      "source": [
        "**PREPROCESSING ON TITANIC DATASET**"
      ],
      "metadata": {
        "id": "1dRXrrBEMh77"
      }
    },
    {
      "cell_type": "code",
      "source": [
        "import numpy as np\n",
        "import pandas as pd\n",
        "import matplotlib.pyplot as plt\n",
        "import seaborn as sns"
      ],
      "metadata": {
        "id": "I8nsEI9bMGHY"
      },
      "execution_count": 86,
      "outputs": []
    },
    {
      "cell_type": "code",
      "source": [
        "#https://www.kaggle.com/competitions/titanic/data\n",
        "df=pd.read_csv('/content/titanic_train.csv') "
      ],
      "metadata": {
        "id": "njKUlsKiMGEm"
      },
      "execution_count": 87,
      "outputs": []
    },
    {
      "cell_type": "code",
      "source": [
        "#Displaing top 5 records\n",
        "df.head()"
      ],
      "metadata": {
        "colab": {
          "base_uri": "https://localhost:8080/",
          "height": 250
        },
        "id": "4KFW7nEqMGA9",
        "outputId": "a598c4a6-ebdc-4334-b7aa-af47934cef20"
      },
      "execution_count": 88,
      "outputs": [
        {
          "output_type": "execute_result",
          "data": {
            "text/plain": [
              "   PassengerId  Survived  Pclass  \\\n",
              "0            1         0       3   \n",
              "1            2         1       1   \n",
              "2            3         1       3   \n",
              "3            4         1       1   \n",
              "4            5         0       3   \n",
              "\n",
              "                                                Name     Sex   Age  SibSp  \\\n",
              "0                            Braund, Mr. Owen Harris    male  22.0      1   \n",
              "1  Cumings, Mrs. John Bradley (Florence Briggs Th...  female  38.0      1   \n",
              "2                             Heikkinen, Miss. Laina  female  26.0      0   \n",
              "3       Futrelle, Mrs. Jacques Heath (Lily May Peel)  female  35.0      1   \n",
              "4                           Allen, Mr. William Henry    male  35.0      0   \n",
              "\n",
              "   Parch            Ticket     Fare Cabin Embarked  \n",
              "0      0         A/5 21171   7.2500   NaN        S  \n",
              "1      0          PC 17599  71.2833   C85        C  \n",
              "2      0  STON/O2. 3101282   7.9250   NaN        S  \n",
              "3      0            113803  53.1000  C123        S  \n",
              "4      0            373450   8.0500   NaN        S  "
            ],
            "text/html": [
              "\n",
              "  <div id=\"df-1a13e420-2e5a-46e8-9700-f1b0126702bc\">\n",
              "    <div class=\"colab-df-container\">\n",
              "      <div>\n",
              "<style scoped>\n",
              "    .dataframe tbody tr th:only-of-type {\n",
              "        vertical-align: middle;\n",
              "    }\n",
              "\n",
              "    .dataframe tbody tr th {\n",
              "        vertical-align: top;\n",
              "    }\n",
              "\n",
              "    .dataframe thead th {\n",
              "        text-align: right;\n",
              "    }\n",
              "</style>\n",
              "<table border=\"1\" class=\"dataframe\">\n",
              "  <thead>\n",
              "    <tr style=\"text-align: right;\">\n",
              "      <th></th>\n",
              "      <th>PassengerId</th>\n",
              "      <th>Survived</th>\n",
              "      <th>Pclass</th>\n",
              "      <th>Name</th>\n",
              "      <th>Sex</th>\n",
              "      <th>Age</th>\n",
              "      <th>SibSp</th>\n",
              "      <th>Parch</th>\n",
              "      <th>Ticket</th>\n",
              "      <th>Fare</th>\n",
              "      <th>Cabin</th>\n",
              "      <th>Embarked</th>\n",
              "    </tr>\n",
              "  </thead>\n",
              "  <tbody>\n",
              "    <tr>\n",
              "      <th>0</th>\n",
              "      <td>1</td>\n",
              "      <td>0</td>\n",
              "      <td>3</td>\n",
              "      <td>Braund, Mr. Owen Harris</td>\n",
              "      <td>male</td>\n",
              "      <td>22.0</td>\n",
              "      <td>1</td>\n",
              "      <td>0</td>\n",
              "      <td>A/5 21171</td>\n",
              "      <td>7.2500</td>\n",
              "      <td>NaN</td>\n",
              "      <td>S</td>\n",
              "    </tr>\n",
              "    <tr>\n",
              "      <th>1</th>\n",
              "      <td>2</td>\n",
              "      <td>1</td>\n",
              "      <td>1</td>\n",
              "      <td>Cumings, Mrs. John Bradley (Florence Briggs Th...</td>\n",
              "      <td>female</td>\n",
              "      <td>38.0</td>\n",
              "      <td>1</td>\n",
              "      <td>0</td>\n",
              "      <td>PC 17599</td>\n",
              "      <td>71.2833</td>\n",
              "      <td>C85</td>\n",
              "      <td>C</td>\n",
              "    </tr>\n",
              "    <tr>\n",
              "      <th>2</th>\n",
              "      <td>3</td>\n",
              "      <td>1</td>\n",
              "      <td>3</td>\n",
              "      <td>Heikkinen, Miss. Laina</td>\n",
              "      <td>female</td>\n",
              "      <td>26.0</td>\n",
              "      <td>0</td>\n",
              "      <td>0</td>\n",
              "      <td>STON/O2. 3101282</td>\n",
              "      <td>7.9250</td>\n",
              "      <td>NaN</td>\n",
              "      <td>S</td>\n",
              "    </tr>\n",
              "    <tr>\n",
              "      <th>3</th>\n",
              "      <td>4</td>\n",
              "      <td>1</td>\n",
              "      <td>1</td>\n",
              "      <td>Futrelle, Mrs. Jacques Heath (Lily May Peel)</td>\n",
              "      <td>female</td>\n",
              "      <td>35.0</td>\n",
              "      <td>1</td>\n",
              "      <td>0</td>\n",
              "      <td>113803</td>\n",
              "      <td>53.1000</td>\n",
              "      <td>C123</td>\n",
              "      <td>S</td>\n",
              "    </tr>\n",
              "    <tr>\n",
              "      <th>4</th>\n",
              "      <td>5</td>\n",
              "      <td>0</td>\n",
              "      <td>3</td>\n",
              "      <td>Allen, Mr. William Henry</td>\n",
              "      <td>male</td>\n",
              "      <td>35.0</td>\n",
              "      <td>0</td>\n",
              "      <td>0</td>\n",
              "      <td>373450</td>\n",
              "      <td>8.0500</td>\n",
              "      <td>NaN</td>\n",
              "      <td>S</td>\n",
              "    </tr>\n",
              "  </tbody>\n",
              "</table>\n",
              "</div>\n",
              "      <button class=\"colab-df-convert\" onclick=\"convertToInteractive('df-1a13e420-2e5a-46e8-9700-f1b0126702bc')\"\n",
              "              title=\"Convert this dataframe to an interactive table.\"\n",
              "              style=\"display:none;\">\n",
              "        \n",
              "  <svg xmlns=\"http://www.w3.org/2000/svg\" height=\"24px\"viewBox=\"0 0 24 24\"\n",
              "       width=\"24px\">\n",
              "    <path d=\"M0 0h24v24H0V0z\" fill=\"none\"/>\n",
              "    <path d=\"M18.56 5.44l.94 2.06.94-2.06 2.06-.94-2.06-.94-.94-2.06-.94 2.06-2.06.94zm-11 1L8.5 8.5l.94-2.06 2.06-.94-2.06-.94L8.5 2.5l-.94 2.06-2.06.94zm10 10l.94 2.06.94-2.06 2.06-.94-2.06-.94-.94-2.06-.94 2.06-2.06.94z\"/><path d=\"M17.41 7.96l-1.37-1.37c-.4-.4-.92-.59-1.43-.59-.52 0-1.04.2-1.43.59L10.3 9.45l-7.72 7.72c-.78.78-.78 2.05 0 2.83L4 21.41c.39.39.9.59 1.41.59.51 0 1.02-.2 1.41-.59l7.78-7.78 2.81-2.81c.8-.78.8-2.07 0-2.86zM5.41 20L4 18.59l7.72-7.72 1.47 1.35L5.41 20z\"/>\n",
              "  </svg>\n",
              "      </button>\n",
              "      \n",
              "  <style>\n",
              "    .colab-df-container {\n",
              "      display:flex;\n",
              "      flex-wrap:wrap;\n",
              "      gap: 12px;\n",
              "    }\n",
              "\n",
              "    .colab-df-convert {\n",
              "      background-color: #E8F0FE;\n",
              "      border: none;\n",
              "      border-radius: 50%;\n",
              "      cursor: pointer;\n",
              "      display: none;\n",
              "      fill: #1967D2;\n",
              "      height: 32px;\n",
              "      padding: 0 0 0 0;\n",
              "      width: 32px;\n",
              "    }\n",
              "\n",
              "    .colab-df-convert:hover {\n",
              "      background-color: #E2EBFA;\n",
              "      box-shadow: 0px 1px 2px rgba(60, 64, 67, 0.3), 0px 1px 3px 1px rgba(60, 64, 67, 0.15);\n",
              "      fill: #174EA6;\n",
              "    }\n",
              "\n",
              "    [theme=dark] .colab-df-convert {\n",
              "      background-color: #3B4455;\n",
              "      fill: #D2E3FC;\n",
              "    }\n",
              "\n",
              "    [theme=dark] .colab-df-convert:hover {\n",
              "      background-color: #434B5C;\n",
              "      box-shadow: 0px 1px 3px 1px rgba(0, 0, 0, 0.15);\n",
              "      filter: drop-shadow(0px 1px 2px rgba(0, 0, 0, 0.3));\n",
              "      fill: #FFFFFF;\n",
              "    }\n",
              "  </style>\n",
              "\n",
              "      <script>\n",
              "        const buttonEl =\n",
              "          document.querySelector('#df-1a13e420-2e5a-46e8-9700-f1b0126702bc button.colab-df-convert');\n",
              "        buttonEl.style.display =\n",
              "          google.colab.kernel.accessAllowed ? 'block' : 'none';\n",
              "\n",
              "        async function convertToInteractive(key) {\n",
              "          const element = document.querySelector('#df-1a13e420-2e5a-46e8-9700-f1b0126702bc');\n",
              "          const dataTable =\n",
              "            await google.colab.kernel.invokeFunction('convertToInteractive',\n",
              "                                                     [key], {});\n",
              "          if (!dataTable) return;\n",
              "\n",
              "          const docLinkHtml = 'Like what you see? Visit the ' +\n",
              "            '<a target=\"_blank\" href=https://colab.research.google.com/notebooks/data_table.ipynb>data table notebook</a>'\n",
              "            + ' to learn more about interactive tables.';\n",
              "          element.innerHTML = '';\n",
              "          dataTable['output_type'] = 'display_data';\n",
              "          await google.colab.output.renderOutput(dataTable, element);\n",
              "          const docLink = document.createElement('div');\n",
              "          docLink.innerHTML = docLinkHtml;\n",
              "          element.appendChild(docLink);\n",
              "        }\n",
              "      </script>\n",
              "    </div>\n",
              "  </div>\n",
              "  "
            ]
          },
          "metadata": {},
          "execution_count": 88
        }
      ]
    },
    {
      "cell_type": "code",
      "source": [
        "#printing rows and columns of dataset\n",
        "print(df.shape)"
      ],
      "metadata": {
        "colab": {
          "base_uri": "https://localhost:8080/"
        },
        "id": "Ve4-6tJDMF9X",
        "outputId": "0f02e585-6205-4a19-b1a6-ea9cae80c67c"
      },
      "execution_count": 89,
      "outputs": [
        {
          "output_type": "stream",
          "name": "stdout",
          "text": [
            "(891, 12)\n"
          ]
        }
      ]
    },
    {
      "cell_type": "code",
      "source": [
        "df.info()"
      ],
      "metadata": {
        "colab": {
          "base_uri": "https://localhost:8080/"
        },
        "id": "uXMWHMqXMF5w",
        "outputId": "bedcbee7-6071-4633-d959-704ff95dd202"
      },
      "execution_count": 90,
      "outputs": [
        {
          "output_type": "stream",
          "name": "stdout",
          "text": [
            "<class 'pandas.core.frame.DataFrame'>\n",
            "RangeIndex: 891 entries, 0 to 890\n",
            "Data columns (total 12 columns):\n",
            " #   Column       Non-Null Count  Dtype  \n",
            "---  ------       --------------  -----  \n",
            " 0   PassengerId  891 non-null    int64  \n",
            " 1   Survived     891 non-null    int64  \n",
            " 2   Pclass       891 non-null    int64  \n",
            " 3   Name         891 non-null    object \n",
            " 4   Sex          891 non-null    object \n",
            " 5   Age          714 non-null    float64\n",
            " 6   SibSp        891 non-null    int64  \n",
            " 7   Parch        891 non-null    int64  \n",
            " 8   Ticket       891 non-null    object \n",
            " 9   Fare         891 non-null    float64\n",
            " 10  Cabin        204 non-null    object \n",
            " 11  Embarked     889 non-null    object \n",
            "dtypes: float64(2), int64(5), object(5)\n",
            "memory usage: 83.7+ KB\n"
          ]
        }
      ]
    },
    {
      "cell_type": "code",
      "source": [
        "df.describe()"
      ],
      "metadata": {
        "colab": {
          "base_uri": "https://localhost:8080/",
          "height": 300
        },
        "id": "wx9uex1-MF0V",
        "outputId": "617f9946-ffcb-4a8c-982d-602cf92028c1"
      },
      "execution_count": 91,
      "outputs": [
        {
          "output_type": "execute_result",
          "data": {
            "text/plain": [
              "       PassengerId    Survived      Pclass         Age       SibSp  \\\n",
              "count   891.000000  891.000000  891.000000  714.000000  891.000000   \n",
              "mean    446.000000    0.383838    2.308642   29.699118    0.523008   \n",
              "std     257.353842    0.486592    0.836071   14.526497    1.102743   \n",
              "min       1.000000    0.000000    1.000000    0.420000    0.000000   \n",
              "25%     223.500000    0.000000    2.000000   20.125000    0.000000   \n",
              "50%     446.000000    0.000000    3.000000   28.000000    0.000000   \n",
              "75%     668.500000    1.000000    3.000000   38.000000    1.000000   \n",
              "max     891.000000    1.000000    3.000000   80.000000    8.000000   \n",
              "\n",
              "            Parch        Fare  \n",
              "count  891.000000  891.000000  \n",
              "mean     0.381594   32.204208  \n",
              "std      0.806057   49.693429  \n",
              "min      0.000000    0.000000  \n",
              "25%      0.000000    7.910400  \n",
              "50%      0.000000   14.454200  \n",
              "75%      0.000000   31.000000  \n",
              "max      6.000000  512.329200  "
            ],
            "text/html": [
              "\n",
              "  <div id=\"df-d3dc58b0-97f6-4903-9ec9-30e975bc25f3\">\n",
              "    <div class=\"colab-df-container\">\n",
              "      <div>\n",
              "<style scoped>\n",
              "    .dataframe tbody tr th:only-of-type {\n",
              "        vertical-align: middle;\n",
              "    }\n",
              "\n",
              "    .dataframe tbody tr th {\n",
              "        vertical-align: top;\n",
              "    }\n",
              "\n",
              "    .dataframe thead th {\n",
              "        text-align: right;\n",
              "    }\n",
              "</style>\n",
              "<table border=\"1\" class=\"dataframe\">\n",
              "  <thead>\n",
              "    <tr style=\"text-align: right;\">\n",
              "      <th></th>\n",
              "      <th>PassengerId</th>\n",
              "      <th>Survived</th>\n",
              "      <th>Pclass</th>\n",
              "      <th>Age</th>\n",
              "      <th>SibSp</th>\n",
              "      <th>Parch</th>\n",
              "      <th>Fare</th>\n",
              "    </tr>\n",
              "  </thead>\n",
              "  <tbody>\n",
              "    <tr>\n",
              "      <th>count</th>\n",
              "      <td>891.000000</td>\n",
              "      <td>891.000000</td>\n",
              "      <td>891.000000</td>\n",
              "      <td>714.000000</td>\n",
              "      <td>891.000000</td>\n",
              "      <td>891.000000</td>\n",
              "      <td>891.000000</td>\n",
              "    </tr>\n",
              "    <tr>\n",
              "      <th>mean</th>\n",
              "      <td>446.000000</td>\n",
              "      <td>0.383838</td>\n",
              "      <td>2.308642</td>\n",
              "      <td>29.699118</td>\n",
              "      <td>0.523008</td>\n",
              "      <td>0.381594</td>\n",
              "      <td>32.204208</td>\n",
              "    </tr>\n",
              "    <tr>\n",
              "      <th>std</th>\n",
              "      <td>257.353842</td>\n",
              "      <td>0.486592</td>\n",
              "      <td>0.836071</td>\n",
              "      <td>14.526497</td>\n",
              "      <td>1.102743</td>\n",
              "      <td>0.806057</td>\n",
              "      <td>49.693429</td>\n",
              "    </tr>\n",
              "    <tr>\n",
              "      <th>min</th>\n",
              "      <td>1.000000</td>\n",
              "      <td>0.000000</td>\n",
              "      <td>1.000000</td>\n",
              "      <td>0.420000</td>\n",
              "      <td>0.000000</td>\n",
              "      <td>0.000000</td>\n",
              "      <td>0.000000</td>\n",
              "    </tr>\n",
              "    <tr>\n",
              "      <th>25%</th>\n",
              "      <td>223.500000</td>\n",
              "      <td>0.000000</td>\n",
              "      <td>2.000000</td>\n",
              "      <td>20.125000</td>\n",
              "      <td>0.000000</td>\n",
              "      <td>0.000000</td>\n",
              "      <td>7.910400</td>\n",
              "    </tr>\n",
              "    <tr>\n",
              "      <th>50%</th>\n",
              "      <td>446.000000</td>\n",
              "      <td>0.000000</td>\n",
              "      <td>3.000000</td>\n",
              "      <td>28.000000</td>\n",
              "      <td>0.000000</td>\n",
              "      <td>0.000000</td>\n",
              "      <td>14.454200</td>\n",
              "    </tr>\n",
              "    <tr>\n",
              "      <th>75%</th>\n",
              "      <td>668.500000</td>\n",
              "      <td>1.000000</td>\n",
              "      <td>3.000000</td>\n",
              "      <td>38.000000</td>\n",
              "      <td>1.000000</td>\n",
              "      <td>0.000000</td>\n",
              "      <td>31.000000</td>\n",
              "    </tr>\n",
              "    <tr>\n",
              "      <th>max</th>\n",
              "      <td>891.000000</td>\n",
              "      <td>1.000000</td>\n",
              "      <td>3.000000</td>\n",
              "      <td>80.000000</td>\n",
              "      <td>8.000000</td>\n",
              "      <td>6.000000</td>\n",
              "      <td>512.329200</td>\n",
              "    </tr>\n",
              "  </tbody>\n",
              "</table>\n",
              "</div>\n",
              "      <button class=\"colab-df-convert\" onclick=\"convertToInteractive('df-d3dc58b0-97f6-4903-9ec9-30e975bc25f3')\"\n",
              "              title=\"Convert this dataframe to an interactive table.\"\n",
              "              style=\"display:none;\">\n",
              "        \n",
              "  <svg xmlns=\"http://www.w3.org/2000/svg\" height=\"24px\"viewBox=\"0 0 24 24\"\n",
              "       width=\"24px\">\n",
              "    <path d=\"M0 0h24v24H0V0z\" fill=\"none\"/>\n",
              "    <path d=\"M18.56 5.44l.94 2.06.94-2.06 2.06-.94-2.06-.94-.94-2.06-.94 2.06-2.06.94zm-11 1L8.5 8.5l.94-2.06 2.06-.94-2.06-.94L8.5 2.5l-.94 2.06-2.06.94zm10 10l.94 2.06.94-2.06 2.06-.94-2.06-.94-.94-2.06-.94 2.06-2.06.94z\"/><path d=\"M17.41 7.96l-1.37-1.37c-.4-.4-.92-.59-1.43-.59-.52 0-1.04.2-1.43.59L10.3 9.45l-7.72 7.72c-.78.78-.78 2.05 0 2.83L4 21.41c.39.39.9.59 1.41.59.51 0 1.02-.2 1.41-.59l7.78-7.78 2.81-2.81c.8-.78.8-2.07 0-2.86zM5.41 20L4 18.59l7.72-7.72 1.47 1.35L5.41 20z\"/>\n",
              "  </svg>\n",
              "      </button>\n",
              "      \n",
              "  <style>\n",
              "    .colab-df-container {\n",
              "      display:flex;\n",
              "      flex-wrap:wrap;\n",
              "      gap: 12px;\n",
              "    }\n",
              "\n",
              "    .colab-df-convert {\n",
              "      background-color: #E8F0FE;\n",
              "      border: none;\n",
              "      border-radius: 50%;\n",
              "      cursor: pointer;\n",
              "      display: none;\n",
              "      fill: #1967D2;\n",
              "      height: 32px;\n",
              "      padding: 0 0 0 0;\n",
              "      width: 32px;\n",
              "    }\n",
              "\n",
              "    .colab-df-convert:hover {\n",
              "      background-color: #E2EBFA;\n",
              "      box-shadow: 0px 1px 2px rgba(60, 64, 67, 0.3), 0px 1px 3px 1px rgba(60, 64, 67, 0.15);\n",
              "      fill: #174EA6;\n",
              "    }\n",
              "\n",
              "    [theme=dark] .colab-df-convert {\n",
              "      background-color: #3B4455;\n",
              "      fill: #D2E3FC;\n",
              "    }\n",
              "\n",
              "    [theme=dark] .colab-df-convert:hover {\n",
              "      background-color: #434B5C;\n",
              "      box-shadow: 0px 1px 3px 1px rgba(0, 0, 0, 0.15);\n",
              "      filter: drop-shadow(0px 1px 2px rgba(0, 0, 0, 0.3));\n",
              "      fill: #FFFFFF;\n",
              "    }\n",
              "  </style>\n",
              "\n",
              "      <script>\n",
              "        const buttonEl =\n",
              "          document.querySelector('#df-d3dc58b0-97f6-4903-9ec9-30e975bc25f3 button.colab-df-convert');\n",
              "        buttonEl.style.display =\n",
              "          google.colab.kernel.accessAllowed ? 'block' : 'none';\n",
              "\n",
              "        async function convertToInteractive(key) {\n",
              "          const element = document.querySelector('#df-d3dc58b0-97f6-4903-9ec9-30e975bc25f3');\n",
              "          const dataTable =\n",
              "            await google.colab.kernel.invokeFunction('convertToInteractive',\n",
              "                                                     [key], {});\n",
              "          if (!dataTable) return;\n",
              "\n",
              "          const docLinkHtml = 'Like what you see? Visit the ' +\n",
              "            '<a target=\"_blank\" href=https://colab.research.google.com/notebooks/data_table.ipynb>data table notebook</a>'\n",
              "            + ' to learn more about interactive tables.';\n",
              "          element.innerHTML = '';\n",
              "          dataTable['output_type'] = 'display_data';\n",
              "          await google.colab.output.renderOutput(dataTable, element);\n",
              "          const docLink = document.createElement('div');\n",
              "          docLink.innerHTML = docLinkHtml;\n",
              "          element.appendChild(docLink);\n",
              "        }\n",
              "      </script>\n",
              "    </div>\n",
              "  </div>\n",
              "  "
            ]
          },
          "metadata": {},
          "execution_count": 91
        }
      ]
    },
    {
      "cell_type": "markdown",
      "source": [
        "**EDA**"
      ],
      "metadata": {
        "id": "a9P-vkD2M--a"
      }
    },
    {
      "cell_type": "markdown",
      "source": [
        "Extracting categorical and numerical"
      ],
      "metadata": {
        "id": "aae3nhnLNENZ"
      }
    },
    {
      "cell_type": "code",
      "source": [
        "#Categorical variables\n",
        "cat = df.select_dtypes(include = ['object'])\n",
        "print(cat.shape)"
      ],
      "metadata": {
        "colab": {
          "base_uri": "https://localhost:8080/"
        },
        "id": "jfGJ0U_PMFv8",
        "outputId": "76210ae0-1003-4353-b8e3-5007abaf36e7"
      },
      "execution_count": 92,
      "outputs": [
        {
          "output_type": "stream",
          "name": "stdout",
          "text": [
            "(891, 5)\n"
          ]
        }
      ]
    },
    {
      "cell_type": "code",
      "source": [
        "cat.columns"
      ],
      "metadata": {
        "colab": {
          "base_uri": "https://localhost:8080/"
        },
        "id": "hO14R-nsMFs-",
        "outputId": "2834c9da-b7a2-4fa6-8787-04f55c46d672"
      },
      "execution_count": 93,
      "outputs": [
        {
          "output_type": "execute_result",
          "data": {
            "text/plain": [
              "Index(['Name', 'Sex', 'Ticket', 'Cabin', 'Embarked'], dtype='object')"
            ]
          },
          "metadata": {},
          "execution_count": 93
        }
      ]
    },
    {
      "cell_type": "code",
      "source": [
        "# extracting the numerical columns\n",
        "num = df.select_dtypes(include = ['int64'])\n",
        "num.shape"
      ],
      "metadata": {
        "colab": {
          "base_uri": "https://localhost:8080/"
        },
        "id": "KWTdk92sMFo0",
        "outputId": "4e3e6a48-2ec1-4816-ed7b-289b812b8719"
      },
      "execution_count": 94,
      "outputs": [
        {
          "output_type": "execute_result",
          "data": {
            "text/plain": [
              "(891, 5)"
            ]
          },
          "metadata": {},
          "execution_count": 94
        }
      ]
    },
    {
      "cell_type": "markdown",
      "source": [
        "**Plotting two numerical columns**"
      ],
      "metadata": {
        "id": "fDeIZhfbNLnm"
      }
    },
    {
      "cell_type": "code",
      "source": [
        "sns.countplot (x=\"Survived\",hue=\"Pclass\",data=df)"
      ],
      "metadata": {
        "colab": {
          "base_uri": "https://localhost:8080/",
          "height": 296
        },
        "id": "0Jg-68_3MFj9",
        "outputId": "5ac09144-6faa-4d82-e4f3-6aa0ee988445"
      },
      "execution_count": 95,
      "outputs": [
        {
          "output_type": "execute_result",
          "data": {
            "text/plain": [
              "<matplotlib.axes._subplots.AxesSubplot at 0x7f8d69e95e10>"
            ]
          },
          "metadata": {},
          "execution_count": 95
        },
        {
          "output_type": "display_data",
          "data": {
            "text/plain": [
              "<Figure size 432x288 with 1 Axes>"
            ],
            "image/png": "[encoded data removed]"
          },
          "metadata": {
            "needs_background": "light"
          }
        }
      ]
    },
    {
      "cell_type": "code",
      "source": [
        "print(\"% of survivals in\") \n",
        "print(\"Pclass=1 : \", df.Survived[df.Pclass == 1].sum()/df[df.Pclass == 1].Survived.count())\n",
        "print(\"Pclass=2 : \", df.Survived[df.Pclass == 2].sum()/df[df.Pclass == 2].Survived.count())\n",
        "print(\"Pclass=3 : \", df.Survived[df.Pclass == 3].sum()/df[df.Pclass == 3].Survived.count())"
      ],
      "metadata": {
        "colab": {
          "base_uri": "https://localhost:8080/"
        },
        "id": "ClIsyMJhMFel",
        "outputId": "d8f13951-6000-4fdc-dada-0d749eef6c15"
      },
      "execution_count": 96,
      "outputs": [
        {
          "output_type": "stream",
          "name": "stdout",
          "text": [
            "% of survivals in\n",
            "Pclass=1 :  0.6296296296296297\n",
            "Pclass=2 :  0.47282608695652173\n",
            "Pclass=3 :  0.24236252545824846\n"
          ]
        }
      ]
    },
    {
      "cell_type": "markdown",
      "source": [
        "**OBSERVATIONS**\n",
        "\n",
        "The passengers are more likely to survive in Pclass1 than the passengers in the Pclass2 and pclass3\n",
        "\n",
        "\n",
        "---\n",
        "\n",
        "\n"
      ],
      "metadata": {
        "id": "RrBkG0VZNTc3"
      }
    },
    {
      "cell_type": "markdown",
      "source": [
        "**Plotting one numerical and one categorical column.**"
      ],
      "metadata": {
        "id": "t0r-EJfUNcvb"
      }
    },
    {
      "cell_type": "code",
      "source": [
        "sns.catplot(data=df, kind=\"count\", x=\"Survived\", hue=\"Sex\")"
      ],
      "metadata": {
        "colab": {
          "base_uri": "https://localhost:8080/",
          "height": 386
        },
        "id": "YPDODnOTMFZl",
        "outputId": "aa6fc3b2-989d-454d-8e62-a4c74fa1e332"
      },
      "execution_count": 97,
      "outputs": [
        {
          "output_type": "execute_result",
          "data": {
            "text/plain": [
              "<seaborn.axisgrid.FacetGrid at 0x7f8d6b6c7890>"
            ]
          },
          "metadata": {},
          "execution_count": 97
        },
        {
          "output_type": "display_data",
          "data": {
            "text/plain": [
              "<Figure size 430.5x360 with 1 Axes>"
            ],
            "image/png": "[encoded data removed]"
          },
          "metadata": {
            "needs_background": "light"
          }
        }
      ]
    },
    {
      "cell_type": "code",
      "source": [
        "print(\"% of women survived: \" , df[df.Sex == 'female'].Survived.sum()/df[df.Sex == 'female'].Survived.count())\n",
        "print(\"% of men survived:   \" , df[df.Sex == 'male'].Survived.sum()/df[df.Sex == 'male'].Survived.count())"
      ],
      "metadata": {
        "colab": {
          "base_uri": "https://localhost:8080/"
        },
        "id": "NesbUWtNMFU-",
        "outputId": "88076c92-8333-40ec-ead0-8917b6914458"
      },
      "execution_count": 98,
      "outputs": [
        {
          "output_type": "stream",
          "name": "stdout",
          "text": [
            "% of women survived:  0.7420382165605095\n",
            "% of men survived:    0.18890814558058924\n"
          ]
        }
      ]
    },
    {
      "cell_type": "markdown",
      "source": [
        "**OBSERVATIONS**\n",
        "\n",
        "The survival rate is high on female when compare to male survival rate\n",
        "\n",
        "\n",
        "---\n"
      ],
      "metadata": {
        "id": "HK-QJ7GNNpA0"
      }
    },
    {
      "cell_type": "markdown",
      "source": [
        "**Plotting two numerical columns and one categorical column.**"
      ],
      "metadata": {
        "id": "hQHaGptZNrv2"
      }
    },
    {
      "cell_type": "code",
      "source": [
        "sns.catplot(data=df, x=\"Embarked\", y=\"Age\", hue=\"Survived\",kind=\"swarm\") #Swarm: It helps to represent the better representation of the distribution of values"
      ],
      "metadata": {
        "colab": {
          "base_uri": "https://localhost:8080/",
          "height": 441
        },
        "id": "opx83X-1Nog4",
        "outputId": "27057206-a1da-4f13-bce5-0b518ab72114"
      },
      "execution_count": 99,
      "outputs": [
        {
          "output_type": "stream",
          "name": "stderr",
          "text": [
            "/usr/local/lib/python3.7/dist-packages/seaborn/categorical.py:1296: UserWarning: 26.2% of the points cannot be placed; you may want to decrease the size of the markers or use stripplot.\n",
            "  warnings.warn(msg, UserWarning)\n"
          ]
        },
        {
          "output_type": "execute_result",
          "data": {
            "text/plain": [
              "<seaborn.axisgrid.FacetGrid at 0x7f8d69e14510>"
            ]
          },
          "metadata": {},
          "execution_count": 99
        },
        {
          "output_type": "display_data",
          "data": {
            "text/plain": [
              "<Figure size 411.875x360 with 1 Axes>"
            ],
            "image/png": "[encoded data removed]"
          },
          "metadata": {
            "needs_background": "light"
          }
        }
      ]
    },
    {
      "cell_type": "markdown",
      "source": [
        "**OBSERVATIONS** \n",
        "\n",
        "This plot concludes that the travellers who travels from Southampton have low survive rate compared to other travellers who travelled from  Cherbourg, and Queenstown. \n",
        "\n",
        "As per the age distribution, we can say that many passengers have died regardless of age ie( both young and old aged)\n",
        "\n",
        "\n",
        "---\n"
      ],
      "metadata": {
        "id": "-1-mBzuOTuav"
      }
    },
    {
      "cell_type": "markdown",
      "source": [
        "**Checking for null values in columns**"
      ],
      "metadata": {
        "id": "ZWyIBGjSOI_c"
      }
    },
    {
      "cell_type": "code",
      "source": [
        "df.isnull().sum()"
      ],
      "metadata": {
        "colab": {
          "base_uri": "https://localhost:8080/"
        },
        "id": "GIwoqeTUODiz",
        "outputId": "25be0c43-853a-4ddd-92a6-67c7d41ab20d"
      },
      "execution_count": 100,
      "outputs": [
        {
          "output_type": "execute_result",
          "data": {
            "text/plain": [
              "PassengerId      0\n",
              "Survived         0\n",
              "Pclass           0\n",
              "Name             0\n",
              "Sex              0\n",
              "Age            177\n",
              "SibSp            0\n",
              "Parch            0\n",
              "Ticket           0\n",
              "Fare             0\n",
              "Cabin          687\n",
              "Embarked         2\n",
              "dtype: int64"
            ]
          },
          "metadata": {},
          "execution_count": 100
        }
      ]
    },
    {
      "cell_type": "code",
      "source": [
        "df[\"Age\"] = df[\"Age\"].fillna(df[\"Age\"].median())"
      ],
      "metadata": {
        "id": "voW_RWa-ODgB"
      },
      "execution_count": 101,
      "outputs": []
    },
    {
      "cell_type": "code",
      "source": [
        "#since there are more null values in the column 'Cabin' so we can drop the column \n",
        "df.drop(\"Cabin\", axis=1,inplace=True)"
      ],
      "metadata": {
        "id": "AfeXkWCBODak"
      },
      "execution_count": 102,
      "outputs": []
    },
    {
      "cell_type": "code",
      "source": [
        "df = pd.get_dummies(df, columns= ['Embarked'], drop_first=True)"
      ],
      "metadata": {
        "id": "EUmeivomNodp"
      },
      "execution_count": 103,
      "outputs": []
    },
    {
      "cell_type": "code",
      "source": [
        "df.isnull().sum().sum()"
      ],
      "metadata": {
        "colab": {
          "base_uri": "https://localhost:8080/"
        },
        "id": "CXYjI4DpMFNW",
        "outputId": "8a96fba3-ef44-4b0f-fe69-bb2795f423dd"
      },
      "execution_count": 104,
      "outputs": [
        {
          "output_type": "execute_result",
          "data": {
            "text/plain": [
              "0"
            ]
          },
          "metadata": {},
          "execution_count": 104
        }
      ]
    },
    {
      "cell_type": "markdown",
      "source": [
        "\n",
        "\n",
        "---"
      ],
      "metadata": {
        "id": "23NGuHgWOoeY"
      }
    },
    {
      "cell_type": "code",
      "source": [
        "# printing unique values of each column\n",
        "for col in cat.columns:\n",
        "    print(f\"{col}: \\n{cat[col].unique()}\\n\")"
      ],
      "metadata": {
        "colab": {
          "base_uri": "https://localhost:8080/"
        },
        "id": "av5pSAiSOnkE",
        "outputId": "6660140e-8073-4243-9cb7-64b86906febc"
      },
      "execution_count": 105,
      "outputs": [
        {
          "output_type": "stream",
          "name": "stdout",
          "text": [
            "Name: \n",
            "['Braund, Mr. Owen Harris'\n",
            " 'Cumings, Mrs. John Bradley (Florence Briggs Thayer)'\n",
            " 'Heikkinen, Miss. Laina' 'Futrelle, Mrs. Jacques Heath (Lily May Peel)'\n",
            " 'Allen, Mr. William Henry' 'Moran, Mr. James' 'McCarthy, Mr. Timothy J'\n",
            " 'Palsson, Master. Gosta Leonard'\n",
            " 'Johnson, Mrs. Oscar W (Elisabeth Vilhelmina Berg)'\n",
            " 'Nasser, Mrs. Nicholas (Adele Achem)' 'Sandstrom, Miss. Marguerite Rut'\n",
            " 'Bonnell, Miss. Elizabeth' 'Saundercock, Mr. William Henry'\n",
            " 'Andersson, Mr. Anders Johan' 'Vestrom, Miss. Hulda Amanda Adolfina'\n",
            " 'Hewlett, Mrs. (Mary D Kingcome) ' 'Rice, Master. Eugene'\n",
            " 'Williams, Mr. Charles Eugene'\n",
            " 'Vander Planke, Mrs. Julius (Emelia Maria Vandemoortele)'\n",
            " 'Masselmani, Mrs. Fatima' 'Fynney, Mr. Joseph J' 'Beesley, Mr. Lawrence'\n",
            " 'McGowan, Miss. Anna \"Annie\"' 'Sloper, Mr. William Thompson'\n",
            " 'Palsson, Miss. Torborg Danira'\n",
            " 'Asplund, Mrs. Carl Oscar (Selma Augusta Emilia Johansson)'\n",
            " 'Emir, Mr. Farred Chehab' 'Fortune, Mr. Charles Alexander'\n",
            " 'O\\'Dwyer, Miss. Ellen \"Nellie\"' 'Todoroff, Mr. Lalio'\n",
            " 'Uruchurtu, Don. Manuel E'\n",
            " 'Spencer, Mrs. William Augustus (Marie Eugenie)'\n",
            " 'Glynn, Miss. Mary Agatha' 'Wheadon, Mr. Edward H'\n",
            " 'Meyer, Mr. Edgar Joseph' 'Holverson, Mr. Alexander Oskar'\n",
            " 'Mamee, Mr. Hanna' 'Cann, Mr. Ernest Charles'\n",
            " 'Vander Planke, Miss. Augusta Maria' 'Nicola-Yarred, Miss. Jamila'\n",
            " 'Ahlin, Mrs. Johan (Johanna Persdotter Larsson)'\n",
            " 'Turpin, Mrs. William John Robert (Dorothy Ann Wonnacott)'\n",
            " 'Kraeff, Mr. Theodor' 'Laroche, Miss. Simonne Marie Anne Andree'\n",
            " 'Devaney, Miss. Margaret Delia' 'Rogers, Mr. William John'\n",
            " 'Lennon, Mr. Denis' \"O'Driscoll, Miss. Bridget\" 'Samaan, Mr. Youssef'\n",
            " 'Arnold-Franchi, Mrs. Josef (Josefine Franchi)'\n",
            " 'Panula, Master. Juha Niilo' 'Nosworthy, Mr. Richard Cater'\n",
            " 'Harper, Mrs. Henry Sleeper (Myna Haxtun)'\n",
            " 'Faunthorpe, Mrs. Lizzie (Elizabeth Anne Wilkinson)'\n",
            " 'Ostby, Mr. Engelhart Cornelius' 'Woolner, Mr. Hugh' 'Rugg, Miss. Emily'\n",
            " 'Novel, Mr. Mansouer' 'West, Miss. Constance Mirium'\n",
            " 'Goodwin, Master. William Frederick' 'Sirayanian, Mr. Orsen'\n",
            " 'Icard, Miss. Amelie' 'Harris, Mr. Henry Birkhardt'\n",
            " 'Skoog, Master. Harald' 'Stewart, Mr. Albert A'\n",
            " 'Moubarek, Master. Gerios' 'Nye, Mrs. (Elizabeth Ramell)'\n",
            " 'Crease, Mr. Ernest James' 'Andersson, Miss. Erna Alexandra'\n",
            " 'Kink, Mr. Vincenz' 'Jenkin, Mr. Stephen Curnow'\n",
            " 'Goodwin, Miss. Lillian Amy' 'Hood, Mr. Ambrose Jr'\n",
            " 'Chronopoulos, Mr. Apostolos' 'Bing, Mr. Lee' 'Moen, Mr. Sigurd Hansen'\n",
            " 'Staneff, Mr. Ivan' 'Moutal, Mr. Rahamin Haim'\n",
            " 'Caldwell, Master. Alden Gates' 'Dowdell, Miss. Elizabeth'\n",
            " 'Waelens, Mr. Achille' 'Sheerlinck, Mr. Jan Baptist'\n",
            " 'McDermott, Miss. Brigdet Delia' 'Carrau, Mr. Francisco M'\n",
            " 'Ilett, Miss. Bertha'\n",
            " 'Backstrom, Mrs. Karl Alfred (Maria Mathilda Gustafsson)'\n",
            " 'Ford, Mr. William Neal' 'Slocovski, Mr. Selman Francis'\n",
            " 'Fortune, Miss. Mabel Helen' 'Celotti, Mr. Francesco'\n",
            " 'Christmann, Mr. Emil' 'Andreasson, Mr. Paul Edvin'\n",
            " 'Chaffee, Mr. Herbert Fuller' 'Dean, Mr. Bertram Frank'\n",
            " 'Coxon, Mr. Daniel' 'Shorney, Mr. Charles Joseph'\n",
            " 'Goldschmidt, Mr. George B' 'Greenfield, Mr. William Bertram'\n",
            " 'Doling, Mrs. John T (Ada Julia Bone)' 'Kantor, Mr. Sinai'\n",
            " 'Petranec, Miss. Matilda' 'Petroff, Mr. Pastcho (\"Pentcho\")'\n",
            " 'White, Mr. Richard Frasar' 'Johansson, Mr. Gustaf Joel'\n",
            " 'Gustafsson, Mr. Anders Vilhelm' 'Mionoff, Mr. Stoytcho'\n",
            " 'Salkjelsvik, Miss. Anna Kristine' 'Moss, Mr. Albert Johan'\n",
            " 'Rekic, Mr. Tido' 'Moran, Miss. Bertha' 'Porter, Mr. Walter Chamberlain'\n",
            " 'Zabour, Miss. Hileni' 'Barton, Mr. David John' 'Jussila, Miss. Katriina'\n",
            " 'Attalah, Miss. Malake' 'Pekoniemi, Mr. Edvard' 'Connors, Mr. Patrick'\n",
            " 'Turpin, Mr. William John Robert' 'Baxter, Mr. Quigg Edmond'\n",
            " 'Andersson, Miss. Ellis Anna Maria' 'Hickman, Mr. Stanley George'\n",
            " 'Moore, Mr. Leonard Charles' 'Nasser, Mr. Nicholas' 'Webber, Miss. Susan'\n",
            " 'White, Mr. Percival Wayland' 'Nicola-Yarred, Master. Elias'\n",
            " 'McMahon, Mr. Martin' 'Madsen, Mr. Fridtjof Arne' 'Peter, Miss. Anna'\n",
            " 'Ekstrom, Mr. Johan' 'Drazenoic, Mr. Jozef'\n",
            " 'Coelho, Mr. Domingos Fernandeo'\n",
            " 'Robins, Mrs. Alexander A (Grace Charity Laury)'\n",
            " 'Weisz, Mrs. Leopold (Mathilde Francoise Pede)'\n",
            " 'Sobey, Mr. Samuel James Hayden' 'Richard, Mr. Emile'\n",
            " 'Newsom, Miss. Helen Monypeny' 'Futrelle, Mr. Jacques Heath'\n",
            " 'Osen, Mr. Olaf Elon' 'Giglio, Mr. Victor'\n",
            " 'Boulos, Mrs. Joseph (Sultana)' 'Nysten, Miss. Anna Sofia'\n",
            " 'Hakkarainen, Mrs. Pekka Pietari (Elin Matilda Dolck)'\n",
            " 'Burke, Mr. Jeremiah' 'Andrew, Mr. Edgardo Samuel'\n",
            " 'Nicholls, Mr. Joseph Charles'\n",
            " 'Andersson, Mr. August Edvard (\"Wennerstrom\")'\n",
            " 'Ford, Miss. Robina Maggie \"Ruby\"'\n",
            " 'Navratil, Mr. Michel (\"Louis M Hoffman\")'\n",
            " 'Byles, Rev. Thomas Roussel Davids' 'Bateman, Rev. Robert James'\n",
            " 'Pears, Mrs. Thomas (Edith Wearne)' 'Meo, Mr. Alfonzo'\n",
            " 'van Billiard, Mr. Austin Blyler' 'Olsen, Mr. Ole Martin'\n",
            " 'Williams, Mr. Charles Duane' 'Gilnagh, Miss. Katherine \"Katie\"'\n",
            " 'Corn, Mr. Harry' 'Smiljanic, Mr. Mile' 'Sage, Master. Thomas Henry'\n",
            " 'Cribb, Mr. John Hatfield'\n",
            " 'Watt, Mrs. James (Elizabeth \"Bessie\" Inglis Milne)'\n",
            " 'Bengtsson, Mr. John Viktor' 'Calic, Mr. Jovo'\n",
            " 'Panula, Master. Eino Viljami'\n",
            " 'Goldsmith, Master. Frank John William \"Frankie\"'\n",
            " 'Chibnall, Mrs. (Edith Martha Bowerman)'\n",
            " 'Skoog, Mrs. William (Anna Bernhardina Karlsson)' 'Baumann, Mr. John D'\n",
            " 'Ling, Mr. Lee' 'Van der hoef, Mr. Wyckoff' 'Rice, Master. Arthur'\n",
            " 'Johnson, Miss. Eleanor Ileen' 'Sivola, Mr. Antti Wilhelm'\n",
            " 'Smith, Mr. James Clinch' 'Klasen, Mr. Klas Albin'\n",
            " 'Lefebre, Master. Henry Forbes' 'Isham, Miss. Ann Elizabeth'\n",
            " 'Hale, Mr. Reginald' 'Leonard, Mr. Lionel' 'Sage, Miss. Constance Gladys'\n",
            " 'Pernot, Mr. Rene' 'Asplund, Master. Clarence Gustaf Hugo'\n",
            " 'Becker, Master. Richard F' 'Kink-Heilmann, Miss. Luise Gretchen'\n",
            " 'Rood, Mr. Hugh Roscoe'\n",
            " 'O\\'Brien, Mrs. Thomas (Johanna \"Hannah\" Godfrey)'\n",
            " 'Romaine, Mr. Charles Hallace (\"Mr C Rolmane\")' 'Bourke, Mr. John'\n",
            " 'Turcin, Mr. Stjepan' 'Pinsky, Mrs. (Rosa)' 'Carbines, Mr. William'\n",
            " 'Andersen-Jensen, Miss. Carla Christine Nielsine'\n",
            " 'Navratil, Master. Michel M' 'Brown, Mrs. James Joseph (Margaret Tobin)'\n",
            " 'Lurette, Miss. Elise' 'Mernagh, Mr. Robert'\n",
            " 'Olsen, Mr. Karl Siegwart Andreas' 'Madigan, Miss. Margaret \"Maggie\"'\n",
            " 'Yrois, Miss. Henriette (\"Mrs Harbeck\")' 'Vande Walle, Mr. Nestor Cyriel'\n",
            " 'Sage, Mr. Frederick' 'Johanson, Mr. Jakob Alfred' 'Youseff, Mr. Gerious'\n",
            " 'Cohen, Mr. Gurshon \"Gus\"' 'Strom, Miss. Telma Matilda'\n",
            " 'Backstrom, Mr. Karl Alfred' 'Albimona, Mr. Nassef Cassem'\n",
            " 'Carr, Miss. Helen \"Ellen\"' 'Blank, Mr. Henry' 'Ali, Mr. Ahmed'\n",
            " 'Cameron, Miss. Clear Annie' 'Perkin, Mr. John Henry'\n",
            " 'Givard, Mr. Hans Kristensen' 'Kiernan, Mr. Philip'\n",
            " 'Newell, Miss. Madeleine' 'Honkanen, Miss. Eliina'\n",
            " 'Jacobsohn, Mr. Sidney Samuel' 'Bazzani, Miss. Albina'\n",
            " 'Harris, Mr. Walter' 'Sunderland, Mr. Victor Francis'\n",
            " 'Bracken, Mr. James H' 'Green, Mr. George Henry' 'Nenkoff, Mr. Christo'\n",
            " 'Hoyt, Mr. Frederick Maxfield' 'Berglund, Mr. Karl Ivar Sven'\n",
            " 'Mellors, Mr. William John' 'Lovell, Mr. John Hall (\"Henry\")'\n",
            " 'Fahlstrom, Mr. Arne Jonas' 'Lefebre, Miss. Mathilde'\n",
            " 'Harris, Mrs. Henry Birkhardt (Irene Wallach)' 'Larsson, Mr. Bengt Edvin'\n",
            " 'Sjostedt, Mr. Ernst Adolf' 'Asplund, Miss. Lillian Gertrud'\n",
            " 'Leyson, Mr. Robert William Norman' 'Harknett, Miss. Alice Phoebe'\n",
            " 'Hold, Mr. Stephen' 'Collyer, Miss. Marjorie \"Lottie\"'\n",
            " 'Pengelly, Mr. Frederick William' 'Hunt, Mr. George Henry'\n",
            " 'Zabour, Miss. Thamine' 'Murphy, Miss. Katherine \"Kate\"'\n",
            " 'Coleridge, Mr. Reginald Charles' 'Maenpaa, Mr. Matti Alexanteri'\n",
            " 'Attalah, Mr. Sleiman' 'Minahan, Dr. William Edward'\n",
            " 'Lindahl, Miss. Agda Thorilda Viktoria' 'Hamalainen, Mrs. William (Anna)'\n",
            " 'Beckwith, Mr. Richard Leonard' 'Carter, Rev. Ernest Courtenay'\n",
            " 'Reed, Mr. James George' 'Strom, Mrs. Wilhelm (Elna Matilda Persson)'\n",
            " 'Stead, Mr. William Thomas' 'Lobb, Mr. William Arthur'\n",
            " 'Rosblom, Mrs. Viktor (Helena Wilhelmina)'\n",
            " 'Touma, Mrs. Darwis (Hanne Youssef Razi)'\n",
            " 'Thorne, Mrs. Gertrude Maybelle' 'Cherry, Miss. Gladys'\n",
            " 'Ward, Miss. Anna' 'Parrish, Mrs. (Lutie Davis)' 'Smith, Mr. Thomas'\n",
            " 'Asplund, Master. Edvin Rojj Felix' 'Taussig, Mr. Emil'\n",
            " 'Harrison, Mr. William' 'Henry, Miss. Delia' 'Reeves, Mr. David'\n",
            " 'Panula, Mr. Ernesti Arvid' 'Persson, Mr. Ernst Ulrik'\n",
            " 'Graham, Mrs. William Thompson (Edith Junkins)' 'Bissette, Miss. Amelia'\n",
            " 'Cairns, Mr. Alexander' 'Tornquist, Mr. William Henry'\n",
            " 'Mellinger, Mrs. (Elizabeth Anne Maidment)' 'Natsch, Mr. Charles H'\n",
            " 'Healy, Miss. Hanora \"Nora\"' 'Andrews, Miss. Kornelia Theodosia'\n",
            " 'Lindblom, Miss. Augusta Charlotta' 'Parkes, Mr. Francis \"Frank\"'\n",
            " 'Rice, Master. Eric' 'Abbott, Mrs. Stanton (Rosa Hunt)'\n",
            " 'Duane, Mr. Frank' 'Olsson, Mr. Nils Johan Goransson'\n",
            " 'de Pelsmaeker, Mr. Alfons' 'Dorking, Mr. Edward Arthur'\n",
            " 'Smith, Mr. Richard William' 'Stankovic, Mr. Ivan'\n",
            " 'de Mulder, Mr. Theodore' 'Naidenoff, Mr. Penko' 'Hosono, Mr. Masabumi'\n",
            " 'Connolly, Miss. Kate' 'Barber, Miss. Ellen \"Nellie\"'\n",
            " 'Bishop, Mrs. Dickinson H (Helen Walton)' 'Levy, Mr. Rene Jacques'\n",
            " 'Haas, Miss. Aloisia' 'Mineff, Mr. Ivan' 'Lewy, Mr. Ervin G'\n",
            " 'Hanna, Mr. Mansour' 'Allison, Miss. Helen Loraine'\n",
            " 'Saalfeld, Mr. Adolphe' 'Baxter, Mrs. James (Helene DeLaudeniere Chaput)'\n",
            " 'Kelly, Miss. Anna Katherine \"Annie Kate\"' 'McCoy, Mr. Bernard'\n",
            " 'Johnson, Mr. William Cahoone Jr' 'Keane, Miss. Nora A'\n",
            " 'Williams, Mr. Howard Hugh \"Harry\"' 'Allison, Master. Hudson Trevor'\n",
            " 'Fleming, Miss. Margaret'\n",
            " 'Penasco y Castellana, Mrs. Victor de Satode (Maria Josefa Perez de Soto y Vallejo)'\n",
            " 'Abelson, Mr. Samuel' 'Francatelli, Miss. Laura Mabel'\n",
            " 'Hays, Miss. Margaret Bechstein' 'Ryerson, Miss. Emily Borie'\n",
            " 'Lahtinen, Mrs. William (Anna Sylfven)' 'Hendekovic, Mr. Ignjac'\n",
            " 'Hart, Mr. Benjamin' 'Nilsson, Miss. Helmina Josefina'\n",
            " 'Kantor, Mrs. Sinai (Miriam Sternin)' 'Moraweck, Dr. Ernest'\n",
            " 'Wick, Miss. Mary Natalie'\n",
            " 'Spedden, Mrs. Frederic Oakley (Margaretta Corning Stone)'\n",
            " 'Dennis, Mr. Samuel' 'Danoff, Mr. Yoto' 'Slayter, Miss. Hilda Mary'\n",
            " 'Caldwell, Mrs. Albert Francis (Sylvia Mae Harbaugh)'\n",
            " 'Sage, Mr. George John Jr' 'Young, Miss. Marie Grice'\n",
            " 'Nysveen, Mr. Johan Hansen' 'Ball, Mrs. (Ada E Hall)'\n",
            " 'Goldsmith, Mrs. Frank John (Emily Alice Brown)'\n",
            " 'Hippach, Miss. Jean Gertrude' 'McCoy, Miss. Agnes' 'Partner, Mr. Austen'\n",
            " 'Graham, Mr. George Edward' 'Vander Planke, Mr. Leo Edmondus'\n",
            " 'Frauenthal, Mrs. Henry William (Clara Heinsheimer)' 'Denkoff, Mr. Mitto'\n",
            " 'Pears, Mr. Thomas Clinton' 'Burns, Miss. Elizabeth Margaret'\n",
            " 'Dahl, Mr. Karl Edwart' 'Blackwell, Mr. Stephen Weart'\n",
            " 'Navratil, Master. Edmond Roger' 'Fortune, Miss. Alice Elizabeth'\n",
            " 'Collander, Mr. Erik Gustaf' 'Sedgwick, Mr. Charles Frederick Waddington'\n",
            " 'Fox, Mr. Stanley Hubert' 'Brown, Miss. Amelia \"Mildred\"'\n",
            " 'Smith, Miss. Marion Elsie' 'Davison, Mrs. Thomas Henry (Mary E Finck)'\n",
            " 'Coutts, Master. William Loch \"William\"' 'Dimic, Mr. Jovan'\n",
            " 'Odahl, Mr. Nils Martin' 'Williams-Lambert, Mr. Fletcher Fellows'\n",
            " 'Elias, Mr. Tannous' 'Arnold-Franchi, Mr. Josef' 'Yousif, Mr. Wazli'\n",
            " 'Vanden Steen, Mr. Leo Peter' 'Bowerman, Miss. Elsie Edith'\n",
            " 'Funk, Miss. Annie Clemmer' 'McGovern, Miss. Mary'\n",
            " 'Mockler, Miss. Helen Mary \"Ellie\"' 'Skoog, Mr. Wilhelm'\n",
            " 'del Carlo, Mr. Sebastiano' 'Barbara, Mrs. (Catherine David)'\n",
            " 'Asim, Mr. Adola' \"O'Brien, Mr. Thomas\" 'Adahl, Mr. Mauritz Nils Martin'\n",
            " 'Warren, Mrs. Frank Manley (Anna Sophia Atkinson)'\n",
            " 'Moussa, Mrs. (Mantoura Boulos)' 'Jermyn, Miss. Annie'\n",
            " 'Aubart, Mme. Leontine Pauline' 'Harder, Mr. George Achilles'\n",
            " 'Wiklund, Mr. Jakob Alfred' 'Beavan, Mr. William Thomas'\n",
            " 'Ringhini, Mr. Sante' 'Palsson, Miss. Stina Viola'\n",
            " 'Meyer, Mrs. Edgar Joseph (Leila Saks)' 'Landergren, Miss. Aurora Adelia'\n",
            " 'Widener, Mr. Harry Elkins' 'Betros, Mr. Tannous'\n",
            " 'Gustafsson, Mr. Karl Gideon' 'Bidois, Miss. Rosalie'\n",
            " 'Nakid, Miss. Maria (\"Mary\")' 'Tikkanen, Mr. Juho'\n",
            " 'Holverson, Mrs. Alexander Oskar (Mary Aline Towner)'\n",
            " 'Plotcharsky, Mr. Vasil' 'Davies, Mr. Charles Henry'\n",
            " 'Goodwin, Master. Sidney Leonard' 'Buss, Miss. Kate'\n",
            " 'Sadlier, Mr. Matthew' 'Lehmann, Miss. Bertha'\n",
            " 'Carter, Mr. William Ernest' 'Jansson, Mr. Carl Olof'\n",
            " 'Gustafsson, Mr. Johan Birger' 'Newell, Miss. Marjorie'\n",
            " 'Sandstrom, Mrs. Hjalmar (Agnes Charlotta Bengtsson)'\n",
            " 'Johansson, Mr. Erik' 'Olsson, Miss. Elina' 'McKane, Mr. Peter David'\n",
            " 'Pain, Dr. Alfred' 'Trout, Mrs. William H (Jessie L)'\n",
            " 'Niskanen, Mr. Juha' 'Adams, Mr. John' 'Jussila, Miss. Mari Aina'\n",
            " 'Hakkarainen, Mr. Pekka Pietari' 'Oreskovic, Miss. Marija'\n",
            " 'Gale, Mr. Shadrach' 'Widegren, Mr. Carl/Charles Peter'\n",
            " 'Richards, Master. William Rowe' 'Birkeland, Mr. Hans Martin Monsen'\n",
            " 'Lefebre, Miss. Ida' 'Sdycoff, Mr. Todor' 'Hart, Mr. Henry'\n",
            " 'Minahan, Miss. Daisy E' 'Cunningham, Mr. Alfred Fleming'\n",
            " 'Sundman, Mr. Johan Julian' 'Meek, Mrs. Thomas (Annie Louise Rowley)'\n",
            " 'Drew, Mrs. James Vivian (Lulu Thorne Christian)'\n",
            " 'Silven, Miss. Lyyli Karoliina' 'Matthews, Mr. William John'\n",
            " 'Van Impe, Miss. Catharina' 'Gheorgheff, Mr. Stanio'\n",
            " 'Charters, Mr. David' 'Zimmerman, Mr. Leo'\n",
            " 'Danbom, Mrs. Ernst Gilbert (Anna Sigrid Maria Brogren)'\n",
            " 'Rosblom, Mr. Viktor Richard' 'Wiseman, Mr. Phillippe'\n",
            " 'Clarke, Mrs. Charles V (Ada Maria Winfield)'\n",
            " 'Phillips, Miss. Kate Florence (\"Mrs Kate Louise Phillips Marshall\")'\n",
            " 'Flynn, Mr. James' 'Pickard, Mr. Berk (Berk Trembisky)'\n",
            " 'Bjornstrom-Steffansson, Mr. Mauritz Hakan'\n",
            " 'Thorneycroft, Mrs. Percival (Florence Kate White)'\n",
            " 'Louch, Mrs. Charles Alexander (Alice Adelaide Slow)'\n",
            " 'Kallio, Mr. Nikolai Erland' 'Silvey, Mr. William Baird'\n",
            " 'Carter, Miss. Lucile Polk' 'Ford, Miss. Doolina Margaret \"Daisy\"'\n",
            " 'Richards, Mrs. Sidney (Emily Hocking)' 'Fortune, Mr. Mark'\n",
            " 'Kvillner, Mr. Johan Henrik Johannesson'\n",
            " 'Hart, Mrs. Benjamin (Esther Ada Bloomfield)' 'Hampe, Mr. Leon'\n",
            " 'Petterson, Mr. Johan Emil' 'Reynaldo, Ms. Encarnacion'\n",
            " 'Johannesen-Bratthammer, Mr. Bernt' 'Dodge, Master. Washington'\n",
            " 'Mellinger, Miss. Madeleine Violet' 'Seward, Mr. Frederic Kimber'\n",
            " 'Baclini, Miss. Marie Catherine' 'Peuchen, Major. Arthur Godfrey'\n",
            " 'West, Mr. Edwy Arthur' 'Hagland, Mr. Ingvald Olai Olsen'\n",
            " 'Foreman, Mr. Benjamin Laventall' 'Goldenberg, Mr. Samuel L'\n",
            " 'Peduzzi, Mr. Joseph' 'Jalsevac, Mr. Ivan' 'Millet, Mr. Francis Davis'\n",
            " 'Kenyon, Mrs. Frederick R (Marion)' 'Toomey, Miss. Ellen'\n",
            " \"O'Connor, Mr. Maurice\" 'Anderson, Mr. Harry' 'Morley, Mr. William'\n",
            " 'Gee, Mr. Arthur H' 'Milling, Mr. Jacob Christian' 'Maisner, Mr. Simon'\n",
            " 'Goncalves, Mr. Manuel Estanslas' 'Campbell, Mr. William'\n",
            " 'Smart, Mr. John Montgomery' 'Scanlan, Mr. James'\n",
            " 'Baclini, Miss. Helene Barbara' 'Keefe, Mr. Arthur' 'Cacic, Mr. Luka'\n",
            " 'West, Mrs. Edwy Arthur (Ada Mary Worth)'\n",
            " 'Jerwan, Mrs. Amin S (Marie Marthe Thuillard)'\n",
            " 'Strandberg, Miss. Ida Sofia' 'Clifford, Mr. George Quincy'\n",
            " 'Renouf, Mr. Peter Henry' 'Braund, Mr. Lewis Richard'\n",
            " 'Karlsson, Mr. Nils August' 'Hirvonen, Miss. Hildur E'\n",
            " 'Goodwin, Master. Harold Victor' 'Frost, Mr. Anthony Wood \"Archie\"'\n",
            " 'Rouse, Mr. Richard Henry' 'Turkula, Mrs. (Hedwig)'\n",
            " 'Bishop, Mr. Dickinson H' 'Lefebre, Miss. Jeannie'\n",
            " 'Hoyt, Mrs. Frederick Maxfield (Jane Anne Forby)'\n",
            " 'Kent, Mr. Edward Austin' 'Somerton, Mr. Francis William'\n",
            " 'Coutts, Master. Eden Leslie \"Neville\"'\n",
            " 'Hagland, Mr. Konrad Mathias Reiersen' 'Windelov, Mr. Einar'\n",
            " 'Molson, Mr. Harry Markland' 'Artagaveytia, Mr. Ramon'\n",
            " 'Stanley, Mr. Edward Roland' 'Yousseff, Mr. Gerious'\n",
            " 'Eustis, Miss. Elizabeth Mussey' 'Shellard, Mr. Frederick William'\n",
            " 'Allison, Mrs. Hudson J C (Bessie Waldo Daniels)' 'Svensson, Mr. Olof'\n",
            " 'Calic, Mr. Petar' 'Canavan, Miss. Mary' \"O'Sullivan, Miss. Bridget Mary\"\n",
            " 'Laitinen, Miss. Kristina Sofia' 'Maioni, Miss. Roberta'\n",
            " 'Penasco y Castellana, Mr. Victor de Satode'\n",
            " 'Quick, Mrs. Frederick Charles (Jane Richards)'\n",
            " 'Bradley, Mr. George (\"George Arthur Brayton\")'\n",
            " 'Olsen, Mr. Henry Margido' 'Lang, Mr. Fang' 'Daly, Mr. Eugene Patrick'\n",
            " 'Webber, Mr. James' 'McGough, Mr. James Robert'\n",
            " 'Rothschild, Mrs. Martin (Elizabeth L. Barrett)' 'Coleff, Mr. Satio'\n",
            " 'Walker, Mr. William Anderson' 'Lemore, Mrs. (Amelia Milley)'\n",
            " 'Ryan, Mr. Patrick'\n",
            " 'Angle, Mrs. William A (Florence \"Mary\" Agnes Hughes)'\n",
            " 'Pavlovic, Mr. Stefo' 'Perreault, Miss. Anne' 'Vovk, Mr. Janko'\n",
            " 'Lahoud, Mr. Sarkis' 'Hippach, Mrs. Louis Albert (Ida Sophia Fischer)'\n",
            " 'Kassem, Mr. Fared' 'Farrell, Mr. James' 'Ridsdale, Miss. Lucy'\n",
            " 'Farthing, Mr. John' 'Salonen, Mr. Johan Werner'\n",
            " 'Hocking, Mr. Richard George' 'Quick, Miss. Phyllis May'\n",
            " 'Toufik, Mr. Nakli' 'Elias, Mr. Joseph Jr'\n",
            " 'Peter, Mrs. Catherine (Catherine Rizk)' 'Cacic, Miss. Marija'\n",
            " 'Hart, Miss. Eva Miriam' 'Butt, Major. Archibald Willingham'\n",
            " 'LeRoy, Miss. Bertha' 'Risien, Mr. Samuel Beard'\n",
            " 'Frolicher, Miss. Hedwig Margaritha' 'Crosby, Miss. Harriet R'\n",
            " 'Andersson, Miss. Ingeborg Constanzia'\n",
            " 'Andersson, Miss. Sigrid Elisabeth' 'Beane, Mr. Edward'\n",
            " 'Douglas, Mr. Walter Donald' 'Nicholson, Mr. Arthur Ernest'\n",
            " 'Beane, Mrs. Edward (Ethel Clarke)' 'Padro y Manent, Mr. Julian'\n",
            " 'Goldsmith, Mr. Frank John' 'Davies, Master. John Morgan Jr'\n",
            " 'Thayer, Mr. John Borland Jr' 'Sharp, Mr. Percival James R'\n",
            " \"O'Brien, Mr. Timothy\" 'Leeni, Mr. Fahim (\"Philip Zenni\")'\n",
            " 'Ohman, Miss. Velin' 'Wright, Mr. George'\n",
            " 'Duff Gordon, Lady. (Lucille Christiana Sutherland) (\"Mrs Morgan\")'\n",
            " 'Robbins, Mr. Victor' 'Taussig, Mrs. Emil (Tillie Mandelbaum)'\n",
            " 'de Messemaeker, Mrs. Guillaume Joseph (Emma)' 'Morrow, Mr. Thomas Rowan'\n",
            " 'Sivic, Mr. Husein' 'Norman, Mr. Robert Douglas' 'Simmons, Mr. John'\n",
            " 'Meanwell, Miss. (Marion Ogden)' 'Davies, Mr. Alfred J'\n",
            " 'Stoytcheff, Mr. Ilia' 'Palsson, Mrs. Nils (Alma Cornelia Berglund)'\n",
            " 'Doharr, Mr. Tannous' 'Jonsson, Mr. Carl' 'Harris, Mr. George'\n",
            " 'Appleton, Mrs. Edward Dale (Charlotte Lamson)'\n",
            " 'Flynn, Mr. John Irwin (\"Irving\")' 'Kelly, Miss. Mary'\n",
            " 'Rush, Mr. Alfred George John' 'Patchett, Mr. George'\n",
            " 'Garside, Miss. Ethel' 'Silvey, Mrs. William Baird (Alice Munger)'\n",
            " 'Caram, Mrs. Joseph (Maria Elias)' 'Jussila, Mr. Eiriik'\n",
            " 'Christy, Miss. Julie Rachel'\n",
            " 'Thayer, Mrs. John Borland (Marian Longstreth Morris)'\n",
            " 'Downton, Mr. William James' 'Ross, Mr. John Hugo' 'Paulner, Mr. Uscher'\n",
            " 'Taussig, Miss. Ruth' 'Jarvis, Mr. John Denzil'\n",
            " 'Frolicher-Stehli, Mr. Maxmillian' 'Gilinski, Mr. Eliezer'\n",
            " 'Murdlin, Mr. Joseph' 'Rintamaki, Mr. Matti'\n",
            " 'Stephenson, Mrs. Walter Bertram (Martha Eustis)'\n",
            " 'Elsbury, Mr. William James' 'Bourke, Miss. Mary'\n",
            " 'Chapman, Mr. John Henry' 'Van Impe, Mr. Jean Baptiste'\n",
            " 'Leitch, Miss. Jessie Wills' 'Johnson, Mr. Alfred' 'Boulos, Mr. Hanna'\n",
            " 'Duff Gordon, Sir. Cosmo Edmund (\"Mr Morgan\")'\n",
            " 'Jacobsohn, Mrs. Sidney Samuel (Amy Frances Christy)'\n",
            " 'Slabenoff, Mr. Petco' 'Harrington, Mr. Charles H'\n",
            " 'Torber, Mr. Ernst William' 'Homer, Mr. Harry (\"Mr E Haven\")'\n",
            " 'Lindell, Mr. Edvard Bengtsson' 'Karaic, Mr. Milan'\n",
            " 'Daniel, Mr. Robert Williams'\n",
            " 'Laroche, Mrs. Joseph (Juliette Marie Louise Lafargue)'\n",
            " 'Shutes, Miss. Elizabeth W'\n",
            " 'Andersson, Mrs. Anders Johan (Alfrida Konstantia Brogren)'\n",
            " 'Jardin, Mr. Jose Neto' 'Murphy, Miss. Margaret Jane' 'Horgan, Mr. John'\n",
            " 'Brocklebank, Mr. William Alfred' 'Herman, Miss. Alice'\n",
            " 'Danbom, Mr. Ernst Gilbert'\n",
            " 'Lobb, Mrs. William Arthur (Cordelia K Stanlick)'\n",
            " 'Becker, Miss. Marion Louise' 'Gavey, Mr. Lawrence' 'Yasbeck, Mr. Antoni'\n",
            " 'Kimball, Mr. Edwin Nelson Jr' 'Nakid, Mr. Sahid'\n",
            " 'Hansen, Mr. Henry Damsgaard' 'Bowen, Mr. David John \"Dai\"'\n",
            " 'Sutton, Mr. Frederick' 'Kirkland, Rev. Charles Leonard'\n",
            " 'Longley, Miss. Gretchen Fiske' 'Bostandyeff, Mr. Guentcho'\n",
            " \"O'Connell, Mr. Patrick D\" 'Barkworth, Mr. Algernon Henry Wilson'\n",
            " 'Lundahl, Mr. Johan Svensson' 'Stahelin-Maeglin, Dr. Max'\n",
            " 'Parr, Mr. William Henry Marsh' 'Skoog, Miss. Mabel' 'Davis, Miss. Mary'\n",
            " 'Leinonen, Mr. Antti Gustaf' 'Collyer, Mr. Harvey'\n",
            " 'Panula, Mrs. Juha (Maria Emilia Ojala)' 'Thorneycroft, Mr. Percival'\n",
            " 'Jensen, Mr. Hans Peder' 'Sagesser, Mlle. Emma'\n",
            " 'Skoog, Miss. Margit Elizabeth' 'Foo, Mr. Choong'\n",
            " 'Baclini, Miss. Eugenie' 'Harper, Mr. Henry Sleeper' 'Cor, Mr. Liudevit'\n",
            " 'Simonius-Blumer, Col. Oberst Alfons' 'Willey, Mr. Edward'\n",
            " 'Stanley, Miss. Amy Zillah Elsie' 'Mitkoff, Mr. Mito'\n",
            " 'Doling, Miss. Elsie' 'Kalvik, Mr. Johannes Halvorsen'\n",
            " 'O\\'Leary, Miss. Hanora \"Norah\"' 'Hegarty, Miss. Hanora \"Nora\"'\n",
            " 'Hickman, Mr. Leonard Mark' 'Radeff, Mr. Alexander'\n",
            " 'Bourke, Mrs. John (Catherine)' 'Eitemiller, Mr. George Floyd'\n",
            " 'Newell, Mr. Arthur Webster' 'Frauenthal, Dr. Henry William'\n",
            " 'Badt, Mr. Mohamed' 'Colley, Mr. Edward Pomeroy' 'Coleff, Mr. Peju'\n",
            " 'Lindqvist, Mr. Eino William' 'Hickman, Mr. Lewis'\n",
            " 'Butler, Mr. Reginald Fenton' 'Rommetvedt, Mr. Knud Paust'\n",
            " 'Cook, Mr. Jacob' 'Taylor, Mrs. Elmer Zebley (Juliet Cummins Wright)'\n",
            " 'Brown, Mrs. Thomas William Solomon (Elizabeth Catherine Ford)'\n",
            " 'Davidson, Mr. Thornton' 'Mitchell, Mr. Henry Michael'\n",
            " 'Wilhelms, Mr. Charles' 'Watson, Mr. Ennis Hastings'\n",
            " 'Edvardsson, Mr. Gustaf Hjalmar' 'Sawyer, Mr. Frederick Charles'\n",
            " 'Turja, Miss. Anna Sofia' 'Goodwin, Mrs. Frederick (Augusta Tyler)'\n",
            " 'Cardeza, Mr. Thomas Drake Martinez' 'Peters, Miss. Katie'\n",
            " 'Hassab, Mr. Hammad' 'Olsvigen, Mr. Thor Anderson'\n",
            " 'Goodwin, Mr. Charles Edward' 'Brown, Mr. Thomas William Solomon'\n",
            " 'Laroche, Mr. Joseph Philippe Lemercier' 'Panula, Mr. Jaako Arnold'\n",
            " 'Dakic, Mr. Branko' 'Fischer, Mr. Eberhard Thelander'\n",
            " 'Madill, Miss. Georgette Alexandra' 'Dick, Mr. Albert Adrian'\n",
            " 'Karun, Miss. Manca' 'Lam, Mr. Ali' 'Saad, Mr. Khalil' 'Weir, Col. John'\n",
            " 'Chapman, Mr. Charles Henry' 'Kelly, Mr. James'\n",
            " 'Mullens, Miss. Katherine \"Katie\"' 'Thayer, Mr. John Borland'\n",
            " 'Humblen, Mr. Adolf Mathias Nicolai Olsen'\n",
            " 'Astor, Mrs. John Jacob (Madeleine Talmadge Force)'\n",
            " 'Silverthorne, Mr. Spencer Victor' 'Barbara, Miss. Saiide'\n",
            " 'Gallagher, Mr. Martin' 'Hansen, Mr. Henrik Juul'\n",
            " 'Morley, Mr. Henry Samuel (\"Mr Henry Marshall\")'\n",
            " 'Kelly, Mrs. Florence \"Fannie\"' 'Calderhead, Mr. Edward Pennington'\n",
            " 'Cleaver, Miss. Alice'\n",
            " 'Moubarek, Master. Halim Gonios (\"William George\")'\n",
            " 'Mayne, Mlle. Berthe Antonine (\"Mrs de Villiers\")' 'Klaber, Mr. Herman'\n",
            " 'Taylor, Mr. Elmer Zebley' 'Larsson, Mr. August Viktor'\n",
            " 'Greenberg, Mr. Samuel' 'Soholt, Mr. Peter Andreas Lauritz Andersen'\n",
            " 'Endres, Miss. Caroline Louise' 'Troutt, Miss. Edwina Celia \"Winnie\"'\n",
            " 'McEvoy, Mr. Michael' 'Johnson, Mr. Malkolm Joackim'\n",
            " 'Harper, Miss. Annie Jessie \"Nina\"' 'Jensen, Mr. Svend Lauritz'\n",
            " 'Gillespie, Mr. William Henry' 'Hodges, Mr. Henry Price'\n",
            " 'Chambers, Mr. Norman Campbell' 'Oreskovic, Mr. Luka'\n",
            " 'Renouf, Mrs. Peter Henry (Lillian Jefferys)' 'Mannion, Miss. Margareth'\n",
            " 'Bryhl, Mr. Kurt Arnold Gottfrid' 'Ilmakangas, Miss. Pieta Sofia'\n",
            " 'Allen, Miss. Elisabeth Walton' 'Hassan, Mr. Houssein G N'\n",
            " 'Knight, Mr. Robert J' 'Berriman, Mr. William John'\n",
            " 'Troupiansky, Mr. Moses Aaron' 'Williams, Mr. Leslie'\n",
            " 'Ford, Mrs. Edward (Margaret Ann Watson)' 'Lesurer, Mr. Gustave J'\n",
            " 'Ivanoff, Mr. Kanio' 'Nankoff, Mr. Minko' 'Hawksford, Mr. Walter James'\n",
            " 'Cavendish, Mr. Tyrell William' 'Ryerson, Miss. Susan Parker \"Suzette\"'\n",
            " 'McNamee, Mr. Neal' 'Stranden, Mr. Juho' 'Crosby, Capt. Edward Gifford'\n",
            " 'Abbott, Mr. Rossmore Edward' 'Sinkkonen, Miss. Anna'\n",
            " 'Marvin, Mr. Daniel Warner' 'Connaghton, Mr. Michael' 'Wells, Miss. Joan'\n",
            " 'Moor, Master. Meier' 'Vande Velde, Mr. Johannes Joseph'\n",
            " 'Jonkoff, Mr. Lalio' 'Herman, Mrs. Samuel (Jane Laver)'\n",
            " 'Hamalainen, Master. Viljo' 'Carlsson, Mr. August Sigfrid'\n",
            " 'Bailey, Mr. Percy Andrew' 'Theobald, Mr. Thomas Leonard'\n",
            " 'Rothes, the Countess. of (Lucy Noel Martha Dyer-Edwards)'\n",
            " 'Garfirth, Mr. John' 'Nirva, Mr. Iisakki Antino Aijo'\n",
            " 'Barah, Mr. Hanna Assi' 'Carter, Mrs. William Ernest (Lucile Polk)'\n",
            " 'Eklund, Mr. Hans Linus' 'Hogeboom, Mrs. John C (Anna Andrews)'\n",
            " 'Brewe, Dr. Arthur Jackson' 'Mangan, Miss. Mary' 'Moran, Mr. Daniel J'\n",
            " 'Gronnestad, Mr. Daniel Danielsen' 'Lievens, Mr. Rene Aime'\n",
            " 'Jensen, Mr. Niels Peder' 'Mack, Mrs. (Mary)' 'Elias, Mr. Dibo'\n",
            " 'Hocking, Mrs. Elizabeth (Eliza Needs)'\n",
            " 'Myhrman, Mr. Pehr Fabian Oliver Malkolm' 'Tobin, Mr. Roger'\n",
            " 'Emanuel, Miss. Virginia Ethel' 'Kilgannon, Mr. Thomas J'\n",
            " 'Robert, Mrs. Edward Scott (Elisabeth Walton McMillan)'\n",
            " 'Ayoub, Miss. Banoura' 'Dick, Mrs. Albert Adrian (Vera Gillespie)'\n",
            " 'Long, Mr. Milton Clyde' 'Johnston, Mr. Andrew G' 'Ali, Mr. William'\n",
            " 'Harmer, Mr. Abraham (David Lishin)' 'Sjoblom, Miss. Anna Sofia'\n",
            " 'Rice, Master. George Hugh' 'Dean, Master. Bertram Vere'\n",
            " 'Guggenheim, Mr. Benjamin' 'Keane, Mr. Andrew \"Andy\"'\n",
            " 'Gaskell, Mr. Alfred' 'Sage, Miss. Stella Anna'\n",
            " 'Hoyt, Mr. William Fisher' 'Dantcheff, Mr. Ristiu' 'Otter, Mr. Richard'\n",
            " 'Leader, Dr. Alice (Farnham)' 'Osman, Mrs. Mara'\n",
            " 'Ibrahim Shawah, Mr. Yousseff'\n",
            " 'Van Impe, Mrs. Jean Baptiste (Rosalie Paula Govaert)'\n",
            " 'Ponesell, Mr. Martin' 'Collyer, Mrs. Harvey (Charlotte Annie Tate)'\n",
            " 'Carter, Master. William Thornton II' 'Thomas, Master. Assad Alexander'\n",
            " 'Hedman, Mr. Oskar Arvid' 'Johansson, Mr. Karl Johan'\n",
            " 'Andrews, Mr. Thomas Jr' 'Pettersson, Miss. Ellen Natalia'\n",
            " 'Meyer, Mr. August' 'Chambers, Mrs. Norman Campbell (Bertha Griggs)'\n",
            " 'Alexander, Mr. William' 'Lester, Mr. James' 'Slemen, Mr. Richard James'\n",
            " 'Andersson, Miss. Ebba Iris Alfrida' 'Tomlin, Mr. Ernest Portage'\n",
            " 'Fry, Mr. Richard' 'Heininen, Miss. Wendla Maria' 'Mallet, Mr. Albert'\n",
            " 'Holm, Mr. John Fredrik Alexander' 'Skoog, Master. Karl Thorsten'\n",
            " 'Hays, Mrs. Charles Melville (Clara Jennings Gregg)' 'Lulic, Mr. Nikola'\n",
            " 'Reuchlin, Jonkheer. John George' 'Moor, Mrs. (Beila)'\n",
            " 'Panula, Master. Urho Abraham' 'Flynn, Mr. John' 'Lam, Mr. Len'\n",
            " 'Mallet, Master. Andre' 'McCormack, Mr. Thomas Joseph'\n",
            " 'Stone, Mrs. George Nelson (Martha Evelyn)'\n",
            " 'Yasbeck, Mrs. Antoni (Selini Alexander)'\n",
            " 'Richards, Master. George Sibley' 'Saad, Mr. Amin'\n",
            " 'Augustsson, Mr. Albert' 'Allum, Mr. Owen George'\n",
            " 'Compton, Miss. Sara Rebecca' 'Pasic, Mr. Jakob' 'Sirota, Mr. Maurice'\n",
            " 'Chip, Mr. Chang' 'Marechal, Mr. Pierre' 'Alhomaki, Mr. Ilmari Rudolf'\n",
            " 'Mudd, Mr. Thomas Charles' 'Serepeca, Miss. Augusta'\n",
            " 'Lemberopolous, Mr. Peter L' 'Culumovic, Mr. Jeso' 'Abbing, Mr. Anthony'\n",
            " 'Sage, Mr. Douglas Bullen' 'Markoff, Mr. Marin' 'Harper, Rev. John'\n",
            " 'Goldenberg, Mrs. Samuel L (Edwiga Grabowska)'\n",
            " 'Andersson, Master. Sigvard Harald Elias' 'Svensson, Mr. Johan'\n",
            " 'Boulos, Miss. Nourelain' 'Lines, Miss. Mary Conover'\n",
            " 'Carter, Mrs. Ernest Courtenay (Lilian Hughes)'\n",
            " 'Aks, Mrs. Sam (Leah Rosen)' 'Wick, Mrs. George Dennick (Mary Hitchcock)'\n",
            " 'Daly, Mr. Peter Denis ' 'Baclini, Mrs. Solomon (Latifa Qurban)'\n",
            " 'Razi, Mr. Raihed' 'Hansen, Mr. Claus Peter'\n",
            " 'Giles, Mr. Frederick Edward'\n",
            " 'Swift, Mrs. Frederick Joel (Margaret Welles Barron)'\n",
            " 'Sage, Miss. Dorothy Edith \"Dolly\"' 'Gill, Mr. John William'\n",
            " 'Bystrom, Mrs. (Karolina)' 'Duran y More, Miss. Asuncion'\n",
            " 'Roebling, Mr. Washington Augustus II' 'van Melkebeke, Mr. Philemon'\n",
            " 'Johnson, Master. Harold Theodor' 'Balkic, Mr. Cerin'\n",
            " 'Beckwith, Mrs. Richard Leonard (Sallie Monypeny)'\n",
            " 'Carlsson, Mr. Frans Olof' 'Vander Cruyssen, Mr. Victor'\n",
            " 'Abelson, Mrs. Samuel (Hannah Wizosky)'\n",
            " 'Najib, Miss. Adele Kiamie \"Jane\"' 'Gustafsson, Mr. Alfred Ossian'\n",
            " 'Petroff, Mr. Nedelio' 'Laleff, Mr. Kristo'\n",
            " 'Potter, Mrs. Thomas Jr (Lily Alexenia Wilson)'\n",
            " 'Shelley, Mrs. William (Imanita Parrish Hall)' 'Markun, Mr. Johann'\n",
            " 'Dahlberg, Miss. Gerda Ulrika' 'Banfield, Mr. Frederick James'\n",
            " 'Sutehall, Mr. Henry Jr' 'Rice, Mrs. William (Margaret Norton)'\n",
            " 'Montvila, Rev. Juozas' 'Graham, Miss. Margaret Edith'\n",
            " 'Johnston, Miss. Catherine Helen \"Carrie\"' 'Behr, Mr. Karl Howell'\n",
            " 'Dooley, Mr. Patrick']\n",
            "\n",
            "Sex: \n",
            "['male' 'female']\n",
            "\n",
            "Ticket: \n",
            "['A/5 21171' 'PC 17599' 'STON/O2. 3101282' '113803' '373450' '330877'\n",
            " '17463' '349909' '347742' '237736' 'PP 9549' '113783' 'A/5. 2151'\n",
            " '347082' '350406' '248706' '382652' '244373' '345763' '2649' '239865'\n",
            " '248698' '330923' '113788' '347077' '2631' '19950' '330959' '349216'\n",
            " 'PC 17601' 'PC 17569' '335677' 'C.A. 24579' 'PC 17604' '113789' '2677'\n",
            " 'A./5. 2152' '345764' '2651' '7546' '11668' '349253' 'SC/Paris 2123'\n",
            " '330958' 'S.C./A.4. 23567' '370371' '14311' '2662' '349237' '3101295'\n",
            " 'A/4. 39886' 'PC 17572' '2926' '113509' '19947' 'C.A. 31026' '2697'\n",
            " 'C.A. 34651' 'CA 2144' '2669' '113572' '36973' '347088' 'PC 17605' '2661'\n",
            " 'C.A. 29395' 'S.P. 3464' '3101281' '315151' 'C.A. 33111' 'S.O.C. 14879'\n",
            " '2680' '1601' '348123' '349208' '374746' '248738' '364516' '345767'\n",
            " '345779' '330932' '113059' 'SO/C 14885' '3101278' 'W./C. 6608'\n",
            " 'SOTON/OQ 392086' '343275' '343276' '347466' 'W.E.P. 5734' 'C.A. 2315'\n",
            " '364500' '374910' 'PC 17754' 'PC 17759' '231919' '244367' '349245'\n",
            " '349215' '35281' '7540' '3101276' '349207' '343120' '312991' '349249'\n",
            " '371110' '110465' '2665' '324669' '4136' '2627' 'STON/O 2. 3101294'\n",
            " '370369' 'PC 17558' 'A4. 54510' '27267' '370372' 'C 17369' '2668'\n",
            " '347061' '349241' 'SOTON/O.Q. 3101307' 'A/5. 3337' '228414' 'C.A. 29178'\n",
            " 'SC/PARIS 2133' '11752' '7534' 'PC 17593' '2678' '347081'\n",
            " 'STON/O2. 3101279' '365222' '231945' 'C.A. 33112' '350043' '230080'\n",
            " '244310' 'S.O.P. 1166' '113776' 'A.5. 11206' 'A/5. 851' 'Fa 265302'\n",
            " 'PC 17597' '35851' 'SOTON/OQ 392090' '315037' 'CA. 2343' '371362'\n",
            " 'C.A. 33595' '347068' '315093' '363291' '113505' 'PC 17318' '111240'\n",
            " 'STON/O 2. 3101280' '17764' '350404' '4133' 'PC 17595' '250653' 'LINE'\n",
            " 'SC/PARIS 2131' '230136' '315153' '113767' '370365' '111428' '364849'\n",
            " '349247' '234604' '28424' '350046' 'PC 17610' '368703' '4579' '370370'\n",
            " '248747' '345770' '3101264' '2628' 'A/5 3540' '347054' '2699' '367231'\n",
            " '112277' 'SOTON/O.Q. 3101311' 'F.C.C. 13528' 'A/5 21174' '250646'\n",
            " '367229' '35273' 'STON/O2. 3101283' '243847' '11813' 'W/C 14208'\n",
            " 'SOTON/OQ 392089' '220367' '21440' '349234' '19943' 'PP 4348' 'SW/PP 751'\n",
            " 'A/5 21173' '236171' '347067' '237442' 'C.A. 29566' 'W./C. 6609' '26707'\n",
            " 'C.A. 31921' '28665' 'SCO/W 1585' '367230' 'W./C. 14263'\n",
            " 'STON/O 2. 3101275' '2694' '19928' '347071' '250649' '11751' '244252'\n",
            " '362316' '113514' 'A/5. 3336' '370129' '2650' 'PC 17585' '110152'\n",
            " 'PC 17755' '230433' '384461' '110413' '112059' '382649' 'C.A. 17248'\n",
            " '347083' 'PC 17582' 'PC 17760' '113798' '250644' 'PC 17596' '370375'\n",
            " '13502' '347073' '239853' 'C.A. 2673' '336439' '347464' '345778'\n",
            " 'A/5. 10482' '113056' '349239' '345774' '349206' '237798' '370373'\n",
            " '19877' '11967' 'SC/Paris 2163' '349236' '349233' 'PC 17612' '2693'\n",
            " '113781' '19988' '9234' '367226' '226593' 'A/5 2466' '17421' 'PC 17758'\n",
            " 'P/PP 3381' 'PC 17485' '11767' 'PC 17608' '250651' '349243'\n",
            " 'F.C.C. 13529' '347470' '29011' '36928' '16966' 'A/5 21172' '349219'\n",
            " '234818' '345364' '28551' '111361' '113043' 'PC 17611' '349225' '7598'\n",
            " '113784' '248740' '244361' '229236' '248733' '31418' '386525'\n",
            " 'C.A. 37671' '315088' '7267' '113510' '2695' '2647' '345783' '237671'\n",
            " '330931' '330980' 'SC/PARIS 2167' '2691' 'SOTON/O.Q. 3101310' 'C 7076'\n",
            " '110813' '2626' '14313' 'PC 17477' '11765' '3101267' '323951' 'C 7077'\n",
            " '113503' '2648' '347069' 'PC 17757' '2653' 'STON/O 2. 3101293' '349227'\n",
            " '27849' '367655' 'SC 1748' '113760' '350034' '3101277' '350052' '350407'\n",
            " '28403' '244278' '240929' 'STON/O 2. 3101289' '341826' '4137' '315096'\n",
            " '28664' '347064' '29106' '312992' '349222' '394140' 'STON/O 2. 3101269'\n",
            " '343095' '28220' '250652' '28228' '345773' '349254' 'A/5. 13032' '315082'\n",
            " '347080' 'A/4. 34244' '2003' '250655' '364851' 'SOTON/O.Q. 392078'\n",
            " '110564' '376564' 'SC/AH 3085' 'STON/O 2. 3101274' '13507' 'C.A. 18723'\n",
            " '345769' '347076' '230434' '65306' '33638' '113794' '2666' '113786'\n",
            " '65303' '113051' '17453' 'A/5 2817' '349240' '13509' '17464'\n",
            " 'F.C.C. 13531' '371060' '19952' '364506' '111320' '234360' 'A/S 2816'\n",
            " 'SOTON/O.Q. 3101306' '113792' '36209' '323592' '315089' 'SC/AH Basle 541'\n",
            " '7553' '31027' '3460' '350060' '3101298' '239854' 'A/5 3594' '4134'\n",
            " '11771' 'A.5. 18509' '65304' 'SOTON/OQ 3101317' '113787' 'PC 17609'\n",
            " 'A/4 45380' '36947' 'C.A. 6212' '350035' '315086' '364846' '330909'\n",
            " '4135' '26360' '111427' 'C 4001' '382651' 'SOTON/OQ 3101316' 'PC 17473'\n",
            " 'PC 17603' '349209' '36967' 'C.A. 34260' '226875' '349242' '12749'\n",
            " '349252' '2624' '2700' '367232' 'W./C. 14258' 'PC 17483' '3101296'\n",
            " '29104' '2641' '2690' '315084' '113050' 'PC 17761' '364498' '13568'\n",
            " 'WE/P 5735' '2908' '693' 'SC/PARIS 2146' '244358' '330979' '2620'\n",
            " '347085' '113807' '11755' '345572' '372622' '349251' '218629'\n",
            " 'SOTON/OQ 392082' 'SOTON/O.Q. 392087' 'A/4 48871' '349205' '2686'\n",
            " '350417' 'S.W./PP 752' '11769' 'PC 17474' '14312' 'A/4. 20589' '358585'\n",
            " '243880' '2689' 'STON/O 2. 3101286' '237789' '13049' '3411' '237565'\n",
            " '13567' '14973' 'A./5. 3235' 'STON/O 2. 3101273' 'A/5 3902' '364848'\n",
            " 'SC/AH 29037' '248727' '2664' '349214' '113796' '364511' '111426'\n",
            " '349910' '349246' '113804' 'SOTON/O.Q. 3101305' '370377' '364512'\n",
            " '220845' '31028' '2659' '11753' '350029' '54636' '36963' '219533'\n",
            " '349224' '334912' '27042' '347743' '13214' '112052' '237668'\n",
            " 'STON/O 2. 3101292' '350050' '349231' '13213' 'S.O./P.P. 751' 'CA. 2314'\n",
            " '349221' '8475' '330919' '365226' '349223' '29751' '2623' '5727' '349210'\n",
            " 'STON/O 2. 3101285' '234686' '312993' 'A/5 3536' '19996' '29750'\n",
            " 'F.C. 12750' 'C.A. 24580' '244270' '239856' '349912' '342826' '4138'\n",
            " '330935' '6563' '349228' '350036' '24160' '17474' '349256' '2672'\n",
            " '113800' '248731' '363592' '35852' '348121' 'PC 17475' '36864' '350025'\n",
            " '223596' 'PC 17476' 'PC 17482' '113028' '7545' '250647' '348124' '34218'\n",
            " '36568' '347062' '350048' '12233' '250643' '113806' '315094' '36866'\n",
            " '236853' 'STON/O2. 3101271' '239855' '28425' '233639' '349201' '349218'\n",
            " '16988' '376566' 'STON/O 2. 3101288' '250648' '113773' '335097' '29103'\n",
            " '392096' '345780' '349204' '350042' '29108' '363294' 'SOTON/O2 3101272'\n",
            " '2663' '347074' '112379' '364850' '8471' '345781' '350047' 'S.O./P.P. 3'\n",
            " '2674' '29105' '347078' '383121' '36865' '2687' '113501' 'W./C. 6607'\n",
            " 'SOTON/O.Q. 3101312' '374887' '3101265' '12460' 'PC 17600' '349203'\n",
            " '28213' '17465' '349244' '2685' '2625' '347089' '347063' '112050'\n",
            " '347087' '248723' '3474' '28206' '364499' '112058' 'STON/O2. 3101290'\n",
            " 'S.C./PARIS 2079' 'C 7075' '315098' '19972' '368323' '367228' '2671'\n",
            " '347468' '2223' 'PC 17756' '315097' '392092' '11774' 'SOTON/O2 3101287'\n",
            " '2683' '315090' 'C.A. 5547' '349213' '347060' 'PC 17592' '392091'\n",
            " '113055' '2629' '350026' '28134' '17466' '233866' '236852'\n",
            " 'SC/PARIS 2149' 'PC 17590' '345777' '349248' '695' '345765' '2667'\n",
            " '349212' '349217' '349257' '7552' 'C.A./SOTON 34068' 'SOTON/OQ 392076'\n",
            " '211536' '112053' '111369' '370376']\n",
            "\n",
            "Cabin: \n",
            "[nan 'C85' 'C123' 'E46' 'G6' 'C103' 'D56' 'A6' 'C23 C25 C27' 'B78' 'D33'\n",
            " 'B30' 'C52' 'B28' 'C83' 'F33' 'F G73' 'E31' 'A5' 'D10 D12' 'D26' 'C110'\n",
            " 'B58 B60' 'E101' 'F E69' 'D47' 'B86' 'F2' 'C2' 'E33' 'B19' 'A7' 'C49'\n",
            " 'F4' 'A32' 'B4' 'B80' 'A31' 'D36' 'D15' 'C93' 'C78' 'D35' 'C87' 'B77'\n",
            " 'E67' 'B94' 'C125' 'C99' 'C118' 'D7' 'A19' 'B49' 'D' 'C22 C26' 'C106'\n",
            " 'C65' 'E36' 'C54' 'B57 B59 B63 B66' 'C7' 'E34' 'C32' 'B18' 'C124' 'C91'\n",
            " 'E40' 'T' 'C128' 'D37' 'B35' 'E50' 'C82' 'B96 B98' 'E10' 'E44' 'A34'\n",
            " 'C104' 'C111' 'C92' 'E38' 'D21' 'E12' 'E63' 'A14' 'B37' 'C30' 'D20' 'B79'\n",
            " 'E25' 'D46' 'B73' 'C95' 'B38' 'B39' 'B22' 'C86' 'C70' 'A16' 'C101' 'C68'\n",
            " 'A10' 'E68' 'B41' 'A20' 'D19' 'D50' 'D9' 'A23' 'B50' 'A26' 'D48' 'E58'\n",
            " 'C126' 'B71' 'B51 B53 B55' 'D49' 'B5' 'B20' 'F G63' 'C62 C64' 'E24' 'C90'\n",
            " 'C45' 'E8' 'B101' 'D45' 'C46' 'D30' 'E121' 'D11' 'E77' 'F38' 'B3' 'D6'\n",
            " 'B82 B84' 'D17' 'A36' 'B102' 'B69' 'E49' 'C47' 'D28' 'E17' 'A24' 'C50'\n",
            " 'B42' 'C148']\n",
            "\n",
            "Embarked: \n",
            "['S' 'C' 'Q' nan]\n",
            "\n"
          ]
        }
      ]
    },
    {
      "cell_type": "code",
      "source": [
        "cat.columns"
      ],
      "metadata": {
        "colab": {
          "base_uri": "https://localhost:8080/"
        },
        "id": "RMEjw8umOndM",
        "outputId": "b5094b5f-68d8-4573-bc0d-2fba54519e7a"
      },
      "execution_count": 106,
      "outputs": [
        {
          "output_type": "execute_result",
          "data": {
            "text/plain": [
              "Index(['Name', 'Sex', 'Ticket', 'Cabin', 'Embarked'], dtype='object')"
            ]
          },
          "metadata": {},
          "execution_count": 106
        }
      ]
    },
    {
      "cell_type": "code",
      "source": [
        "df= pd.get_dummies(df, columns=['Sex'], drop_first=True) "
      ],
      "metadata": {
        "id": "tzF8qU96OnXU"
      },
      "execution_count": 107,
      "outputs": []
    },
    {
      "cell_type": "code",
      "source": [
        "df.drop(['PassengerId','Name','Ticket'],axis=1,inplace=True)"
      ],
      "metadata": {
        "id": "a-eFpdaKOwdG"
      },
      "execution_count": 108,
      "outputs": []
    },
    {
      "cell_type": "code",
      "source": [
        "df.head()"
      ],
      "metadata": {
        "colab": {
          "base_uri": "https://localhost:8080/",
          "height": 206
        },
        "id": "C7KcVA5xOwa9",
        "outputId": "64660049-b264-468f-ec0a-1c23c1a072ae"
      },
      "execution_count": 109,
      "outputs": [
        {
          "output_type": "execute_result",
          "data": {
            "text/plain": [
              "   Survived  Pclass   Age  SibSp  Parch     Fare  Embarked_Q  Embarked_S  \\\n",
              "0         0       3  22.0      1      0   7.2500           0           1   \n",
              "1         1       1  38.0      1      0  71.2833           0           0   \n",
              "2         1       3  26.0      0      0   7.9250           0           1   \n",
              "3         1       1  35.0      1      0  53.1000           0           1   \n",
              "4         0       3  35.0      0      0   8.0500           0           1   \n",
              "\n",
              "   Sex_male  \n",
              "0         1  \n",
              "1         0  \n",
              "2         0  \n",
              "3         0  \n",
              "4         1  "
            ],
            "text/html": [
              "\n",
              "  <div id=\"df-841bab0b-e068-430a-bc3b-b7b8be442cde\">\n",
              "    <div class=\"colab-df-container\">\n",
              "      <div>\n",
              "<style scoped>\n",
              "    .dataframe tbody tr th:only-of-type {\n",
              "        vertical-align: middle;\n",
              "    }\n",
              "\n",
              "    .dataframe tbody tr th {\n",
              "        vertical-align: top;\n",
              "    }\n",
              "\n",
              "    .dataframe thead th {\n",
              "        text-align: right;\n",
              "    }\n",
              "</style>\n",
              "<table border=\"1\" class=\"dataframe\">\n",
              "  <thead>\n",
              "    <tr style=\"text-align: right;\">\n",
              "      <th></th>\n",
              "      <th>Survived</th>\n",
              "      <th>Pclass</th>\n",
              "      <th>Age</th>\n",
              "      <th>SibSp</th>\n",
              "      <th>Parch</th>\n",
              "      <th>Fare</th>\n",
              "      <th>Embarked_Q</th>\n",
              "      <th>Embarked_S</th>\n",
              "      <th>Sex_male</th>\n",
              "    </tr>\n",
              "  </thead>\n",
              "  <tbody>\n",
              "    <tr>\n",
              "      <th>0</th>\n",
              "      <td>0</td>\n",
              "      <td>3</td>\n",
              "      <td>22.0</td>\n",
              "      <td>1</td>\n",
              "      <td>0</td>\n",
              "      <td>7.2500</td>\n",
              "      <td>0</td>\n",
              "      <td>1</td>\n",
              "      <td>1</td>\n",
              "    </tr>\n",
              "    <tr>\n",
              "      <th>1</th>\n",
              "      <td>1</td>\n",
              "      <td>1</td>\n",
              "      <td>38.0</td>\n",
              "      <td>1</td>\n",
              "      <td>0</td>\n",
              "      <td>71.2833</td>\n",
              "      <td>0</td>\n",
              "      <td>0</td>\n",
              "      <td>0</td>\n",
              "    </tr>\n",
              "    <tr>\n",
              "      <th>2</th>\n",
              "      <td>1</td>\n",
              "      <td>3</td>\n",
              "      <td>26.0</td>\n",
              "      <td>0</td>\n",
              "      <td>0</td>\n",
              "      <td>7.9250</td>\n",
              "      <td>0</td>\n",
              "      <td>1</td>\n",
              "      <td>0</td>\n",
              "    </tr>\n",
              "    <tr>\n",
              "      <th>3</th>\n",
              "      <td>1</td>\n",
              "      <td>1</td>\n",
              "      <td>35.0</td>\n",
              "      <td>1</td>\n",
              "      <td>0</td>\n",
              "      <td>53.1000</td>\n",
              "      <td>0</td>\n",
              "      <td>1</td>\n",
              "      <td>0</td>\n",
              "    </tr>\n",
              "    <tr>\n",
              "      <th>4</th>\n",
              "      <td>0</td>\n",
              "      <td>3</td>\n",
              "      <td>35.0</td>\n",
              "      <td>0</td>\n",
              "      <td>0</td>\n",
              "      <td>8.0500</td>\n",
              "      <td>0</td>\n",
              "      <td>1</td>\n",
              "      <td>1</td>\n",
              "    </tr>\n",
              "  </tbody>\n",
              "</table>\n",
              "</div>\n",
              "      <button class=\"colab-df-convert\" onclick=\"convertToInteractive('df-841bab0b-e068-430a-bc3b-b7b8be442cde')\"\n",
              "              title=\"Convert this dataframe to an interactive table.\"\n",
              "              style=\"display:none;\">\n",
              "        \n",
              "  <svg xmlns=\"http://www.w3.org/2000/svg\" height=\"24px\"viewBox=\"0 0 24 24\"\n",
              "       width=\"24px\">\n",
              "    <path d=\"M0 0h24v24H0V0z\" fill=\"none\"/>\n",
              "    <path d=\"M18.56 5.44l.94 2.06.94-2.06 2.06-.94-2.06-.94-.94-2.06-.94 2.06-2.06.94zm-11 1L8.5 8.5l.94-2.06 2.06-.94-2.06-.94L8.5 2.5l-.94 2.06-2.06.94zm10 10l.94 2.06.94-2.06 2.06-.94-2.06-.94-.94-2.06-.94 2.06-2.06.94z\"/><path d=\"M17.41 7.96l-1.37-1.37c-.4-.4-.92-.59-1.43-.59-.52 0-1.04.2-1.43.59L10.3 9.45l-7.72 7.72c-.78.78-.78 2.05 0 2.83L4 21.41c.39.39.9.59 1.41.59.51 0 1.02-.2 1.41-.59l7.78-7.78 2.81-2.81c.8-.78.8-2.07 0-2.86zM5.41 20L4 18.59l7.72-7.72 1.47 1.35L5.41 20z\"/>\n",
              "  </svg>\n",
              "      </button>\n",
              "      \n",
              "  <style>\n",
              "    .colab-df-container {\n",
              "      display:flex;\n",
              "      flex-wrap:wrap;\n",
              "      gap: 12px;\n",
              "    }\n",
              "\n",
              "    .colab-df-convert {\n",
              "      background-color: #E8F0FE;\n",
              "      border: none;\n",
              "      border-radius: 50%;\n",
              "      cursor: pointer;\n",
              "      display: none;\n",
              "      fill: #1967D2;\n",
              "      height: 32px;\n",
              "      padding: 0 0 0 0;\n",
              "      width: 32px;\n",
              "    }\n",
              "\n",
              "    .colab-df-convert:hover {\n",
              "      background-color: #E2EBFA;\n",
              "      box-shadow: 0px 1px 2px rgba(60, 64, 67, 0.3), 0px 1px 3px 1px rgba(60, 64, 67, 0.15);\n",
              "      fill: #174EA6;\n",
              "    }\n",
              "\n",
              "    [theme=dark] .colab-df-convert {\n",
              "      background-color: #3B4455;\n",
              "      fill: #D2E3FC;\n",
              "    }\n",
              "\n",
              "    [theme=dark] .colab-df-convert:hover {\n",
              "      background-color: #434B5C;\n",
              "      box-shadow: 0px 1px 3px 1px rgba(0, 0, 0, 0.15);\n",
              "      filter: drop-shadow(0px 1px 2px rgba(0, 0, 0, 0.3));\n",
              "      fill: #FFFFFF;\n",
              "    }\n",
              "  </style>\n",
              "\n",
              "      <script>\n",
              "        const buttonEl =\n",
              "          document.querySelector('#df-841bab0b-e068-430a-bc3b-b7b8be442cde button.colab-df-convert');\n",
              "        buttonEl.style.display =\n",
              "          google.colab.kernel.accessAllowed ? 'block' : 'none';\n",
              "\n",
              "        async function convertToInteractive(key) {\n",
              "          const element = document.querySelector('#df-841bab0b-e068-430a-bc3b-b7b8be442cde');\n",
              "          const dataTable =\n",
              "            await google.colab.kernel.invokeFunction('convertToInteractive',\n",
              "                                                     [key], {});\n",
              "          if (!dataTable) return;\n",
              "\n",
              "          const docLinkHtml = 'Like what you see? Visit the ' +\n",
              "            '<a target=\"_blank\" href=https://colab.research.google.com/notebooks/data_table.ipynb>data table notebook</a>'\n",
              "            + ' to learn more about interactive tables.';\n",
              "          element.innerHTML = '';\n",
              "          dataTable['output_type'] = 'display_data';\n",
              "          await google.colab.output.renderOutput(dataTable, element);\n",
              "          const docLink = document.createElement('div');\n",
              "          docLink.innerHTML = docLinkHtml;\n",
              "          element.appendChild(docLink);\n",
              "        }\n",
              "      </script>\n",
              "    </div>\n",
              "  </div>\n",
              "  "
            ]
          },
          "metadata": {},
          "execution_count": 109
        }
      ]
    },
    {
      "cell_type": "code",
      "source": [
        "df.info()"
      ],
      "metadata": {
        "colab": {
          "base_uri": "https://localhost:8080/"
        },
        "id": "XIFJ6wlWOwXn",
        "outputId": "035d0705-7e18-4921-9eb1-8f6d1973adfd"
      },
      "execution_count": 110,
      "outputs": [
        {
          "output_type": "stream",
          "name": "stdout",
          "text": [
            "<class 'pandas.core.frame.DataFrame'>\n",
            "RangeIndex: 891 entries, 0 to 890\n",
            "Data columns (total 9 columns):\n",
            " #   Column      Non-Null Count  Dtype  \n",
            "---  ------      --------------  -----  \n",
            " 0   Survived    891 non-null    int64  \n",
            " 1   Pclass      891 non-null    int64  \n",
            " 2   Age         891 non-null    float64\n",
            " 3   SibSp       891 non-null    int64  \n",
            " 4   Parch       891 non-null    int64  \n",
            " 5   Fare        891 non-null    float64\n",
            " 6   Embarked_Q  891 non-null    uint8  \n",
            " 7   Embarked_S  891 non-null    uint8  \n",
            " 8   Sex_male    891 non-null    uint8  \n",
            "dtypes: float64(2), int64(4), uint8(3)\n",
            "memory usage: 44.5 KB\n"
          ]
        }
      ]
    },
    {
      "cell_type": "markdown",
      "source": [
        "**INPUT AND OUTPUT SPLIT**"
      ],
      "metadata": {
        "id": "Z1ctsYNLO1bL"
      }
    },
    {
      "cell_type": "code",
      "source": [
        "x=df.drop(['Survived'],axis=1)\n",
        "y=df['Survived']"
      ],
      "metadata": {
        "id": "bWEfgvNIOwUV"
      },
      "execution_count": 111,
      "outputs": []
    },
    {
      "cell_type": "code",
      "source": [
        "x.shape,y.shape"
      ],
      "metadata": {
        "colab": {
          "base_uri": "https://localhost:8080/"
        },
        "id": "c7WFXoHZOwQn",
        "outputId": "aa4a8a6e-140f-4485-c1bb-ecbed0d072f4"
      },
      "execution_count": 112,
      "outputs": [
        {
          "output_type": "execute_result",
          "data": {
            "text/plain": [
              "((891, 8), (891,))"
            ]
          },
          "metadata": {},
          "execution_count": 112
        }
      ]
    },
    {
      "cell_type": "code",
      "source": [
        "df1.info() #To stop execution "
      ],
      "metadata": {
        "id": "TjCCyRb8clgX"
      },
      "execution_count": null,
      "outputs": []
    },
    {
      "cell_type": "markdown",
      "source": [
        "\n",
        "\n",
        "---\n",
        "\n"
      ],
      "metadata": {
        "id": "6HDbxl1PPB5F"
      }
    },
    {
      "cell_type": "markdown",
      "source": [
        "**AMERICAN EXPRESS DATASET**"
      ],
      "metadata": {
        "id": "NA1bfIouPZO5"
      }
    },
    {
      "cell_type": "code",
      "source": [
        "# This Python 3 environment comes with many helpful analytics libraries installed\n",
        "# It is defined by the kaggle/python Docker image: https://github.com/kaggle/docker-python\n",
        "# For example, here's several helpful packages to load\n",
        "\n",
        "import numpy as np # linear algebra\n",
        "import pandas as pd # data processing, CSV file I/O (e.g. pd.read_csv)\n",
        "import matplotlib.pyplot as plt\n",
        "import seaborn as sns\n",
        "\n",
        "import warnings\n",
        "warnings.filterwarnings(\"ignore\")\n",
        "\n",
        "# Input data files are available in the read-only \"../input/\" directory\n",
        "# For example, running this (by clicking run or pressing Shift+Enter) will list all files under the input directory\n",
        "\n",
        "import os\n",
        "for dirname, _, filenames in os.walk('/kaggle/input'):\n",
        "    for filename in filenames:\n",
        "        print(os.path.join(dirname, filename))\n",
        "\n",
        "# You can write up to 20GB to the current directory (/kaggle/working/) that gets preserved as output when you create a version using \"Save & Run All\" \n",
        "# You can also write temporary files to /kaggle/temp/, but they won't be saved outside of the current session"
      ],
      "metadata": {
        "_uuid": "8f2839f25d086af736a60e9eeb907d3b93b6e0e5",
        "_cell_guid": "b1076dfc-b9ad-4769-8c92-a6c4dae69d19",
        "execution": {
          "iopub.status.busy": "2022-11-04T12:38:20.451697Z",
          "iopub.execute_input": "2022-11-04T12:38:20.452114Z",
          "iopub.status.idle": "2022-11-04T12:38:20.463934Z",
          "shell.execute_reply.started": "2022-11-04T12:38:20.452083Z",
          "shell.execute_reply": "2022-11-04T12:38:20.462067Z"
        },
        "trusted": true,
        "id": "Gjx1U2CTLkC7"
      },
      "execution_count": 121,
      "outputs": []
    },
    {
      "cell_type": "code",
      "source": [
        "# importing StandardScaler for standardization\n",
        "from sklearn.preprocessing import StandardScaler\n",
        "# importing OnHotEncoder for encoding categorical variable\n",
        "from sklearn.preprocessing import OneHotEncoder, LabelEncoder\n",
        "# importing SimpleImputer for handling missing value\n",
        "from sklearn.impute import SimpleImputer\n",
        "# importing StandardScaler for standardization\n",
        "from sklearn.preprocessing import StandardScaler, MinMaxScaler\n",
        "# importing OnHotEncoder for encoding categorical variable\n",
        "from sklearn.preprocessing import OneHotEncoder, OrdinalEncoder\n",
        "#importing Pipeline for making pipelines\n",
        "from imblearn.pipeline import Pipeline\n",
        "# importing for transformation\n",
        "from sklearn.compose import ColumnTransformer\n",
        "# importing train_test_split for train and validation split\n",
        "from sklearn.model_selection import train_test_split"
      ],
      "metadata": {
        "execution": {
          "iopub.status.busy": "2022-11-04T12:38:20.497025Z",
          "iopub.execute_input": "2022-11-04T12:38:20.497534Z",
          "iopub.status.idle": "2022-11-04T12:38:20.505575Z",
          "shell.execute_reply.started": "2022-11-04T12:38:20.497481Z",
          "shell.execute_reply": "2022-11-04T12:38:20.503870Z"
        },
        "trusted": true,
        "id": "OsiShxzNLkC-"
      },
      "execution_count": 85,
      "outputs": []
    },
    {
      "cell_type": "code",
      "source": [
        "# Loading dataset train_data.csv\n",
        "df_train=pd.read_csv('../input/amex-default-prediction/train_data.csv',nrows=200000)\n",
        "df_train.head()"
      ],
      "metadata": {
        "execution": {
          "iopub.status.busy": "2022-11-04T12:38:20.566053Z",
          "iopub.execute_input": "2022-11-04T12:38:20.567003Z",
          "iopub.status.idle": "2022-11-04T12:38:31.635777Z",
          "shell.execute_reply.started": "2022-11-04T12:38:20.566952Z",
          "shell.execute_reply": "2022-11-04T12:38:31.634790Z"
        },
        "trusted": true,
        "id": "5dRVH4jeLkC_",
        "outputId": "9f2cb37a-4748-46f0-9faa-da57d561e8c1"
      },
      "execution_count": null,
      "outputs": [
        {
          "execution_count": 341,
          "output_type": "execute_result",
          "data": {
            "text/plain": "                                         customer_ID         S_2       P_2  \\\n0  0000099d6bd597052cdcda90ffabf56573fe9d7c79be5f...  2017-03-09  0.938469   \n1  0000099d6bd597052cdcda90ffabf56573fe9d7c79be5f...  2017-04-07  0.936665   \n2  0000099d6bd597052cdcda90ffabf56573fe9d7c79be5f...  2017-05-28  0.954180   \n3  0000099d6bd597052cdcda90ffabf56573fe9d7c79be5f...  2017-06-13  0.960384   \n4  0000099d6bd597052cdcda90ffabf56573fe9d7c79be5f...  2017-07-16  0.947248   \n\n       D_39       B_1       B_2       R_1       S_3      D_41       B_3  ...  \\\n0  0.001733  0.008724  1.006838  0.009228  0.124035  0.008771  0.004709  ...   \n1  0.005775  0.004923  1.000653  0.006151  0.126750  0.000798  0.002714  ...   \n2  0.091505  0.021655  1.009672  0.006815  0.123977  0.007598  0.009423  ...   \n3  0.002455  0.013683  1.002700  0.001373  0.117169  0.000685  0.005531  ...   \n4  0.002483  0.015193  1.000727  0.007605  0.117325  0.004653  0.009312  ...   \n\n   D_136  D_137  D_138     D_139     D_140     D_141  D_142     D_143  \\\n0    NaN    NaN    NaN  0.002427  0.003706  0.003818    NaN  0.000569   \n1    NaN    NaN    NaN  0.003954  0.003167  0.005032    NaN  0.009576   \n2    NaN    NaN    NaN  0.003269  0.007329  0.000427    NaN  0.003429   \n3    NaN    NaN    NaN  0.006117  0.004516  0.003200    NaN  0.008419   \n4    NaN    NaN    NaN  0.003671  0.004946  0.008889    NaN  0.001670   \n\n      D_144     D_145  \n0  0.000610  0.002674  \n1  0.005492  0.009217  \n2  0.006986  0.002603  \n3  0.006527  0.009600  \n4  0.008126  0.009827  \n\n[5 rows x 190 columns]",
            "text/html": "<div>\n<style scoped>\n    .dataframe tbody tr th:only-of-type {\n        vertical-align: middle;\n    }\n\n    .dataframe tbody tr th {\n        vertical-align: top;\n    }\n\n    .dataframe thead th {\n        text-align: right;\n    }\n</style>\n<table border=\"1\" class=\"dataframe\">\n  <thead>\n    <tr style=\"text-align: right;\">\n      <th></th>\n      <th>customer_ID</th>\n      <th>S_2</th>\n      <th>P_2</th>\n      <th>D_39</th>\n      <th>B_1</th>\n      <th>B_2</th>\n      <th>R_1</th>\n      <th>S_3</th>\n      <th>D_41</th>\n      <th>B_3</th>\n      <th>...</th>\n      <th>D_136</th>\n      <th>D_137</th>\n      <th>D_138</th>\n      <th>D_139</th>\n      <th>D_140</th>\n      <th>D_141</th>\n      <th>D_142</th>\n      <th>D_143</th>\n      <th>D_144</th>\n      <th>D_145</th>\n    </tr>\n  </thead>\n  <tbody>\n    <tr>\n      <th>0</th>\n      <td>0000099d6bd597052cdcda90ffabf56573fe9d7c79be5f...</td>\n      <td>2017-03-09</td>\n      <td>0.938469</td>\n      <td>0.001733</td>\n      <td>0.008724</td>\n      <td>1.006838</td>\n      <td>0.009228</td>\n      <td>0.124035</td>\n      <td>0.008771</td>\n      <td>0.004709</td>\n      <td>...</td>\n      <td>NaN</td>\n      <td>NaN</td>\n      <td>NaN</td>\n      <td>0.002427</td>\n      <td>0.003706</td>\n      <td>0.003818</td>\n      <td>NaN</td>\n      <td>0.000569</td>\n      <td>0.000610</td>\n      <td>0.002674</td>\n    </tr>\n    <tr>\n      <th>1</th>\n      <td>0000099d6bd597052cdcda90ffabf56573fe9d7c79be5f...</td>\n      <td>2017-04-07</td>\n      <td>0.936665</td>\n      <td>0.005775</td>\n      <td>0.004923</td>\n      <td>1.000653</td>\n      <td>0.006151</td>\n      <td>0.126750</td>\n      <td>0.000798</td>\n      <td>0.002714</td>\n      <td>...</td>\n      <td>NaN</td>\n      <td>NaN</td>\n      <td>NaN</td>\n      <td>0.003954</td>\n      <td>0.003167</td>\n      <td>0.005032</td>\n      <td>NaN</td>\n      <td>0.009576</td>\n      <td>0.005492</td>\n      <td>0.009217</td>\n    </tr>\n    <tr>\n      <th>2</th>\n      <td>0000099d6bd597052cdcda90ffabf56573fe9d7c79be5f...</td>\n      <td>2017-05-28</td>\n      <td>0.954180</td>\n      <td>0.091505</td>\n      <td>0.021655</td>\n      <td>1.009672</td>\n      <td>0.006815</td>\n      <td>0.123977</td>\n      <td>0.007598</td>\n      <td>0.009423</td>\n      <td>...</td>\n      <td>NaN</td>\n      <td>NaN</td>\n      <td>NaN</td>\n      <td>0.003269</td>\n      <td>0.007329</td>\n      <td>0.000427</td>\n      <td>NaN</td>\n      <td>0.003429</td>\n      <td>0.006986</td>\n      <td>0.002603</td>\n    </tr>\n    <tr>\n      <th>3</th>\n      <td>0000099d6bd597052cdcda90ffabf56573fe9d7c79be5f...</td>\n      <td>2017-06-13</td>\n      <td>0.960384</td>\n      <td>0.002455</td>\n      <td>0.013683</td>\n      <td>1.002700</td>\n      <td>0.001373</td>\n      <td>0.117169</td>\n      <td>0.000685</td>\n      <td>0.005531</td>\n      <td>...</td>\n      <td>NaN</td>\n      <td>NaN</td>\n      <td>NaN</td>\n      <td>0.006117</td>\n      <td>0.004516</td>\n      <td>0.003200</td>\n      <td>NaN</td>\n      <td>0.008419</td>\n      <td>0.006527</td>\n      <td>0.009600</td>\n    </tr>\n    <tr>\n      <th>4</th>\n      <td>0000099d6bd597052cdcda90ffabf56573fe9d7c79be5f...</td>\n      <td>2017-07-16</td>\n      <td>0.947248</td>\n      <td>0.002483</td>\n      <td>0.015193</td>\n      <td>1.000727</td>\n      <td>0.007605</td>\n      <td>0.117325</td>\n      <td>0.004653</td>\n      <td>0.009312</td>\n      <td>...</td>\n      <td>NaN</td>\n      <td>NaN</td>\n      <td>NaN</td>\n      <td>0.003671</td>\n      <td>0.004946</td>\n      <td>0.008889</td>\n      <td>NaN</td>\n      <td>0.001670</td>\n      <td>0.008126</td>\n      <td>0.009827</td>\n    </tr>\n  </tbody>\n</table>\n<p>5 rows × 190 columns</p>\n</div>"
          },
          "metadata": {}
        }
      ]
    },
    {
      "cell_type": "code",
      "source": [
        "# Loading dataset test_data.csv\n",
        "df_test = pd.read_csv('../input/amex-default-prediction/test_data.csv', nrows=100000, index_col='customer_ID')\n",
        "df_test.head()"
      ],
      "metadata": {
        "execution": {
          "iopub.status.busy": "2022-11-04T12:38:31.637656Z",
          "iopub.execute_input": "2022-11-04T12:38:31.638197Z",
          "iopub.status.idle": "2022-11-04T12:38:35.022379Z",
          "shell.execute_reply.started": "2022-11-04T12:38:31.638161Z",
          "shell.execute_reply": "2022-11-04T12:38:35.020917Z"
        },
        "trusted": true,
        "id": "EzSendKtLkC_",
        "outputId": "a6fcaacc-9fee-4f34-cb25-3d717c1fe2a3"
      },
      "execution_count": null,
      "outputs": [
        {
          "execution_count": 342,
          "output_type": "execute_result",
          "data": {
            "text/plain": "                                                           S_2       P_2  \\\ncustomer_ID                                                                \n00000469ba478561f23a92a868bd366de6f6527a684c9a2...  2019-02-19  0.631315   \n00000469ba478561f23a92a868bd366de6f6527a684c9a2...  2019-03-25  0.587042   \n00000469ba478561f23a92a868bd366de6f6527a684c9a2...  2019-04-25  0.609056   \n00000469ba478561f23a92a868bd366de6f6527a684c9a2...  2019-05-20  0.614911   \n00000469ba478561f23a92a868bd366de6f6527a684c9a2...  2019-06-15  0.591673   \n\n                                                        D_39       B_1  \\\ncustomer_ID                                                              \n00000469ba478561f23a92a868bd366de6f6527a684c9a2...  0.001912  0.010728   \n00000469ba478561f23a92a868bd366de6f6527a684c9a2...  0.005275  0.011026   \n00000469ba478561f23a92a868bd366de6f6527a684c9a2...  0.003326  0.016390   \n00000469ba478561f23a92a868bd366de6f6527a684c9a2...  0.009065  0.021672   \n00000469ba478561f23a92a868bd366de6f6527a684c9a2...  0.238794  0.015923   \n\n                                                         B_2       R_1  \\\ncustomer_ID                                                              \n00000469ba478561f23a92a868bd366de6f6527a684c9a2...  0.814497  0.007547   \n00000469ba478561f23a92a868bd366de6f6527a684c9a2...  0.810848  0.001817   \n00000469ba478561f23a92a868bd366de6f6527a684c9a2...  1.004620  0.000114   \n00000469ba478561f23a92a868bd366de6f6527a684c9a2...  0.816549  0.009722   \n00000469ba478561f23a92a868bd366de6f6527a684c9a2...  0.810456  0.002026   \n\n                                                         S_3      D_41  \\\ncustomer_ID                                                              \n00000469ba478561f23a92a868bd366de6f6527a684c9a2...  0.168651  0.009971   \n00000469ba478561f23a92a868bd366de6f6527a684c9a2...  0.241389  0.000166   \n00000469ba478561f23a92a868bd366de6f6527a684c9a2...  0.266976  0.004196   \n00000469ba478561f23a92a868bd366de6f6527a684c9a2...  0.188947  0.004123   \n00000469ba478561f23a92a868bd366de6f6527a684c9a2...  0.180035  0.000731   \n\n                                                         B_3      D_42  ...  \\\ncustomer_ID                                                             ...   \n00000469ba478561f23a92a868bd366de6f6527a684c9a2...  0.002347  0.113189  ...   \n00000469ba478561f23a92a868bd366de6f6527a684c9a2...  0.009132  0.123035  ...   \n00000469ba478561f23a92a868bd366de6f6527a684c9a2...  0.004192  0.125319  ...   \n00000469ba478561f23a92a868bd366de6f6527a684c9a2...  0.015325  0.123439  ...   \n00000469ba478561f23a92a868bd366de6f6527a684c9a2...  0.011281  0.122212  ...   \n\n                                                    D_136  D_137  D_138  \\\ncustomer_ID                                                               \n00000469ba478561f23a92a868bd366de6f6527a684c9a2...    NaN    NaN    NaN   \n00000469ba478561f23a92a868bd366de6f6527a684c9a2...    NaN    NaN    NaN   \n00000469ba478561f23a92a868bd366de6f6527a684c9a2...    NaN    NaN    NaN   \n00000469ba478561f23a92a868bd366de6f6527a684c9a2...    NaN    NaN    NaN   \n00000469ba478561f23a92a868bd366de6f6527a684c9a2...    NaN    NaN    NaN   \n\n                                                       D_139     D_140  \\\ncustomer_ID                                                              \n00000469ba478561f23a92a868bd366de6f6527a684c9a2...       NaN  0.004669   \n00000469ba478561f23a92a868bd366de6f6527a684c9a2...  0.000142  0.004940   \n00000469ba478561f23a92a868bd366de6f6527a684c9a2...  0.000074  0.002114   \n00000469ba478561f23a92a868bd366de6f6527a684c9a2...  0.004743  0.006392   \n00000469ba478561f23a92a868bd366de6f6527a684c9a2...  0.008133  0.004329   \n\n                                                       D_141  D_142     D_143  \\\ncustomer_ID                                                                     \n00000469ba478561f23a92a868bd366de6f6527a684c9a2...       NaN    NaN       NaN   \n00000469ba478561f23a92a868bd366de6f6527a684c9a2...  0.009021    NaN  0.003695   \n00000469ba478561f23a92a868bd366de6f6527a684c9a2...  0.004656    NaN  0.003155   \n00000469ba478561f23a92a868bd366de6f6527a684c9a2...  0.002890    NaN  0.006044   \n00000469ba478561f23a92a868bd366de6f6527a684c9a2...  0.008384    NaN  0.001008   \n\n                                                       D_144     D_145  \ncustomer_ID                                                             \n00000469ba478561f23a92a868bd366de6f6527a684c9a2...  0.008281       NaN  \n00000469ba478561f23a92a868bd366de6f6527a684c9a2...  0.003753  0.001460  \n00000469ba478561f23a92a868bd366de6f6527a684c9a2...  0.002156  0.006482  \n00000469ba478561f23a92a868bd366de6f6527a684c9a2...  0.005206  0.007855  \n00000469ba478561f23a92a868bd366de6f6527a684c9a2...  0.007421  0.009471  \n\n[5 rows x 189 columns]",
            "text/html": "<div>\n<style scoped>\n    .dataframe tbody tr th:only-of-type {\n        vertical-align: middle;\n    }\n\n    .dataframe tbody tr th {\n        vertical-align: top;\n    }\n\n    .dataframe thead th {\n        text-align: right;\n    }\n</style>\n<table border=\"1\" class=\"dataframe\">\n  <thead>\n    <tr style=\"text-align: right;\">\n      <th></th>\n      <th>S_2</th>\n      <th>P_2</th>\n      <th>D_39</th>\n      <th>B_1</th>\n      <th>B_2</th>\n      <th>R_1</th>\n      <th>S_3</th>\n      <th>D_41</th>\n      <th>B_3</th>\n      <th>D_42</th>\n      <th>...</th>\n      <th>D_136</th>\n      <th>D_137</th>\n      <th>D_138</th>\n      <th>D_139</th>\n      <th>D_140</th>\n      <th>D_141</th>\n      <th>D_142</th>\n      <th>D_143</th>\n      <th>D_144</th>\n      <th>D_145</th>\n    </tr>\n    <tr>\n      <th>customer_ID</th>\n      <th></th>\n      <th></th>\n      <th></th>\n      <th></th>\n      <th></th>\n      <th></th>\n      <th></th>\n      <th></th>\n      <th></th>\n      <th></th>\n      <th></th>\n      <th></th>\n      <th></th>\n      <th></th>\n      <th></th>\n      <th></th>\n      <th></th>\n      <th></th>\n      <th></th>\n      <th></th>\n      <th></th>\n    </tr>\n  </thead>\n  <tbody>\n    <tr>\n      <th>00000469ba478561f23a92a868bd366de6f6527a684c9a2e78fb826dcac3b9b7</th>\n      <td>2019-02-19</td>\n      <td>0.631315</td>\n      <td>0.001912</td>\n      <td>0.010728</td>\n      <td>0.814497</td>\n      <td>0.007547</td>\n      <td>0.168651</td>\n      <td>0.009971</td>\n      <td>0.002347</td>\n      <td>0.113189</td>\n      <td>...</td>\n      <td>NaN</td>\n      <td>NaN</td>\n      <td>NaN</td>\n      <td>NaN</td>\n      <td>0.004669</td>\n      <td>NaN</td>\n      <td>NaN</td>\n      <td>NaN</td>\n      <td>0.008281</td>\n      <td>NaN</td>\n    </tr>\n    <tr>\n      <th>00000469ba478561f23a92a868bd366de6f6527a684c9a2e78fb826dcac3b9b7</th>\n      <td>2019-03-25</td>\n      <td>0.587042</td>\n      <td>0.005275</td>\n      <td>0.011026</td>\n      <td>0.810848</td>\n      <td>0.001817</td>\n      <td>0.241389</td>\n      <td>0.000166</td>\n      <td>0.009132</td>\n      <td>0.123035</td>\n      <td>...</td>\n      <td>NaN</td>\n      <td>NaN</td>\n      <td>NaN</td>\n      <td>0.000142</td>\n      <td>0.004940</td>\n      <td>0.009021</td>\n      <td>NaN</td>\n      <td>0.003695</td>\n      <td>0.003753</td>\n      <td>0.001460</td>\n    </tr>\n    <tr>\n      <th>00000469ba478561f23a92a868bd366de6f6527a684c9a2e78fb826dcac3b9b7</th>\n      <td>2019-04-25</td>\n      <td>0.609056</td>\n      <td>0.003326</td>\n      <td>0.016390</td>\n      <td>1.004620</td>\n      <td>0.000114</td>\n      <td>0.266976</td>\n      <td>0.004196</td>\n      <td>0.004192</td>\n      <td>0.125319</td>\n      <td>...</td>\n      <td>NaN</td>\n      <td>NaN</td>\n      <td>NaN</td>\n      <td>0.000074</td>\n      <td>0.002114</td>\n      <td>0.004656</td>\n      <td>NaN</td>\n      <td>0.003155</td>\n      <td>0.002156</td>\n      <td>0.006482</td>\n    </tr>\n    <tr>\n      <th>00000469ba478561f23a92a868bd366de6f6527a684c9a2e78fb826dcac3b9b7</th>\n      <td>2019-05-20</td>\n      <td>0.614911</td>\n      <td>0.009065</td>\n      <td>0.021672</td>\n      <td>0.816549</td>\n      <td>0.009722</td>\n      <td>0.188947</td>\n      <td>0.004123</td>\n      <td>0.015325</td>\n      <td>0.123439</td>\n      <td>...</td>\n      <td>NaN</td>\n      <td>NaN</td>\n      <td>NaN</td>\n      <td>0.004743</td>\n      <td>0.006392</td>\n      <td>0.002890</td>\n      <td>NaN</td>\n      <td>0.006044</td>\n      <td>0.005206</td>\n      <td>0.007855</td>\n    </tr>\n    <tr>\n      <th>00000469ba478561f23a92a868bd366de6f6527a684c9a2e78fb826dcac3b9b7</th>\n      <td>2019-06-15</td>\n      <td>0.591673</td>\n      <td>0.238794</td>\n      <td>0.015923</td>\n      <td>0.810456</td>\n      <td>0.002026</td>\n      <td>0.180035</td>\n      <td>0.000731</td>\n      <td>0.011281</td>\n      <td>0.122212</td>\n      <td>...</td>\n      <td>NaN</td>\n      <td>NaN</td>\n      <td>NaN</td>\n      <td>0.008133</td>\n      <td>0.004329</td>\n      <td>0.008384</td>\n      <td>NaN</td>\n      <td>0.001008</td>\n      <td>0.007421</td>\n      <td>0.009471</td>\n    </tr>\n  </tbody>\n</table>\n<p>5 rows × 189 columns</p>\n</div>"
          },
          "metadata": {}
        }
      ]
    },
    {
      "cell_type": "code",
      "source": [
        "# Loading dataset train_labels.csv\n",
        "df_train_label = pd.read_csv('../input/amex-default-prediction/train_labels.csv')\n",
        "df_train_label.head()"
      ],
      "metadata": {
        "execution": {
          "iopub.status.busy": "2022-11-04T12:38:35.024344Z",
          "iopub.execute_input": "2022-11-04T12:38:35.025251Z",
          "iopub.status.idle": "2022-11-04T12:38:35.789974Z",
          "shell.execute_reply.started": "2022-11-04T12:38:35.025201Z",
          "shell.execute_reply": "2022-11-04T12:38:35.787989Z"
        },
        "trusted": true,
        "id": "znARdSD-LkDA",
        "outputId": "06be60af-b0ff-450e-c0f5-4537d0e6c51d"
      },
      "execution_count": null,
      "outputs": [
        {
          "execution_count": 343,
          "output_type": "execute_result",
          "data": {
            "text/plain": "                                         customer_ID  target\n0  0000099d6bd597052cdcda90ffabf56573fe9d7c79be5f...       0\n1  00000fd6641609c6ece5454664794f0340ad84dddce9a2...       0\n2  00001b22f846c82c51f6e3958ccd81970162bae8b007e8...       0\n3  000041bdba6ecadd89a52d11886e8eaaec9325906c9723...       0\n4  00007889e4fcd2614b6cbe7f8f3d2e5c728eca32d9eb8a...       0",
            "text/html": "<div>\n<style scoped>\n    .dataframe tbody tr th:only-of-type {\n        vertical-align: middle;\n    }\n\n    .dataframe tbody tr th {\n        vertical-align: top;\n    }\n\n    .dataframe thead th {\n        text-align: right;\n    }\n</style>\n<table border=\"1\" class=\"dataframe\">\n  <thead>\n    <tr style=\"text-align: right;\">\n      <th></th>\n      <th>customer_ID</th>\n      <th>target</th>\n    </tr>\n  </thead>\n  <tbody>\n    <tr>\n      <th>0</th>\n      <td>0000099d6bd597052cdcda90ffabf56573fe9d7c79be5f...</td>\n      <td>0</td>\n    </tr>\n    <tr>\n      <th>1</th>\n      <td>00000fd6641609c6ece5454664794f0340ad84dddce9a2...</td>\n      <td>0</td>\n    </tr>\n    <tr>\n      <th>2</th>\n      <td>00001b22f846c82c51f6e3958ccd81970162bae8b007e8...</td>\n      <td>0</td>\n    </tr>\n    <tr>\n      <th>3</th>\n      <td>000041bdba6ecadd89a52d11886e8eaaec9325906c9723...</td>\n      <td>0</td>\n    </tr>\n    <tr>\n      <th>4</th>\n      <td>00007889e4fcd2614b6cbe7f8f3d2e5c728eca32d9eb8a...</td>\n      <td>0</td>\n    </tr>\n  </tbody>\n</table>\n</div>"
          },
          "metadata": {}
        }
      ]
    },
    {
      "cell_type": "code",
      "source": [
        "# Merge of train_df_sample and train_label_df dataframe using key as customer_ID\n",
        "df = pd.merge(df_train, df_train_label, how=\"inner\", on=[\"customer_ID\"])"
      ],
      "metadata": {
        "execution": {
          "iopub.status.busy": "2022-11-04T12:38:35.793889Z",
          "iopub.execute_input": "2022-11-04T12:38:35.794631Z",
          "iopub.status.idle": "2022-11-04T12:38:36.569756Z",
          "shell.execute_reply.started": "2022-11-04T12:38:35.794571Z",
          "shell.execute_reply": "2022-11-04T12:38:36.568582Z"
        },
        "trusted": true,
        "id": "92-k_f00LkDA"
      },
      "execution_count": null,
      "outputs": []
    },
    {
      "cell_type": "code",
      "source": [
        "df.shape,df_test.shape"
      ],
      "metadata": {
        "execution": {
          "iopub.status.busy": "2022-11-04T12:38:36.571301Z",
          "iopub.execute_input": "2022-11-04T12:38:36.571662Z",
          "iopub.status.idle": "2022-11-04T12:38:36.580238Z",
          "shell.execute_reply.started": "2022-11-04T12:38:36.571630Z",
          "shell.execute_reply": "2022-11-04T12:38:36.578897Z"
        },
        "trusted": true,
        "id": "9zbn1yKfLkDB",
        "outputId": "3c147d2c-8d54-4fde-dc0e-289fb21ac349"
      },
      "execution_count": null,
      "outputs": [
        {
          "execution_count": 345,
          "output_type": "execute_result",
          "data": {
            "text/plain": "((200000, 191), (100000, 189))"
          },
          "metadata": {}
        }
      ]
    },
    {
      "cell_type": "code",
      "source": [
        "df.info()"
      ],
      "metadata": {
        "execution": {
          "iopub.status.busy": "2022-11-04T12:38:36.581855Z",
          "iopub.execute_input": "2022-11-04T12:38:36.582188Z",
          "iopub.status.idle": "2022-11-04T12:38:36.605806Z",
          "shell.execute_reply.started": "2022-11-04T12:38:36.582158Z",
          "shell.execute_reply": "2022-11-04T12:38:36.604407Z"
        },
        "trusted": true,
        "id": "BwAYeaRpLkDB",
        "outputId": "52f275b8-0cb3-4b4c-e531-8ed389ce84c9"
      },
      "execution_count": null,
      "outputs": [
        {
          "name": "stdout",
          "text": "<class 'pandas.core.frame.DataFrame'>\nInt64Index: 200000 entries, 0 to 199999\nColumns: 191 entries, customer_ID to target\ndtypes: float64(185), int64(2), object(4)\nmemory usage: 293.0+ MB\n",
          "output_type": "stream"
        }
      ]
    },
    {
      "cell_type": "code",
      "source": [
        "df.head()"
      ],
      "metadata": {
        "execution": {
          "iopub.status.busy": "2022-11-04T12:38:36.608255Z",
          "iopub.execute_input": "2022-11-04T12:38:36.608804Z",
          "iopub.status.idle": "2022-11-04T12:38:36.636145Z",
          "shell.execute_reply.started": "2022-11-04T12:38:36.608757Z",
          "shell.execute_reply": "2022-11-04T12:38:36.635230Z"
        },
        "trusted": true,
        "id": "J6ta5_CuLkDC",
        "outputId": "8d58007e-ae72-41ff-97ff-95aae51b8254"
      },
      "execution_count": null,
      "outputs": [
        {
          "execution_count": 347,
          "output_type": "execute_result",
          "data": {
            "text/plain": "                                         customer_ID         S_2       P_2  \\\n0  0000099d6bd597052cdcda90ffabf56573fe9d7c79be5f...  2017-03-09  0.938469   \n1  0000099d6bd597052cdcda90ffabf56573fe9d7c79be5f...  2017-04-07  0.936665   \n2  0000099d6bd597052cdcda90ffabf56573fe9d7c79be5f...  2017-05-28  0.954180   \n3  0000099d6bd597052cdcda90ffabf56573fe9d7c79be5f...  2017-06-13  0.960384   \n4  0000099d6bd597052cdcda90ffabf56573fe9d7c79be5f...  2017-07-16  0.947248   \n\n       D_39       B_1       B_2       R_1       S_3      D_41       B_3  ...  \\\n0  0.001733  0.008724  1.006838  0.009228  0.124035  0.008771  0.004709  ...   \n1  0.005775  0.004923  1.000653  0.006151  0.126750  0.000798  0.002714  ...   \n2  0.091505  0.021655  1.009672  0.006815  0.123977  0.007598  0.009423  ...   \n3  0.002455  0.013683  1.002700  0.001373  0.117169  0.000685  0.005531  ...   \n4  0.002483  0.015193  1.000727  0.007605  0.117325  0.004653  0.009312  ...   \n\n   D_137  D_138     D_139     D_140     D_141  D_142     D_143     D_144  \\\n0    NaN    NaN  0.002427  0.003706  0.003818    NaN  0.000569  0.000610   \n1    NaN    NaN  0.003954  0.003167  0.005032    NaN  0.009576  0.005492   \n2    NaN    NaN  0.003269  0.007329  0.000427    NaN  0.003429  0.006986   \n3    NaN    NaN  0.006117  0.004516  0.003200    NaN  0.008419  0.006527   \n4    NaN    NaN  0.003671  0.004946  0.008889    NaN  0.001670  0.008126   \n\n      D_145  target  \n0  0.002674       0  \n1  0.009217       0  \n2  0.002603       0  \n3  0.009600       0  \n4  0.009827       0  \n\n[5 rows x 191 columns]",
            "text/html": "<div>\n<style scoped>\n    .dataframe tbody tr th:only-of-type {\n        vertical-align: middle;\n    }\n\n    .dataframe tbody tr th {\n        vertical-align: top;\n    }\n\n    .dataframe thead th {\n        text-align: right;\n    }\n</style>\n<table border=\"1\" class=\"dataframe\">\n  <thead>\n    <tr style=\"text-align: right;\">\n      <th></th>\n      <th>customer_ID</th>\n      <th>S_2</th>\n      <th>P_2</th>\n      <th>D_39</th>\n      <th>B_1</th>\n      <th>B_2</th>\n      <th>R_1</th>\n      <th>S_3</th>\n      <th>D_41</th>\n      <th>B_3</th>\n      <th>...</th>\n      <th>D_137</th>\n      <th>D_138</th>\n      <th>D_139</th>\n      <th>D_140</th>\n      <th>D_141</th>\n      <th>D_142</th>\n      <th>D_143</th>\n      <th>D_144</th>\n      <th>D_145</th>\n      <th>target</th>\n    </tr>\n  </thead>\n  <tbody>\n    <tr>\n      <th>0</th>\n      <td>0000099d6bd597052cdcda90ffabf56573fe9d7c79be5f...</td>\n      <td>2017-03-09</td>\n      <td>0.938469</td>\n      <td>0.001733</td>\n      <td>0.008724</td>\n      <td>1.006838</td>\n      <td>0.009228</td>\n      <td>0.124035</td>\n      <td>0.008771</td>\n      <td>0.004709</td>\n      <td>...</td>\n      <td>NaN</td>\n      <td>NaN</td>\n      <td>0.002427</td>\n      <td>0.003706</td>\n      <td>0.003818</td>\n      <td>NaN</td>\n      <td>0.000569</td>\n      <td>0.000610</td>\n      <td>0.002674</td>\n      <td>0</td>\n    </tr>\n    <tr>\n      <th>1</th>\n      <td>0000099d6bd597052cdcda90ffabf56573fe9d7c79be5f...</td>\n      <td>2017-04-07</td>\n      <td>0.936665</td>\n      <td>0.005775</td>\n      <td>0.004923</td>\n      <td>1.000653</td>\n      <td>0.006151</td>\n      <td>0.126750</td>\n      <td>0.000798</td>\n      <td>0.002714</td>\n      <td>...</td>\n      <td>NaN</td>\n      <td>NaN</td>\n      <td>0.003954</td>\n      <td>0.003167</td>\n      <td>0.005032</td>\n      <td>NaN</td>\n      <td>0.009576</td>\n      <td>0.005492</td>\n      <td>0.009217</td>\n      <td>0</td>\n    </tr>\n    <tr>\n      <th>2</th>\n      <td>0000099d6bd597052cdcda90ffabf56573fe9d7c79be5f...</td>\n      <td>2017-05-28</td>\n      <td>0.954180</td>\n      <td>0.091505</td>\n      <td>0.021655</td>\n      <td>1.009672</td>\n      <td>0.006815</td>\n      <td>0.123977</td>\n      <td>0.007598</td>\n      <td>0.009423</td>\n      <td>...</td>\n      <td>NaN</td>\n      <td>NaN</td>\n      <td>0.003269</td>\n      <td>0.007329</td>\n      <td>0.000427</td>\n      <td>NaN</td>\n      <td>0.003429</td>\n      <td>0.006986</td>\n      <td>0.002603</td>\n      <td>0</td>\n    </tr>\n    <tr>\n      <th>3</th>\n      <td>0000099d6bd597052cdcda90ffabf56573fe9d7c79be5f...</td>\n      <td>2017-06-13</td>\n      <td>0.960384</td>\n      <td>0.002455</td>\n      <td>0.013683</td>\n      <td>1.002700</td>\n      <td>0.001373</td>\n      <td>0.117169</td>\n      <td>0.000685</td>\n      <td>0.005531</td>\n      <td>...</td>\n      <td>NaN</td>\n      <td>NaN</td>\n      <td>0.006117</td>\n      <td>0.004516</td>\n      <td>0.003200</td>\n      <td>NaN</td>\n      <td>0.008419</td>\n      <td>0.006527</td>\n      <td>0.009600</td>\n      <td>0</td>\n    </tr>\n    <tr>\n      <th>4</th>\n      <td>0000099d6bd597052cdcda90ffabf56573fe9d7c79be5f...</td>\n      <td>2017-07-16</td>\n      <td>0.947248</td>\n      <td>0.002483</td>\n      <td>0.015193</td>\n      <td>1.000727</td>\n      <td>0.007605</td>\n      <td>0.117325</td>\n      <td>0.004653</td>\n      <td>0.009312</td>\n      <td>...</td>\n      <td>NaN</td>\n      <td>NaN</td>\n      <td>0.003671</td>\n      <td>0.004946</td>\n      <td>0.008889</td>\n      <td>NaN</td>\n      <td>0.001670</td>\n      <td>0.008126</td>\n      <td>0.009827</td>\n      <td>0</td>\n    </tr>\n  </tbody>\n</table>\n<p>5 rows × 191 columns</p>\n</div>"
          },
          "metadata": {}
        }
      ]
    },
    {
      "cell_type": "code",
      "source": [
        "df['target'].value_counts()"
      ],
      "metadata": {
        "execution": {
          "iopub.status.busy": "2022-11-04T12:38:36.637161Z",
          "iopub.execute_input": "2022-11-04T12:38:36.637496Z",
          "iopub.status.idle": "2022-11-04T12:38:36.655049Z",
          "shell.execute_reply.started": "2022-11-04T12:38:36.637465Z",
          "shell.execute_reply": "2022-11-04T12:38:36.654193Z"
        },
        "trusted": true,
        "id": "UM-6k8nOLkDC",
        "outputId": "98dc07fe-cdbd-46bf-ac79-418666ccee20"
      },
      "execution_count": null,
      "outputs": [
        {
          "execution_count": 348,
          "output_type": "execute_result",
          "data": {
            "text/plain": "0    149321\n1     50679\nName: target, dtype: int64"
          },
          "metadata": {}
        }
      ]
    },
    {
      "cell_type": "markdown",
      "source": [
        "**DATA PREPROCESSING**"
      ],
      "metadata": {
        "id": "n5rsb9X9LkDD"
      }
    },
    {
      "cell_type": "code",
      "source": [
        "#Extracting date,month and year from 'S_2 column on train dataset'\n",
        "df[\"S_2\"] = df[\"S_2\"].astype('datetime64[ns]')\n",
        "df[\"Day of week\"] = df[\"S_2\"].dt.dayofweek\n",
        "df[\"Year\"] = df[\"S_2\"].dt.year\n",
        "df[\"Month\"] = df[\"S_2\"].dt.month\n",
        "df[\"Day\"] = df[\"S_2\"].dt.day"
      ],
      "metadata": {
        "execution": {
          "iopub.status.busy": "2022-11-04T12:38:36.656497Z",
          "iopub.execute_input": "2022-11-04T12:38:36.656951Z",
          "iopub.status.idle": "2022-11-04T12:38:36.795375Z",
          "shell.execute_reply.started": "2022-11-04T12:38:36.656916Z",
          "shell.execute_reply": "2022-11-04T12:38:36.794180Z"
        },
        "trusted": true,
        "id": "QLkYCD0XLkDF"
      },
      "execution_count": null,
      "outputs": []
    },
    {
      "cell_type": "code",
      "source": [
        "##Extracting date,month and year from 'S_2 column on test dataset'\n",
        "df_test[\"S_2\"] = df_test[\"S_2\"].astype('datetime64[ns]')\n",
        "df_test[\"Day of week\"] = df_test[\"S_2\"].dt.dayofweek\n",
        "df_test[\"Year\"] = df_test[\"S_2\"].dt.year\n",
        "df_test[\"Month\"] = df_test[\"S_2\"].dt.month\n",
        "df_test[\"Day\"] = df_test[\"S_2\"].dt.day"
      ],
      "metadata": {
        "execution": {
          "iopub.status.busy": "2022-11-04T12:38:36.800871Z",
          "iopub.execute_input": "2022-11-04T12:38:36.801317Z",
          "iopub.status.idle": "2022-11-04T12:38:36.877496Z",
          "shell.execute_reply.started": "2022-11-04T12:38:36.801281Z",
          "shell.execute_reply": "2022-11-04T12:38:36.876082Z"
        },
        "trusted": true,
        "id": "9dmhVP92LkDF"
      },
      "execution_count": null,
      "outputs": []
    },
    {
      "cell_type": "code",
      "source": [
        "#Droping Customer _ID and S_2 columns\n",
        "df.drop(['customer_ID', 'S_2'],axis=1,inplace=True)\n",
        "df_test.drop(['S_2'],axis=1,inplace=True)"
      ],
      "metadata": {
        "execution": {
          "iopub.status.busy": "2022-11-04T12:38:36.879813Z",
          "iopub.execute_input": "2022-11-04T12:38:36.880284Z",
          "iopub.status.idle": "2022-11-04T12:38:37.259452Z",
          "shell.execute_reply.started": "2022-11-04T12:38:36.880240Z",
          "shell.execute_reply": "2022-11-04T12:38:37.258379Z"
        },
        "trusted": true,
        "id": "fKP0YGvTLkDG"
      },
      "execution_count": null,
      "outputs": []
    },
    {
      "cell_type": "markdown",
      "source": [
        "**CHECKING NULL VALUES**"
      ],
      "metadata": {
        "id": "zYPsduP4LkDG"
      }
    },
    {
      "cell_type": "code",
      "source": [
        "df.isnull().sum().sum()"
      ],
      "metadata": {
        "execution": {
          "iopub.status.busy": "2022-11-04T12:38:37.261264Z",
          "iopub.execute_input": "2022-11-04T12:38:37.261640Z",
          "iopub.status.idle": "2022-11-04T12:38:37.361910Z",
          "shell.execute_reply.started": "2022-11-04T12:38:37.261605Z",
          "shell.execute_reply": "2022-11-04T12:38:37.360417Z"
        },
        "trusted": true,
        "id": "Mu_dLt72LkDH",
        "outputId": "7d619f96-4db8-41b4-8471-a20fcce37f16"
      },
      "execution_count": null,
      "outputs": [
        {
          "execution_count": 352,
          "output_type": "execute_result",
          "data": {
            "text/plain": "5810554"
          },
          "metadata": {}
        }
      ]
    },
    {
      "cell_type": "code",
      "source": [
        "NaN_Val = np.array(df.isnull().sum())\n",
        "NaN_prec = np.array((df.isnull().sum() * 100 / len(df)).round(2))\n",
        "NaN_Col = pd.DataFrame([np.array(list(df.columns)).T,NaN_Val.T,NaN_prec.T], index=['Features','Num of Missing values','Percentage']\n",
        ").transpose()\n",
        "pd.set_option('display.max_rows', None)\n",
        "NaN_Col"
      ],
      "metadata": {
        "execution": {
          "iopub.status.busy": "2022-11-04T12:38:37.363650Z",
          "iopub.execute_input": "2022-11-04T12:38:37.363966Z",
          "iopub.status.idle": "2022-11-04T12:38:37.586437Z",
          "shell.execute_reply.started": "2022-11-04T12:38:37.363938Z",
          "shell.execute_reply": "2022-11-04T12:38:37.584993Z"
        },
        "trusted": true,
        "id": "b8k3ZQW7LkDH",
        "outputId": "e54aa5df-81fa-4cad-c5b2-75e3c1b4d440"
      },
      "execution_count": null,
      "outputs": [
        {
          "execution_count": 353,
          "output_type": "execute_result",
          "data": {
            "text/plain": "        Features Num of Missing values Percentage\n0            P_2                  1542       0.77\n1           D_39                     0        0.0\n2            B_1                     0        0.0\n3            B_2                    72       0.04\n4            R_1                     0        0.0\n5            S_3                 37665      18.83\n6           D_41                    72       0.04\n7            B_3                    72       0.04\n8           D_42                170807       85.4\n9           D_43                 60058      30.03\n10          D_44                  9929       4.96\n11           B_4                     0        0.0\n12          D_45                    72       0.04\n13           B_5                     0        0.0\n14           R_2                     0        0.0\n15          D_46                 43895      21.95\n16          D_47                     0        0.0\n17          D_48                 26011      13.01\n18          D_49                179538      89.77\n19           B_6                     7        0.0\n20           B_7                     0        0.0\n21           B_8                   848       0.42\n22          D_50                113536      56.77\n23          D_51                     0        0.0\n24           B_9                     0        0.0\n25           R_3                     0        0.0\n26          D_52                  1009        0.5\n27           P_3                 10887       5.44\n28          B_10                     0        0.0\n29          D_53                147403       73.7\n30           S_5                     0        0.0\n31          B_11                     0        0.0\n32           S_6                     0        0.0\n33          D_54                    72       0.04\n34           R_4                     0        0.0\n35           S_7                 37665      18.83\n36          B_12                     0        0.0\n37           S_8                     0        0.0\n38          D_55                  6524       3.26\n39          D_56                108881      54.44\n40          B_13                  1784       0.89\n41           R_5                     0        0.0\n42          D_58                     0        0.0\n43           S_9                106598       53.3\n44          B_14                     0        0.0\n45          D_59                  3767       1.88\n46          D_60                     0        0.0\n47          D_61                 21443      10.72\n48          B_15                   206        0.1\n49          S_11                     0        0.0\n50          D_62                 27433      13.72\n51          D_63                     0        0.0\n52          D_64                  8040       4.02\n53          D_65                     0        0.0\n54          B_16                    72       0.04\n55          B_17                112459      56.23\n56          B_18                     0        0.0\n57          B_19                    72       0.04\n58          D_66                177820      88.91\n59          B_20                    72       0.04\n60          D_68                  7872       3.94\n61          S_12                     0        0.0\n62           R_6                     0        0.0\n63          S_13                     0        0.0\n64          B_21                     0        0.0\n65          D_69                  6994        3.5\n66          B_22                    72       0.04\n67          D_70                  3320       1.66\n68          D_71                     0        0.0\n69          D_72                   798        0.4\n70          S_15                     0        0.0\n71          B_23                     0        0.0\n72          D_73                197804       98.9\n73           P_4                     0        0.0\n74          D_74                   674       0.34\n75          D_75                     0        0.0\n76          D_76                177656      88.83\n77          B_24                     0        0.0\n78           R_7                     0        0.0\n79          D_77                 91595       45.8\n80          B_25                   206        0.1\n81          B_26                    72       0.04\n82          D_78                  9929       4.96\n83          D_79                  2602        1.3\n84           R_8                     0        0.0\n85           R_9                188105      94.05\n86          S_16                     0        0.0\n87          D_80                   674       0.34\n88          R_10                     0        0.0\n89          R_11                     0        0.0\n90          B_27                    72       0.04\n91          D_81                   910       0.46\n92          D_82                146681      73.34\n93          S_17                     0        0.0\n94          R_12                     2        0.0\n95          B_28                     0        0.0\n96          R_13                     0        0.0\n97          D_83                  6994        3.5\n98          R_14                     0        0.0\n99          R_15                     0        0.0\n100         D_84                  1009        0.5\n101         R_16                     0        0.0\n102         B_29                186146      93.07\n103         B_30                    72       0.04\n104         S_18                     0        0.0\n105         D_86                     0        0.0\n106         D_87                199884      99.94\n107         R_17                     0        0.0\n108         R_18                     0        0.0\n109         D_88                199736      99.87\n110         B_31                     0        0.0\n111         S_19                     0        0.0\n112         R_19                     0        0.0\n113         B_32                     0        0.0\n114         S_20                     0        0.0\n115         R_20                     6        0.0\n116         R_21                     0        0.0\n117         B_33                    72       0.04\n118         D_89                  1009        0.5\n119         R_22                     0        0.0\n120         R_23                     0        0.0\n121         D_91                  5587       2.79\n122         D_92                     0        0.0\n123         D_93                     0        0.0\n124         D_94                     0        0.0\n125         R_24                     0        0.0\n126         R_25                     0        0.0\n127         D_96                     0        0.0\n128         S_22                   687       0.34\n129         S_23                     9        0.0\n130         S_24                   670       0.34\n131         S_25                   484       0.24\n132         S_26                    34       0.02\n133        D_102                  1421       0.71\n134        D_103                  3503       1.75\n135        D_104                  3503       1.75\n136        D_105                109067      54.53\n137        D_106                179696      89.85\n138        D_107                  3503       1.75\n139         B_36                     0        0.0\n140         B_37                     1        0.0\n141         R_26                177973      88.99\n142         R_27                  4581       2.29\n143         B_38                    72       0.04\n144        D_108                198942      99.47\n145        D_109                    71       0.04\n146        D_110                198768      99.38\n147        D_111                198768      99.38\n148         B_39                198675      99.34\n149        D_112                   106       0.05\n150         B_40                     1        0.0\n151         S_27                 51227      25.61\n152        D_113                  6345       3.17\n153        D_114                  6345       3.17\n154        D_115                  6345       3.17\n155        D_116                  6345       3.17\n156        D_117                  6345       3.17\n157        D_118                  6345       3.17\n158        D_119                  6345       3.17\n159        D_120                  6345       3.17\n160        D_121                  6345       3.17\n161        D_122                  6345       3.17\n162        D_123                  6345       3.17\n163        D_124                  6345       3.17\n164        D_125                  6345       3.17\n165        D_126                  4225       2.11\n166        D_127                     0        0.0\n167        D_128                  3503       1.75\n168        D_129                  3503       1.75\n169         B_41                    36       0.02\n170         B_42                197449      98.72\n171        D_130                  3503       1.75\n172        D_131                  3503       1.75\n173        D_132                179642      89.82\n174        D_133                  1481       0.74\n175         R_28                     0        0.0\n176        D_134                192814      96.41\n177        D_135                192814      96.41\n178        D_136                192814      96.41\n179        D_137                192814      96.41\n180        D_138                192814      96.41\n181        D_139                  3503       1.75\n182        D_140                  1419       0.71\n183        D_141                  3503       1.75\n184        D_142                165644      82.82\n185        D_143                  3503       1.75\n186        D_144                  1433       0.72\n187        D_145                  3503       1.75\n188       target                     0        0.0\n189  Day of week                     0        0.0\n190         Year                     0        0.0\n191        Month                     0        0.0\n192          Day                     0        0.0",
            "text/html": "<div>\n<style scoped>\n    .dataframe tbody tr th:only-of-type {\n        vertical-align: middle;\n    }\n\n    .dataframe tbody tr th {\n        vertical-align: top;\n    }\n\n    .dataframe thead th {\n        text-align: right;\n    }\n</style>\n<table border=\"1\" class=\"dataframe\">\n  <thead>\n    <tr style=\"text-align: right;\">\n      <th></th>\n      <th>Features</th>\n      <th>Num of Missing values</th>\n      <th>Percentage</th>\n    </tr>\n  </thead>\n  <tbody>\n    <tr>\n      <th>0</th>\n      <td>P_2</td>\n      <td>1542</td>\n      <td>0.77</td>\n    </tr>\n    <tr>\n      <th>1</th>\n      <td>D_39</td>\n      <td>0</td>\n      <td>0.0</td>\n    </tr>\n    <tr>\n      <th>2</th>\n      <td>B_1</td>\n      <td>0</td>\n      <td>0.0</td>\n    </tr>\n    <tr>\n      <th>3</th>\n      <td>B_2</td>\n      <td>72</td>\n      <td>0.04</td>\n    </tr>\n    <tr>\n      <th>4</th>\n      <td>R_1</td>\n      <td>0</td>\n      <td>0.0</td>\n    </tr>\n    <tr>\n      <th>5</th>\n      <td>S_3</td>\n      <td>37665</td>\n      <td>18.83</td>\n    </tr>\n    <tr>\n      <th>6</th>\n      <td>D_41</td>\n      <td>72</td>\n      <td>0.04</td>\n    </tr>\n    <tr>\n      <th>7</th>\n      <td>B_3</td>\n      <td>72</td>\n      <td>0.04</td>\n    </tr>\n    <tr>\n      <th>8</th>\n      <td>D_42</td>\n      <td>170807</td>\n      <td>85.4</td>\n    </tr>\n    <tr>\n      <th>9</th>\n      <td>D_43</td>\n      <td>60058</td>\n      <td>30.03</td>\n    </tr>\n    <tr>\n      <th>10</th>\n      <td>D_44</td>\n      <td>9929</td>\n      <td>4.96</td>\n    </tr>\n    <tr>\n      <th>11</th>\n      <td>B_4</td>\n      <td>0</td>\n      <td>0.0</td>\n    </tr>\n    <tr>\n      <th>12</th>\n      <td>D_45</td>\n      <td>72</td>\n      <td>0.04</td>\n    </tr>\n    <tr>\n      <th>13</th>\n      <td>B_5</td>\n      <td>0</td>\n      <td>0.0</td>\n    </tr>\n    <tr>\n      <th>14</th>\n      <td>R_2</td>\n      <td>0</td>\n      <td>0.0</td>\n    </tr>\n    <tr>\n      <th>15</th>\n      <td>D_46</td>\n      <td>43895</td>\n      <td>21.95</td>\n    </tr>\n    <tr>\n      <th>16</th>\n      <td>D_47</td>\n      <td>0</td>\n      <td>0.0</td>\n    </tr>\n    <tr>\n      <th>17</th>\n      <td>D_48</td>\n      <td>26011</td>\n      <td>13.01</td>\n    </tr>\n    <tr>\n      <th>18</th>\n      <td>D_49</td>\n      <td>179538</td>\n      <td>89.77</td>\n    </tr>\n    <tr>\n      <th>19</th>\n      <td>B_6</td>\n      <td>7</td>\n      <td>0.0</td>\n    </tr>\n    <tr>\n      <th>20</th>\n      <td>B_7</td>\n      <td>0</td>\n      <td>0.0</td>\n    </tr>\n    <tr>\n      <th>21</th>\n      <td>B_8</td>\n      <td>848</td>\n      <td>0.42</td>\n    </tr>\n    <tr>\n      <th>22</th>\n      <td>D_50</td>\n      <td>113536</td>\n      <td>56.77</td>\n    </tr>\n    <tr>\n      <th>23</th>\n      <td>D_51</td>\n      <td>0</td>\n      <td>0.0</td>\n    </tr>\n    <tr>\n      <th>24</th>\n      <td>B_9</td>\n      <td>0</td>\n      <td>0.0</td>\n    </tr>\n    <tr>\n      <th>25</th>\n      <td>R_3</td>\n      <td>0</td>\n      <td>0.0</td>\n    </tr>\n    <tr>\n      <th>26</th>\n      <td>D_52</td>\n      <td>1009</td>\n      <td>0.5</td>\n    </tr>\n    <tr>\n      <th>27</th>\n      <td>P_3</td>\n      <td>10887</td>\n      <td>5.44</td>\n    </tr>\n    <tr>\n      <th>28</th>\n      <td>B_10</td>\n      <td>0</td>\n      <td>0.0</td>\n    </tr>\n    <tr>\n      <th>29</th>\n      <td>D_53</td>\n      <td>147403</td>\n      <td>73.7</td>\n    </tr>\n    <tr>\n      <th>30</th>\n      <td>S_5</td>\n      <td>0</td>\n      <td>0.0</td>\n    </tr>\n    <tr>\n      <th>31</th>\n      <td>B_11</td>\n      <td>0</td>\n      <td>0.0</td>\n    </tr>\n    <tr>\n      <th>32</th>\n      <td>S_6</td>\n      <td>0</td>\n      <td>0.0</td>\n    </tr>\n    <tr>\n      <th>33</th>\n      <td>D_54</td>\n      <td>72</td>\n      <td>0.04</td>\n    </tr>\n    <tr>\n      <th>34</th>\n      <td>R_4</td>\n      <td>0</td>\n      <td>0.0</td>\n    </tr>\n    <tr>\n      <th>35</th>\n      <td>S_7</td>\n      <td>37665</td>\n      <td>18.83</td>\n    </tr>\n    <tr>\n      <th>36</th>\n      <td>B_12</td>\n      <td>0</td>\n      <td>0.0</td>\n    </tr>\n    <tr>\n      <th>37</th>\n      <td>S_8</td>\n      <td>0</td>\n      <td>0.0</td>\n    </tr>\n    <tr>\n      <th>38</th>\n      <td>D_55</td>\n      <td>6524</td>\n      <td>3.26</td>\n    </tr>\n    <tr>\n      <th>39</th>\n      <td>D_56</td>\n      <td>108881</td>\n      <td>54.44</td>\n    </tr>\n    <tr>\n      <th>40</th>\n      <td>B_13</td>\n      <td>1784</td>\n      <td>0.89</td>\n    </tr>\n    <tr>\n      <th>41</th>\n      <td>R_5</td>\n      <td>0</td>\n      <td>0.0</td>\n    </tr>\n    <tr>\n      <th>42</th>\n      <td>D_58</td>\n      <td>0</td>\n      <td>0.0</td>\n    </tr>\n    <tr>\n      <th>43</th>\n      <td>S_9</td>\n      <td>106598</td>\n      <td>53.3</td>\n    </tr>\n    <tr>\n      <th>44</th>\n      <td>B_14</td>\n      <td>0</td>\n      <td>0.0</td>\n    </tr>\n    <tr>\n      <th>45</th>\n      <td>D_59</td>\n      <td>3767</td>\n      <td>1.88</td>\n    </tr>\n    <tr>\n      <th>46</th>\n      <td>D_60</td>\n      <td>0</td>\n      <td>0.0</td>\n    </tr>\n    <tr>\n      <th>47</th>\n      <td>D_61</td>\n      <td>21443</td>\n      <td>10.72</td>\n    </tr>\n    <tr>\n      <th>48</th>\n      <td>B_15</td>\n      <td>206</td>\n      <td>0.1</td>\n    </tr>\n    <tr>\n      <th>49</th>\n      <td>S_11</td>\n      <td>0</td>\n      <td>0.0</td>\n    </tr>\n    <tr>\n      <th>50</th>\n      <td>D_62</td>\n      <td>27433</td>\n      <td>13.72</td>\n    </tr>\n    <tr>\n      <th>51</th>\n      <td>D_63</td>\n      <td>0</td>\n      <td>0.0</td>\n    </tr>\n    <tr>\n      <th>52</th>\n      <td>D_64</td>\n      <td>8040</td>\n      <td>4.02</td>\n    </tr>\n    <tr>\n      <th>53</th>\n      <td>D_65</td>\n      <td>0</td>\n      <td>0.0</td>\n    </tr>\n    <tr>\n      <th>54</th>\n      <td>B_16</td>\n      <td>72</td>\n      <td>0.04</td>\n    </tr>\n    <tr>\n      <th>55</th>\n      <td>B_17</td>\n      <td>112459</td>\n      <td>56.23</td>\n    </tr>\n    <tr>\n      <th>56</th>\n      <td>B_18</td>\n      <td>0</td>\n      <td>0.0</td>\n    </tr>\n    <tr>\n      <th>57</th>\n      <td>B_19</td>\n      <td>72</td>\n      <td>0.04</td>\n    </tr>\n    <tr>\n      <th>58</th>\n      <td>D_66</td>\n      <td>177820</td>\n      <td>88.91</td>\n    </tr>\n    <tr>\n      <th>59</th>\n      <td>B_20</td>\n      <td>72</td>\n      <td>0.04</td>\n    </tr>\n    <tr>\n      <th>60</th>\n      <td>D_68</td>\n      <td>7872</td>\n      <td>3.94</td>\n    </tr>\n    <tr>\n      <th>61</th>\n      <td>S_12</td>\n      <td>0</td>\n      <td>0.0</td>\n    </tr>\n    <tr>\n      <th>62</th>\n      <td>R_6</td>\n      <td>0</td>\n      <td>0.0</td>\n    </tr>\n    <tr>\n      <th>63</th>\n      <td>S_13</td>\n      <td>0</td>\n      <td>0.0</td>\n    </tr>\n    <tr>\n      <th>64</th>\n      <td>B_21</td>\n      <td>0</td>\n      <td>0.0</td>\n    </tr>\n    <tr>\n      <th>65</th>\n      <td>D_69</td>\n      <td>6994</td>\n      <td>3.5</td>\n    </tr>\n    <tr>\n      <th>66</th>\n      <td>B_22</td>\n      <td>72</td>\n      <td>0.04</td>\n    </tr>\n    <tr>\n      <th>67</th>\n      <td>D_70</td>\n      <td>3320</td>\n      <td>1.66</td>\n    </tr>\n    <tr>\n      <th>68</th>\n      <td>D_71</td>\n      <td>0</td>\n      <td>0.0</td>\n    </tr>\n    <tr>\n      <th>69</th>\n      <td>D_72</td>\n      <td>798</td>\n      <td>0.4</td>\n    </tr>\n    <tr>\n      <th>70</th>\n      <td>S_15</td>\n      <td>0</td>\n      <td>0.0</td>\n    </tr>\n    <tr>\n      <th>71</th>\n      <td>B_23</td>\n      <td>0</td>\n      <td>0.0</td>\n    </tr>\n    <tr>\n      <th>72</th>\n      <td>D_73</td>\n      <td>197804</td>\n      <td>98.9</td>\n    </tr>\n    <tr>\n      <th>73</th>\n      <td>P_4</td>\n      <td>0</td>\n      <td>0.0</td>\n    </tr>\n    <tr>\n      <th>74</th>\n      <td>D_74</td>\n      <td>674</td>\n      <td>0.34</td>\n    </tr>\n    <tr>\n      <th>75</th>\n      <td>D_75</td>\n      <td>0</td>\n      <td>0.0</td>\n    </tr>\n    <tr>\n      <th>76</th>\n      <td>D_76</td>\n      <td>177656</td>\n      <td>88.83</td>\n    </tr>\n    <tr>\n      <th>77</th>\n      <td>B_24</td>\n      <td>0</td>\n      <td>0.0</td>\n    </tr>\n    <tr>\n      <th>78</th>\n      <td>R_7</td>\n      <td>0</td>\n      <td>0.0</td>\n    </tr>\n    <tr>\n      <th>79</th>\n      <td>D_77</td>\n      <td>91595</td>\n      <td>45.8</td>\n    </tr>\n    <tr>\n      <th>80</th>\n      <td>B_25</td>\n      <td>206</td>\n      <td>0.1</td>\n    </tr>\n    <tr>\n      <th>81</th>\n      <td>B_26</td>\n      <td>72</td>\n      <td>0.04</td>\n    </tr>\n    <tr>\n      <th>82</th>\n      <td>D_78</td>\n      <td>9929</td>\n      <td>4.96</td>\n    </tr>\n    <tr>\n      <th>83</th>\n      <td>D_79</td>\n      <td>2602</td>\n      <td>1.3</td>\n    </tr>\n    <tr>\n      <th>84</th>\n      <td>R_8</td>\n      <td>0</td>\n      <td>0.0</td>\n    </tr>\n    <tr>\n      <th>85</th>\n      <td>R_9</td>\n      <td>188105</td>\n      <td>94.05</td>\n    </tr>\n    <tr>\n      <th>86</th>\n      <td>S_16</td>\n      <td>0</td>\n      <td>0.0</td>\n    </tr>\n    <tr>\n      <th>87</th>\n      <td>D_80</td>\n      <td>674</td>\n      <td>0.34</td>\n    </tr>\n    <tr>\n      <th>88</th>\n      <td>R_10</td>\n      <td>0</td>\n      <td>0.0</td>\n    </tr>\n    <tr>\n      <th>89</th>\n      <td>R_11</td>\n      <td>0</td>\n      <td>0.0</td>\n    </tr>\n    <tr>\n      <th>90</th>\n      <td>B_27</td>\n      <td>72</td>\n      <td>0.04</td>\n    </tr>\n    <tr>\n      <th>91</th>\n      <td>D_81</td>\n      <td>910</td>\n      <td>0.46</td>\n    </tr>\n    <tr>\n      <th>92</th>\n      <td>D_82</td>\n      <td>146681</td>\n      <td>73.34</td>\n    </tr>\n    <tr>\n      <th>93</th>\n      <td>S_17</td>\n      <td>0</td>\n      <td>0.0</td>\n    </tr>\n    <tr>\n      <th>94</th>\n      <td>R_12</td>\n      <td>2</td>\n      <td>0.0</td>\n    </tr>\n    <tr>\n      <th>95</th>\n      <td>B_28</td>\n      <td>0</td>\n      <td>0.0</td>\n    </tr>\n    <tr>\n      <th>96</th>\n      <td>R_13</td>\n      <td>0</td>\n      <td>0.0</td>\n    </tr>\n    <tr>\n      <th>97</th>\n      <td>D_83</td>\n      <td>6994</td>\n      <td>3.5</td>\n    </tr>\n    <tr>\n      <th>98</th>\n      <td>R_14</td>\n      <td>0</td>\n      <td>0.0</td>\n    </tr>\n    <tr>\n      <th>99</th>\n      <td>R_15</td>\n      <td>0</td>\n      <td>0.0</td>\n    </tr>\n    <tr>\n      <th>100</th>\n      <td>D_84</td>\n      <td>1009</td>\n      <td>0.5</td>\n    </tr>\n    <tr>\n      <th>101</th>\n      <td>R_16</td>\n      <td>0</td>\n      <td>0.0</td>\n    </tr>\n    <tr>\n      <th>102</th>\n      <td>B_29</td>\n      <td>186146</td>\n      <td>93.07</td>\n    </tr>\n    <tr>\n      <th>103</th>\n      <td>B_30</td>\n      <td>72</td>\n      <td>0.04</td>\n    </tr>\n    <tr>\n      <th>104</th>\n      <td>S_18</td>\n      <td>0</td>\n      <td>0.0</td>\n    </tr>\n    <tr>\n      <th>105</th>\n      <td>D_86</td>\n      <td>0</td>\n      <td>0.0</td>\n    </tr>\n    <tr>\n      <th>106</th>\n      <td>D_87</td>\n      <td>199884</td>\n      <td>99.94</td>\n    </tr>\n    <tr>\n      <th>107</th>\n      <td>R_17</td>\n      <td>0</td>\n      <td>0.0</td>\n    </tr>\n    <tr>\n      <th>108</th>\n      <td>R_18</td>\n      <td>0</td>\n      <td>0.0</td>\n    </tr>\n    <tr>\n      <th>109</th>\n      <td>D_88</td>\n      <td>199736</td>\n      <td>99.87</td>\n    </tr>\n    <tr>\n      <th>110</th>\n      <td>B_31</td>\n      <td>0</td>\n      <td>0.0</td>\n    </tr>\n    <tr>\n      <th>111</th>\n      <td>S_19</td>\n      <td>0</td>\n      <td>0.0</td>\n    </tr>\n    <tr>\n      <th>112</th>\n      <td>R_19</td>\n      <td>0</td>\n      <td>0.0</td>\n    </tr>\n    <tr>\n      <th>113</th>\n      <td>B_32</td>\n      <td>0</td>\n      <td>0.0</td>\n    </tr>\n    <tr>\n      <th>114</th>\n      <td>S_20</td>\n      <td>0</td>\n      <td>0.0</td>\n    </tr>\n    <tr>\n      <th>115</th>\n      <td>R_20</td>\n      <td>6</td>\n      <td>0.0</td>\n    </tr>\n    <tr>\n      <th>116</th>\n      <td>R_21</td>\n      <td>0</td>\n      <td>0.0</td>\n    </tr>\n    <tr>\n      <th>117</th>\n      <td>B_33</td>\n      <td>72</td>\n      <td>0.04</td>\n    </tr>\n    <tr>\n      <th>118</th>\n      <td>D_89</td>\n      <td>1009</td>\n      <td>0.5</td>\n    </tr>\n    <tr>\n      <th>119</th>\n      <td>R_22</td>\n      <td>0</td>\n      <td>0.0</td>\n    </tr>\n    <tr>\n      <th>120</th>\n      <td>R_23</td>\n      <td>0</td>\n      <td>0.0</td>\n    </tr>\n    <tr>\n      <th>121</th>\n      <td>D_91</td>\n      <td>5587</td>\n      <td>2.79</td>\n    </tr>\n    <tr>\n      <th>122</th>\n      <td>D_92</td>\n      <td>0</td>\n      <td>0.0</td>\n    </tr>\n    <tr>\n      <th>123</th>\n      <td>D_93</td>\n      <td>0</td>\n      <td>0.0</td>\n    </tr>\n    <tr>\n      <th>124</th>\n      <td>D_94</td>\n      <td>0</td>\n      <td>0.0</td>\n    </tr>\n    <tr>\n      <th>125</th>\n      <td>R_24</td>\n      <td>0</td>\n      <td>0.0</td>\n    </tr>\n    <tr>\n      <th>126</th>\n      <td>R_25</td>\n      <td>0</td>\n      <td>0.0</td>\n    </tr>\n    <tr>\n      <th>127</th>\n      <td>D_96</td>\n      <td>0</td>\n      <td>0.0</td>\n    </tr>\n    <tr>\n      <th>128</th>\n      <td>S_22</td>\n      <td>687</td>\n      <td>0.34</td>\n    </tr>\n    <tr>\n      <th>129</th>\n      <td>S_23</td>\n      <td>9</td>\n      <td>0.0</td>\n    </tr>\n    <tr>\n      <th>130</th>\n      <td>S_24</td>\n      <td>670</td>\n      <td>0.34</td>\n    </tr>\n    <tr>\n      <th>131</th>\n      <td>S_25</td>\n      <td>484</td>\n      <td>0.24</td>\n    </tr>\n    <tr>\n      <th>132</th>\n      <td>S_26</td>\n      <td>34</td>\n      <td>0.02</td>\n    </tr>\n    <tr>\n      <th>133</th>\n      <td>D_102</td>\n      <td>1421</td>\n      <td>0.71</td>\n    </tr>\n    <tr>\n      <th>134</th>\n      <td>D_103</td>\n      <td>3503</td>\n      <td>1.75</td>\n    </tr>\n    <tr>\n      <th>135</th>\n      <td>D_104</td>\n      <td>3503</td>\n      <td>1.75</td>\n    </tr>\n    <tr>\n      <th>136</th>\n      <td>D_105</td>\n      <td>109067</td>\n      <td>54.53</td>\n    </tr>\n    <tr>\n      <th>137</th>\n      <td>D_106</td>\n      <td>179696</td>\n      <td>89.85</td>\n    </tr>\n    <tr>\n      <th>138</th>\n      <td>D_107</td>\n      <td>3503</td>\n      <td>1.75</td>\n    </tr>\n    <tr>\n      <th>139</th>\n      <td>B_36</td>\n      <td>0</td>\n      <td>0.0</td>\n    </tr>\n    <tr>\n      <th>140</th>\n      <td>B_37</td>\n      <td>1</td>\n      <td>0.0</td>\n    </tr>\n    <tr>\n      <th>141</th>\n      <td>R_26</td>\n      <td>177973</td>\n      <td>88.99</td>\n    </tr>\n    <tr>\n      <th>142</th>\n      <td>R_27</td>\n      <td>4581</td>\n      <td>2.29</td>\n    </tr>\n    <tr>\n      <th>143</th>\n      <td>B_38</td>\n      <td>72</td>\n      <td>0.04</td>\n    </tr>\n    <tr>\n      <th>144</th>\n      <td>D_108</td>\n      <td>198942</td>\n      <td>99.47</td>\n    </tr>\n    <tr>\n      <th>145</th>\n      <td>D_109</td>\n      <td>71</td>\n      <td>0.04</td>\n    </tr>\n    <tr>\n      <th>146</th>\n      <td>D_110</td>\n      <td>198768</td>\n      <td>99.38</td>\n    </tr>\n    <tr>\n      <th>147</th>\n      <td>D_111</td>\n      <td>198768</td>\n      <td>99.38</td>\n    </tr>\n    <tr>\n      <th>148</th>\n      <td>B_39</td>\n      <td>198675</td>\n      <td>99.34</td>\n    </tr>\n    <tr>\n      <th>149</th>\n      <td>D_112</td>\n      <td>106</td>\n      <td>0.05</td>\n    </tr>\n    <tr>\n      <th>150</th>\n      <td>B_40</td>\n      <td>1</td>\n      <td>0.0</td>\n    </tr>\n    <tr>\n      <th>151</th>\n      <td>S_27</td>\n      <td>51227</td>\n      <td>25.61</td>\n    </tr>\n    <tr>\n      <th>152</th>\n      <td>D_113</td>\n      <td>6345</td>\n      <td>3.17</td>\n    </tr>\n    <tr>\n      <th>153</th>\n      <td>D_114</td>\n      <td>6345</td>\n      <td>3.17</td>\n    </tr>\n    <tr>\n      <th>154</th>\n      <td>D_115</td>\n      <td>6345</td>\n      <td>3.17</td>\n    </tr>\n    <tr>\n      <th>155</th>\n      <td>D_116</td>\n      <td>6345</td>\n      <td>3.17</td>\n    </tr>\n    <tr>\n      <th>156</th>\n      <td>D_117</td>\n      <td>6345</td>\n      <td>3.17</td>\n    </tr>\n    <tr>\n      <th>157</th>\n      <td>D_118</td>\n      <td>6345</td>\n      <td>3.17</td>\n    </tr>\n    <tr>\n      <th>158</th>\n      <td>D_119</td>\n      <td>6345</td>\n      <td>3.17</td>\n    </tr>\n    <tr>\n      <th>159</th>\n      <td>D_120</td>\n      <td>6345</td>\n      <td>3.17</td>\n    </tr>\n    <tr>\n      <th>160</th>\n      <td>D_121</td>\n      <td>6345</td>\n      <td>3.17</td>\n    </tr>\n    <tr>\n      <th>161</th>\n      <td>D_122</td>\n      <td>6345</td>\n      <td>3.17</td>\n    </tr>\n    <tr>\n      <th>162</th>\n      <td>D_123</td>\n      <td>6345</td>\n      <td>3.17</td>\n    </tr>\n    <tr>\n      <th>163</th>\n      <td>D_124</td>\n      <td>6345</td>\n      <td>3.17</td>\n    </tr>\n    <tr>\n      <th>164</th>\n      <td>D_125</td>\n      <td>6345</td>\n      <td>3.17</td>\n    </tr>\n    <tr>\n      <th>165</th>\n      <td>D_126</td>\n      <td>4225</td>\n      <td>2.11</td>\n    </tr>\n    <tr>\n      <th>166</th>\n      <td>D_127</td>\n      <td>0</td>\n      <td>0.0</td>\n    </tr>\n    <tr>\n      <th>167</th>\n      <td>D_128</td>\n      <td>3503</td>\n      <td>1.75</td>\n    </tr>\n    <tr>\n      <th>168</th>\n      <td>D_129</td>\n      <td>3503</td>\n      <td>1.75</td>\n    </tr>\n    <tr>\n      <th>169</th>\n      <td>B_41</td>\n      <td>36</td>\n      <td>0.02</td>\n    </tr>\n    <tr>\n      <th>170</th>\n      <td>B_42</td>\n      <td>197449</td>\n      <td>98.72</td>\n    </tr>\n    <tr>\n      <th>171</th>\n      <td>D_130</td>\n      <td>3503</td>\n      <td>1.75</td>\n    </tr>\n    <tr>\n      <th>172</th>\n      <td>D_131</td>\n      <td>3503</td>\n      <td>1.75</td>\n    </tr>\n    <tr>\n      <th>173</th>\n      <td>D_132</td>\n      <td>179642</td>\n      <td>89.82</td>\n    </tr>\n    <tr>\n      <th>174</th>\n      <td>D_133</td>\n      <td>1481</td>\n      <td>0.74</td>\n    </tr>\n    <tr>\n      <th>175</th>\n      <td>R_28</td>\n      <td>0</td>\n      <td>0.0</td>\n    </tr>\n    <tr>\n      <th>176</th>\n      <td>D_134</td>\n      <td>192814</td>\n      <td>96.41</td>\n    </tr>\n    <tr>\n      <th>177</th>\n      <td>D_135</td>\n      <td>192814</td>\n      <td>96.41</td>\n    </tr>\n    <tr>\n      <th>178</th>\n      <td>D_136</td>\n      <td>192814</td>\n      <td>96.41</td>\n    </tr>\n    <tr>\n      <th>179</th>\n      <td>D_137</td>\n      <td>192814</td>\n      <td>96.41</td>\n    </tr>\n    <tr>\n      <th>180</th>\n      <td>D_138</td>\n      <td>192814</td>\n      <td>96.41</td>\n    </tr>\n    <tr>\n      <th>181</th>\n      <td>D_139</td>\n      <td>3503</td>\n      <td>1.75</td>\n    </tr>\n    <tr>\n      <th>182</th>\n      <td>D_140</td>\n      <td>1419</td>\n      <td>0.71</td>\n    </tr>\n    <tr>\n      <th>183</th>\n      <td>D_141</td>\n      <td>3503</td>\n      <td>1.75</td>\n    </tr>\n    <tr>\n      <th>184</th>\n      <td>D_142</td>\n      <td>165644</td>\n      <td>82.82</td>\n    </tr>\n    <tr>\n      <th>185</th>\n      <td>D_143</td>\n      <td>3503</td>\n      <td>1.75</td>\n    </tr>\n    <tr>\n      <th>186</th>\n      <td>D_144</td>\n      <td>1433</td>\n      <td>0.72</td>\n    </tr>\n    <tr>\n      <th>187</th>\n      <td>D_145</td>\n      <td>3503</td>\n      <td>1.75</td>\n    </tr>\n    <tr>\n      <th>188</th>\n      <td>target</td>\n      <td>0</td>\n      <td>0.0</td>\n    </tr>\n    <tr>\n      <th>189</th>\n      <td>Day of week</td>\n      <td>0</td>\n      <td>0.0</td>\n    </tr>\n    <tr>\n      <th>190</th>\n      <td>Year</td>\n      <td>0</td>\n      <td>0.0</td>\n    </tr>\n    <tr>\n      <th>191</th>\n      <td>Month</td>\n      <td>0</td>\n      <td>0.0</td>\n    </tr>\n    <tr>\n      <th>192</th>\n      <td>Day</td>\n      <td>0</td>\n      <td>0.0</td>\n    </tr>\n  </tbody>\n</table>\n</div>"
          },
          "metadata": {}
        }
      ]
    },
    {
      "cell_type": "code",
      "source": [
        "# Drop variables with missing values >=80% in the train dataframe\n",
        "\n",
        "df = df.drop(['D_66','D_42','D_49','D_73','D_76','R_9','B_29','D_87','D_88','D_106','R_26','D_108','D_110','D_111','B_39','B_42','D_132','D_134','D_135','D_136','D_137','D_138','D_142'], axis=1)"
      ],
      "metadata": {
        "execution": {
          "iopub.status.busy": "2022-11-04T12:38:37.588422Z",
          "iopub.execute_input": "2022-11-04T12:38:37.588761Z",
          "iopub.status.idle": "2022-11-04T12:38:37.759409Z",
          "shell.execute_reply.started": "2022-11-04T12:38:37.588732Z",
          "shell.execute_reply": "2022-11-04T12:38:37.757793Z"
        },
        "trusted": true,
        "id": "xutUmzUiLkDI"
      },
      "execution_count": null,
      "outputs": []
    },
    {
      "cell_type": "code",
      "source": [
        "#Fill na values\n",
        "selected_col = np.array(['P_2','S_3','B_2','D_41','D_43','B_3','D_44','D_45','D_46','D_48','D_50','D_53','S_7','D_56','S_9','B_6','B_8','D_52','P_3','D_54','D_55','B_13','D_59','D_61','B_15','D_62','B_16','B_17','D_77','B_19','B_20','D_69','B_22','D_70','D_72','D_74','R_7','B_25','B_26','D_78','D_79','D_80','B_27','D_81','R_12','D_82','D_105','S_27','D_83','R_14','D_84','D_86','R_20','B_33','D_89','D_91','S_22','S_23','S_24','S_25','S_26','D_102','D_103','D_104','D_107','B_37','R_27','D_109','D_112','B_40','D_113','D_115','D_118','D_119','D_121','D_122','D_123','D_124','D_125','D_128','D_129','B_41','D_130','D_131','D_133','D_139','D_140','D_141','D_143','D_144','D_145'])"
      ],
      "metadata": {
        "execution": {
          "iopub.status.busy": "2022-11-04T12:38:37.761318Z",
          "iopub.execute_input": "2022-11-04T12:38:37.761799Z",
          "iopub.status.idle": "2022-11-04T12:38:37.771644Z",
          "shell.execute_reply.started": "2022-11-04T12:38:37.761757Z",
          "shell.execute_reply": "2022-11-04T12:38:37.770587Z"
        },
        "trusted": true,
        "id": "ikC_vCf2LkDI"
      },
      "execution_count": null,
      "outputs": []
    },
    {
      "cell_type": "code",
      "source": [
        "#In describe session you saw, lot of cloumns means are NaN. So, that's why i have used median to fill NaN values.\n",
        "for col in selected_col:\n",
        "    df[col] = df[col].fillna(df[col].median())"
      ],
      "metadata": {
        "execution": {
          "iopub.status.busy": "2022-11-04T12:38:37.772930Z",
          "iopub.execute_input": "2022-11-04T12:38:37.773420Z",
          "iopub.status.idle": "2022-11-04T12:38:38.254158Z",
          "shell.execute_reply.started": "2022-11-04T12:38:37.773391Z",
          "shell.execute_reply": "2022-11-04T12:38:38.252718Z"
        },
        "trusted": true,
        "id": "Dib1_MGHLkDI"
      },
      "execution_count": null,
      "outputs": []
    },
    {
      "cell_type": "code",
      "source": [
        "selcted_col2 = np.array(['D_68','B_30','B_38','D_64','D_114','D_116','D_117','D_120','D_126'])\n",
        "\n",
        "for col2 in selcted_col2:\n",
        "    df[col2] =  df[col2].fillna(df[col2].mode()[0])"
      ],
      "metadata": {
        "execution": {
          "iopub.status.busy": "2022-11-04T12:38:38.256272Z",
          "iopub.execute_input": "2022-11-04T12:38:38.256816Z",
          "iopub.status.idle": "2022-11-04T12:38:38.326422Z",
          "shell.execute_reply.started": "2022-11-04T12:38:38.256769Z",
          "shell.execute_reply": "2022-11-04T12:38:38.324872Z"
        },
        "trusted": true,
        "id": "6_lj6wWULkDJ"
      },
      "execution_count": null,
      "outputs": []
    },
    {
      "cell_type": "code",
      "source": [
        "df.isnull().sum().sum()"
      ],
      "metadata": {
        "execution": {
          "iopub.status.busy": "2022-11-04T12:38:38.328100Z",
          "iopub.execute_input": "2022-11-04T12:38:38.328471Z",
          "iopub.status.idle": "2022-11-04T12:38:38.428560Z",
          "shell.execute_reply.started": "2022-11-04T12:38:38.328439Z",
          "shell.execute_reply": "2022-11-04T12:38:38.427617Z"
        },
        "trusted": true,
        "id": "PQI-kjsvLkDJ",
        "outputId": "41c10d44-3823-42c0-cce0-ed3a53fde568"
      },
      "execution_count": null,
      "outputs": [
        {
          "execution_count": 358,
          "output_type": "execute_result",
          "data": {
            "text/plain": "0"
          },
          "metadata": {}
        }
      ]
    },
    {
      "cell_type": "markdown",
      "source": [
        "**NULL VALUE TREATMENT ON TEST DATASET**"
      ],
      "metadata": {
        "id": "wJ5fyelYLkDK"
      }
    },
    {
      "cell_type": "code",
      "source": [
        "df_test.isnull().sum().sum()"
      ],
      "metadata": {
        "execution": {
          "iopub.status.busy": "2022-11-04T12:38:38.430168Z",
          "iopub.execute_input": "2022-11-04T12:38:38.430485Z",
          "iopub.status.idle": "2022-11-04T12:38:38.490666Z",
          "shell.execute_reply.started": "2022-11-04T12:38:38.430456Z",
          "shell.execute_reply": "2022-11-04T12:38:38.489582Z"
        },
        "trusted": true,
        "id": "9tmK7FjgLkDK",
        "outputId": "e86d1545-f283-440e-877f-840786e97ad4"
      },
      "execution_count": null,
      "outputs": [
        {
          "execution_count": 359,
          "output_type": "execute_result",
          "data": {
            "text/plain": "2825903"
          },
          "metadata": {}
        }
      ]
    },
    {
      "cell_type": "code",
      "source": [
        "NaN_Val_test = np.array(df_test.isnull().sum())\n",
        "NaN_prec_test = np.array((df_test.isnull().sum() * 100 / len(df_test)).round(2))\n",
        "NaN_Col_test = pd.DataFrame([np.array(list(df.columns)).T,NaN_Val_test.T,NaN_prec_test.T], index=['Features','Num of Missing values','Percentage']\n",
        ").transpose()\n",
        "pd.set_option('display.max_rows', None)\n",
        "NaN_Col_test"
      ],
      "metadata": {
        "execution": {
          "iopub.status.busy": "2022-11-04T12:38:38.492263Z",
          "iopub.execute_input": "2022-11-04T12:38:38.492621Z",
          "iopub.status.idle": "2022-11-04T12:38:38.638406Z",
          "shell.execute_reply.started": "2022-11-04T12:38:38.492588Z",
          "shell.execute_reply": "2022-11-04T12:38:38.637595Z"
        },
        "trusted": true,
        "id": "jDP9VS-iLkDK",
        "outputId": "41b4396b-c534-456b-9081-912fb1cb63ec"
      },
      "execution_count": null,
      "outputs": [
        {
          "execution_count": 360,
          "output_type": "execute_result",
          "data": {
            "text/plain": "        Features Num of Missing values Percentage\n0            P_2                   482       0.48\n1           D_39                     0        0.0\n2            B_1                     0        0.0\n3            B_2                    24       0.02\n4            R_1                     0        0.0\n5            S_3                 16012      16.01\n6           D_41                    24       0.02\n7            B_3                    24       0.02\n8           D_43                 88050      88.05\n9           D_44                 29942      29.94\n10           B_4                  4551       4.55\n11          D_45                     0        0.0\n12           B_5                    24       0.02\n13           R_2                     0        0.0\n14          D_46                     0        0.0\n15          D_47                 20104       20.1\n16          D_48                     0        0.0\n17           B_6                 12882      12.88\n18           B_7                 88073      88.07\n19           B_8                    24       0.02\n20          D_50                     0        0.0\n21          D_51                   946       0.95\n22           B_9                 56130      56.13\n23           R_3                     0        0.0\n24          D_52                     0        0.0\n25           P_3                     0        0.0\n26          B_10                   239       0.24\n27          D_53                  3986       3.99\n28           S_5                     0        0.0\n29          B_11                 73513      73.51\n30           S_6                     0        0.0\n31          D_54                     0        0.0\n32           R_4                     0        0.0\n33           S_7                    24       0.02\n34          B_12                     0        0.0\n35           S_8                 16012      16.01\n36          D_55                     0        0.0\n37          D_56                     0        0.0\n38          B_13                  6453       6.45\n39           R_5                 49728      49.73\n40          D_58                   510       0.51\n41           S_9                     0        0.0\n42          B_14                     0        0.0\n43          D_59                 35380      35.38\n44          D_60                     0        0.0\n45          D_61                  1448       1.45\n46          B_15                     0        0.0\n47          S_11                 10970      10.97\n48          D_62                   115       0.12\n49          D_63                     0        0.0\n50          D_64                 16690      16.69\n51          D_65                     0        0.0\n52          B_16                  3415       3.42\n53          B_17                     0        0.0\n54          B_18                    24       0.02\n55          B_19                 53893      53.89\n56          B_20                     0        0.0\n57          D_68                    24       0.02\n58          S_12                 87765      87.76\n59           R_6                    24       0.02\n60          S_13                  3037       3.04\n61          B_21                    20       0.02\n62          D_69                     0        0.0\n63          B_22                     0        0.0\n64          D_70                     0        0.0\n65          D_71                  2465       2.46\n66          D_72                    24       0.02\n67          S_15                  1187       1.19\n68          B_23                     0        0.0\n69           P_4                   194       0.19\n70          D_74                     0        0.0\n71          D_75                     0        0.0\n72          B_24                 98722      98.72\n73           R_7                     0        0.0\n74          D_77                   315       0.32\n75          B_25                     0        0.0\n76          B_26                 89394      89.39\n77          D_78                     0        0.0\n78          D_79                     0        0.0\n79           R_8                 48805       48.8\n80          S_16                   115       0.12\n81          D_80                    24       0.02\n82          R_10                  4551       4.55\n83          R_11                   748       0.75\n84          B_27                     0        0.0\n85          D_81                 94923      94.92\n86          D_82                     0        0.0\n87          S_17                   315       0.32\n88          R_12                     0        0.0\n89          B_28                     0        0.0\n90          R_13                    24       0.02\n91          D_83                   229       0.23\n92          R_14                 74138      74.14\n93          R_15                    92       0.09\n94          D_84                     0        0.0\n95          R_16                     0        0.0\n96          B_30                     0        0.0\n97          S_18                  2465       2.46\n98          D_86                     0        0.0\n99          R_17                     0        0.0\n100         R_18                   239       0.24\n101         B_31                     0        0.0\n102         S_19                 75263      75.26\n103         R_19                    24       0.02\n104         B_32                     0        0.0\n105         S_20                     7       0.01\n106         R_20                 99852      99.85\n107         R_21                     0        0.0\n108         B_33                     0        0.0\n109         D_89                 99931      99.93\n110         R_22                     0        0.0\n111         R_23                     0        0.0\n112         D_91                     0        0.0\n113         D_92                     0        0.0\n114         D_93                     0        0.0\n115         D_94                     0        0.0\n116         R_24                     0        0.0\n117         R_25                    24       0.02\n118         D_96                   239       0.24\n119         S_22                     0        0.0\n120         S_23                     0        0.0\n121         S_24                  3851       3.85\n122         S_25                     0        0.0\n123         S_26                     0        0.0\n124        D_102                     0        0.0\n125        D_103                     0        0.0\n126        D_104                     0        0.0\n127        D_105                     0        0.0\n128        D_107                   576       0.58\n129         B_36                     8       0.01\n130         B_37                   561       0.56\n131         R_27                   250       0.25\n132         B_38                    35       0.04\n133        D_109                   201        0.2\n134        D_112                   814       0.81\n135         B_40                   814       0.81\n136         S_27                 53452      53.45\n137        D_113                 88102       88.1\n138        D_114                   814       0.81\n139        D_115                     0        0.0\n140        D_116                    13       0.01\n141        D_117                 85811      85.81\n142        D_118                  5831       5.83\n143        D_119                    24       0.02\n144        D_120                 99378      99.38\n145        D_121                    59       0.06\n146        D_122                 98965      98.96\n147        D_123                 98965      98.96\n148        D_124                 98809      98.81\n149        D_125                    59       0.06\n150        D_126                    13       0.01\n151        D_127                 22660      22.66\n152        D_128                  2429       2.43\n153        D_129                  2429       2.43\n154         B_41                  2429       2.43\n155        D_130                  2429       2.43\n156        D_131                  2429       2.43\n157        D_133                  2429       2.43\n158         R_28                  2429       2.43\n159        D_139                  2429       2.43\n160        D_140                  2429       2.43\n161        D_141                  2429       2.43\n162        D_143                  2429       2.43\n163        D_144                  2429       2.43\n164        D_145                  2429       2.43\n165       target                   664       0.66\n166  Day of week                     0        0.0\n167         Year                   814       0.81\n168        Month                   814       0.81\n169          Day                    35       0.04\n170          NaN               97940.0      97.94\n171          NaN                 814.0       0.81\n172          NaN                 814.0       0.81\n173          NaN               88087.0      88.09\n174          NaN                 244.0       0.24\n175          NaN                   0.0        0.0\n176          NaN               96618.0      96.62\n177          NaN               96618.0      96.62\n178          NaN               96618.0      96.62\n179          NaN               96618.0      96.62\n180          NaN               96618.0      96.62\n181          NaN                 814.0       0.81\n182          NaN                 201.0        0.2\n183          NaN                 814.0       0.81\n184          NaN               82413.0      82.41\n185          NaN                 814.0       0.81\n186          NaN                 204.0        0.2\n187          NaN                 814.0       0.81\n188          NaN                   0.0        0.0\n189          NaN                   0.0        0.0\n190          NaN                   0.0        0.0\n191          NaN                   0.0        0.0",
            "text/html": "<div>\n<style scoped>\n    .dataframe tbody tr th:only-of-type {\n        vertical-align: middle;\n    }\n\n    .dataframe tbody tr th {\n        vertical-align: top;\n    }\n\n    .dataframe thead th {\n        text-align: right;\n    }\n</style>\n<table border=\"1\" class=\"dataframe\">\n  <thead>\n    <tr style=\"text-align: right;\">\n      <th></th>\n      <th>Features</th>\n      <th>Num of Missing values</th>\n      <th>Percentage</th>\n    </tr>\n  </thead>\n  <tbody>\n    <tr>\n      <th>0</th>\n      <td>P_2</td>\n      <td>482</td>\n      <td>0.48</td>\n    </tr>\n    <tr>\n      <th>1</th>\n      <td>D_39</td>\n      <td>0</td>\n      <td>0.0</td>\n    </tr>\n    <tr>\n      <th>2</th>\n      <td>B_1</td>\n      <td>0</td>\n      <td>0.0</td>\n    </tr>\n    <tr>\n      <th>3</th>\n      <td>B_2</td>\n      <td>24</td>\n      <td>0.02</td>\n    </tr>\n    <tr>\n      <th>4</th>\n      <td>R_1</td>\n      <td>0</td>\n      <td>0.0</td>\n    </tr>\n    <tr>\n      <th>5</th>\n      <td>S_3</td>\n      <td>16012</td>\n      <td>16.01</td>\n    </tr>\n    <tr>\n      <th>6</th>\n      <td>D_41</td>\n      <td>24</td>\n      <td>0.02</td>\n    </tr>\n    <tr>\n      <th>7</th>\n      <td>B_3</td>\n      <td>24</td>\n      <td>0.02</td>\n    </tr>\n    <tr>\n      <th>8</th>\n      <td>D_43</td>\n      <td>88050</td>\n      <td>88.05</td>\n    </tr>\n    <tr>\n      <th>9</th>\n      <td>D_44</td>\n      <td>29942</td>\n      <td>29.94</td>\n    </tr>\n    <tr>\n      <th>10</th>\n      <td>B_4</td>\n      <td>4551</td>\n      <td>4.55</td>\n    </tr>\n    <tr>\n      <th>11</th>\n      <td>D_45</td>\n      <td>0</td>\n      <td>0.0</td>\n    </tr>\n    <tr>\n      <th>12</th>\n      <td>B_5</td>\n      <td>24</td>\n      <td>0.02</td>\n    </tr>\n    <tr>\n      <th>13</th>\n      <td>R_2</td>\n      <td>0</td>\n      <td>0.0</td>\n    </tr>\n    <tr>\n      <th>14</th>\n      <td>D_46</td>\n      <td>0</td>\n      <td>0.0</td>\n    </tr>\n    <tr>\n      <th>15</th>\n      <td>D_47</td>\n      <td>20104</td>\n      <td>20.1</td>\n    </tr>\n    <tr>\n      <th>16</th>\n      <td>D_48</td>\n      <td>0</td>\n      <td>0.0</td>\n    </tr>\n    <tr>\n      <th>17</th>\n      <td>B_6</td>\n      <td>12882</td>\n      <td>12.88</td>\n    </tr>\n    <tr>\n      <th>18</th>\n      <td>B_7</td>\n      <td>88073</td>\n      <td>88.07</td>\n    </tr>\n    <tr>\n      <th>19</th>\n      <td>B_8</td>\n      <td>24</td>\n      <td>0.02</td>\n    </tr>\n    <tr>\n      <th>20</th>\n      <td>D_50</td>\n      <td>0</td>\n      <td>0.0</td>\n    </tr>\n    <tr>\n      <th>21</th>\n      <td>D_51</td>\n      <td>946</td>\n      <td>0.95</td>\n    </tr>\n    <tr>\n      <th>22</th>\n      <td>B_9</td>\n      <td>56130</td>\n      <td>56.13</td>\n    </tr>\n    <tr>\n      <th>23</th>\n      <td>R_3</td>\n      <td>0</td>\n      <td>0.0</td>\n    </tr>\n    <tr>\n      <th>24</th>\n      <td>D_52</td>\n      <td>0</td>\n      <td>0.0</td>\n    </tr>\n    <tr>\n      <th>25</th>\n      <td>P_3</td>\n      <td>0</td>\n      <td>0.0</td>\n    </tr>\n    <tr>\n      <th>26</th>\n      <td>B_10</td>\n      <td>239</td>\n      <td>0.24</td>\n    </tr>\n    <tr>\n      <th>27</th>\n      <td>D_53</td>\n      <td>3986</td>\n      <td>3.99</td>\n    </tr>\n    <tr>\n      <th>28</th>\n      <td>S_5</td>\n      <td>0</td>\n      <td>0.0</td>\n    </tr>\n    <tr>\n      <th>29</th>\n      <td>B_11</td>\n      <td>73513</td>\n      <td>73.51</td>\n    </tr>\n    <tr>\n      <th>30</th>\n      <td>S_6</td>\n      <td>0</td>\n      <td>0.0</td>\n    </tr>\n    <tr>\n      <th>31</th>\n      <td>D_54</td>\n      <td>0</td>\n      <td>0.0</td>\n    </tr>\n    <tr>\n      <th>32</th>\n      <td>R_4</td>\n      <td>0</td>\n      <td>0.0</td>\n    </tr>\n    <tr>\n      <th>33</th>\n      <td>S_7</td>\n      <td>24</td>\n      <td>0.02</td>\n    </tr>\n    <tr>\n      <th>34</th>\n      <td>B_12</td>\n      <td>0</td>\n      <td>0.0</td>\n    </tr>\n    <tr>\n      <th>35</th>\n      <td>S_8</td>\n      <td>16012</td>\n      <td>16.01</td>\n    </tr>\n    <tr>\n      <th>36</th>\n      <td>D_55</td>\n      <td>0</td>\n      <td>0.0</td>\n    </tr>\n    <tr>\n      <th>37</th>\n      <td>D_56</td>\n      <td>0</td>\n      <td>0.0</td>\n    </tr>\n    <tr>\n      <th>38</th>\n      <td>B_13</td>\n      <td>6453</td>\n      <td>6.45</td>\n    </tr>\n    <tr>\n      <th>39</th>\n      <td>R_5</td>\n      <td>49728</td>\n      <td>49.73</td>\n    </tr>\n    <tr>\n      <th>40</th>\n      <td>D_58</td>\n      <td>510</td>\n      <td>0.51</td>\n    </tr>\n    <tr>\n      <th>41</th>\n      <td>S_9</td>\n      <td>0</td>\n      <td>0.0</td>\n    </tr>\n    <tr>\n      <th>42</th>\n      <td>B_14</td>\n      <td>0</td>\n      <td>0.0</td>\n    </tr>\n    <tr>\n      <th>43</th>\n      <td>D_59</td>\n      <td>35380</td>\n      <td>35.38</td>\n    </tr>\n    <tr>\n      <th>44</th>\n      <td>D_60</td>\n      <td>0</td>\n      <td>0.0</td>\n    </tr>\n    <tr>\n      <th>45</th>\n      <td>D_61</td>\n      <td>1448</td>\n      <td>1.45</td>\n    </tr>\n    <tr>\n      <th>46</th>\n      <td>B_15</td>\n      <td>0</td>\n      <td>0.0</td>\n    </tr>\n    <tr>\n      <th>47</th>\n      <td>S_11</td>\n      <td>10970</td>\n      <td>10.97</td>\n    </tr>\n    <tr>\n      <th>48</th>\n      <td>D_62</td>\n      <td>115</td>\n      <td>0.12</td>\n    </tr>\n    <tr>\n      <th>49</th>\n      <td>D_63</td>\n      <td>0</td>\n      <td>0.0</td>\n    </tr>\n    <tr>\n      <th>50</th>\n      <td>D_64</td>\n      <td>16690</td>\n      <td>16.69</td>\n    </tr>\n    <tr>\n      <th>51</th>\n      <td>D_65</td>\n      <td>0</td>\n      <td>0.0</td>\n    </tr>\n    <tr>\n      <th>52</th>\n      <td>B_16</td>\n      <td>3415</td>\n      <td>3.42</td>\n    </tr>\n    <tr>\n      <th>53</th>\n      <td>B_17</td>\n      <td>0</td>\n      <td>0.0</td>\n    </tr>\n    <tr>\n      <th>54</th>\n      <td>B_18</td>\n      <td>24</td>\n      <td>0.02</td>\n    </tr>\n    <tr>\n      <th>55</th>\n      <td>B_19</td>\n      <td>53893</td>\n      <td>53.89</td>\n    </tr>\n    <tr>\n      <th>56</th>\n      <td>B_20</td>\n      <td>0</td>\n      <td>0.0</td>\n    </tr>\n    <tr>\n      <th>57</th>\n      <td>D_68</td>\n      <td>24</td>\n      <td>0.02</td>\n    </tr>\n    <tr>\n      <th>58</th>\n      <td>S_12</td>\n      <td>87765</td>\n      <td>87.76</td>\n    </tr>\n    <tr>\n      <th>59</th>\n      <td>R_6</td>\n      <td>24</td>\n      <td>0.02</td>\n    </tr>\n    <tr>\n      <th>60</th>\n      <td>S_13</td>\n      <td>3037</td>\n      <td>3.04</td>\n    </tr>\n    <tr>\n      <th>61</th>\n      <td>B_21</td>\n      <td>20</td>\n      <td>0.02</td>\n    </tr>\n    <tr>\n      <th>62</th>\n      <td>D_69</td>\n      <td>0</td>\n      <td>0.0</td>\n    </tr>\n    <tr>\n      <th>63</th>\n      <td>B_22</td>\n      <td>0</td>\n      <td>0.0</td>\n    </tr>\n    <tr>\n      <th>64</th>\n      <td>D_70</td>\n      <td>0</td>\n      <td>0.0</td>\n    </tr>\n    <tr>\n      <th>65</th>\n      <td>D_71</td>\n      <td>2465</td>\n      <td>2.46</td>\n    </tr>\n    <tr>\n      <th>66</th>\n      <td>D_72</td>\n      <td>24</td>\n      <td>0.02</td>\n    </tr>\n    <tr>\n      <th>67</th>\n      <td>S_15</td>\n      <td>1187</td>\n      <td>1.19</td>\n    </tr>\n    <tr>\n      <th>68</th>\n      <td>B_23</td>\n      <td>0</td>\n      <td>0.0</td>\n    </tr>\n    <tr>\n      <th>69</th>\n      <td>P_4</td>\n      <td>194</td>\n      <td>0.19</td>\n    </tr>\n    <tr>\n      <th>70</th>\n      <td>D_74</td>\n      <td>0</td>\n      <td>0.0</td>\n    </tr>\n    <tr>\n      <th>71</th>\n      <td>D_75</td>\n      <td>0</td>\n      <td>0.0</td>\n    </tr>\n    <tr>\n      <th>72</th>\n      <td>B_24</td>\n      <td>98722</td>\n      <td>98.72</td>\n    </tr>\n    <tr>\n      <th>73</th>\n      <td>R_7</td>\n      <td>0</td>\n      <td>0.0</td>\n    </tr>\n    <tr>\n      <th>74</th>\n      <td>D_77</td>\n      <td>315</td>\n      <td>0.32</td>\n    </tr>\n    <tr>\n      <th>75</th>\n      <td>B_25</td>\n      <td>0</td>\n      <td>0.0</td>\n    </tr>\n    <tr>\n      <th>76</th>\n      <td>B_26</td>\n      <td>89394</td>\n      <td>89.39</td>\n    </tr>\n    <tr>\n      <th>77</th>\n      <td>D_78</td>\n      <td>0</td>\n      <td>0.0</td>\n    </tr>\n    <tr>\n      <th>78</th>\n      <td>D_79</td>\n      <td>0</td>\n      <td>0.0</td>\n    </tr>\n    <tr>\n      <th>79</th>\n      <td>R_8</td>\n      <td>48805</td>\n      <td>48.8</td>\n    </tr>\n    <tr>\n      <th>80</th>\n      <td>S_16</td>\n      <td>115</td>\n      <td>0.12</td>\n    </tr>\n    <tr>\n      <th>81</th>\n      <td>D_80</td>\n      <td>24</td>\n      <td>0.02</td>\n    </tr>\n    <tr>\n      <th>82</th>\n      <td>R_10</td>\n      <td>4551</td>\n      <td>4.55</td>\n    </tr>\n    <tr>\n      <th>83</th>\n      <td>R_11</td>\n      <td>748</td>\n      <td>0.75</td>\n    </tr>\n    <tr>\n      <th>84</th>\n      <td>B_27</td>\n      <td>0</td>\n      <td>0.0</td>\n    </tr>\n    <tr>\n      <th>85</th>\n      <td>D_81</td>\n      <td>94923</td>\n      <td>94.92</td>\n    </tr>\n    <tr>\n      <th>86</th>\n      <td>D_82</td>\n      <td>0</td>\n      <td>0.0</td>\n    </tr>\n    <tr>\n      <th>87</th>\n      <td>S_17</td>\n      <td>315</td>\n      <td>0.32</td>\n    </tr>\n    <tr>\n      <th>88</th>\n      <td>R_12</td>\n      <td>0</td>\n      <td>0.0</td>\n    </tr>\n    <tr>\n      <th>89</th>\n      <td>B_28</td>\n      <td>0</td>\n      <td>0.0</td>\n    </tr>\n    <tr>\n      <th>90</th>\n      <td>R_13</td>\n      <td>24</td>\n      <td>0.02</td>\n    </tr>\n    <tr>\n      <th>91</th>\n      <td>D_83</td>\n      <td>229</td>\n      <td>0.23</td>\n    </tr>\n    <tr>\n      <th>92</th>\n      <td>R_14</td>\n      <td>74138</td>\n      <td>74.14</td>\n    </tr>\n    <tr>\n      <th>93</th>\n      <td>R_15</td>\n      <td>92</td>\n      <td>0.09</td>\n    </tr>\n    <tr>\n      <th>94</th>\n      <td>D_84</td>\n      <td>0</td>\n      <td>0.0</td>\n    </tr>\n    <tr>\n      <th>95</th>\n      <td>R_16</td>\n      <td>0</td>\n      <td>0.0</td>\n    </tr>\n    <tr>\n      <th>96</th>\n      <td>B_30</td>\n      <td>0</td>\n      <td>0.0</td>\n    </tr>\n    <tr>\n      <th>97</th>\n      <td>S_18</td>\n      <td>2465</td>\n      <td>2.46</td>\n    </tr>\n    <tr>\n      <th>98</th>\n      <td>D_86</td>\n      <td>0</td>\n      <td>0.0</td>\n    </tr>\n    <tr>\n      <th>99</th>\n      <td>R_17</td>\n      <td>0</td>\n      <td>0.0</td>\n    </tr>\n    <tr>\n      <th>100</th>\n      <td>R_18</td>\n      <td>239</td>\n      <td>0.24</td>\n    </tr>\n    <tr>\n      <th>101</th>\n      <td>B_31</td>\n      <td>0</td>\n      <td>0.0</td>\n    </tr>\n    <tr>\n      <th>102</th>\n      <td>S_19</td>\n      <td>75263</td>\n      <td>75.26</td>\n    </tr>\n    <tr>\n      <th>103</th>\n      <td>R_19</td>\n      <td>24</td>\n      <td>0.02</td>\n    </tr>\n    <tr>\n      <th>104</th>\n      <td>B_32</td>\n      <td>0</td>\n      <td>0.0</td>\n    </tr>\n    <tr>\n      <th>105</th>\n      <td>S_20</td>\n      <td>7</td>\n      <td>0.01</td>\n    </tr>\n    <tr>\n      <th>106</th>\n      <td>R_20</td>\n      <td>99852</td>\n      <td>99.85</td>\n    </tr>\n    <tr>\n      <th>107</th>\n      <td>R_21</td>\n      <td>0</td>\n      <td>0.0</td>\n    </tr>\n    <tr>\n      <th>108</th>\n      <td>B_33</td>\n      <td>0</td>\n      <td>0.0</td>\n    </tr>\n    <tr>\n      <th>109</th>\n      <td>D_89</td>\n      <td>99931</td>\n      <td>99.93</td>\n    </tr>\n    <tr>\n      <th>110</th>\n      <td>R_22</td>\n      <td>0</td>\n      <td>0.0</td>\n    </tr>\n    <tr>\n      <th>111</th>\n      <td>R_23</td>\n      <td>0</td>\n      <td>0.0</td>\n    </tr>\n    <tr>\n      <th>112</th>\n      <td>D_91</td>\n      <td>0</td>\n      <td>0.0</td>\n    </tr>\n    <tr>\n      <th>113</th>\n      <td>D_92</td>\n      <td>0</td>\n      <td>0.0</td>\n    </tr>\n    <tr>\n      <th>114</th>\n      <td>D_93</td>\n      <td>0</td>\n      <td>0.0</td>\n    </tr>\n    <tr>\n      <th>115</th>\n      <td>D_94</td>\n      <td>0</td>\n      <td>0.0</td>\n    </tr>\n    <tr>\n      <th>116</th>\n      <td>R_24</td>\n      <td>0</td>\n      <td>0.0</td>\n    </tr>\n    <tr>\n      <th>117</th>\n      <td>R_25</td>\n      <td>24</td>\n      <td>0.02</td>\n    </tr>\n    <tr>\n      <th>118</th>\n      <td>D_96</td>\n      <td>239</td>\n      <td>0.24</td>\n    </tr>\n    <tr>\n      <th>119</th>\n      <td>S_22</td>\n      <td>0</td>\n      <td>0.0</td>\n    </tr>\n    <tr>\n      <th>120</th>\n      <td>S_23</td>\n      <td>0</td>\n      <td>0.0</td>\n    </tr>\n    <tr>\n      <th>121</th>\n      <td>S_24</td>\n      <td>3851</td>\n      <td>3.85</td>\n    </tr>\n    <tr>\n      <th>122</th>\n      <td>S_25</td>\n      <td>0</td>\n      <td>0.0</td>\n    </tr>\n    <tr>\n      <th>123</th>\n      <td>S_26</td>\n      <td>0</td>\n      <td>0.0</td>\n    </tr>\n    <tr>\n      <th>124</th>\n      <td>D_102</td>\n      <td>0</td>\n      <td>0.0</td>\n    </tr>\n    <tr>\n      <th>125</th>\n      <td>D_103</td>\n      <td>0</td>\n      <td>0.0</td>\n    </tr>\n    <tr>\n      <th>126</th>\n      <td>D_104</td>\n      <td>0</td>\n      <td>0.0</td>\n    </tr>\n    <tr>\n      <th>127</th>\n      <td>D_105</td>\n      <td>0</td>\n      <td>0.0</td>\n    </tr>\n    <tr>\n      <th>128</th>\n      <td>D_107</td>\n      <td>576</td>\n      <td>0.58</td>\n    </tr>\n    <tr>\n      <th>129</th>\n      <td>B_36</td>\n      <td>8</td>\n      <td>0.01</td>\n    </tr>\n    <tr>\n      <th>130</th>\n      <td>B_37</td>\n      <td>561</td>\n      <td>0.56</td>\n    </tr>\n    <tr>\n      <th>131</th>\n      <td>R_27</td>\n      <td>250</td>\n      <td>0.25</td>\n    </tr>\n    <tr>\n      <th>132</th>\n      <td>B_38</td>\n      <td>35</td>\n      <td>0.04</td>\n    </tr>\n    <tr>\n      <th>133</th>\n      <td>D_109</td>\n      <td>201</td>\n      <td>0.2</td>\n    </tr>\n    <tr>\n      <th>134</th>\n      <td>D_112</td>\n      <td>814</td>\n      <td>0.81</td>\n    </tr>\n    <tr>\n      <th>135</th>\n      <td>B_40</td>\n      <td>814</td>\n      <td>0.81</td>\n    </tr>\n    <tr>\n      <th>136</th>\n      <td>S_27</td>\n      <td>53452</td>\n      <td>53.45</td>\n    </tr>\n    <tr>\n      <th>137</th>\n      <td>D_113</td>\n      <td>88102</td>\n      <td>88.1</td>\n    </tr>\n    <tr>\n      <th>138</th>\n      <td>D_114</td>\n      <td>814</td>\n      <td>0.81</td>\n    </tr>\n    <tr>\n      <th>139</th>\n      <td>D_115</td>\n      <td>0</td>\n      <td>0.0</td>\n    </tr>\n    <tr>\n      <th>140</th>\n      <td>D_116</td>\n      <td>13</td>\n      <td>0.01</td>\n    </tr>\n    <tr>\n      <th>141</th>\n      <td>D_117</td>\n      <td>85811</td>\n      <td>85.81</td>\n    </tr>\n    <tr>\n      <th>142</th>\n      <td>D_118</td>\n      <td>5831</td>\n      <td>5.83</td>\n    </tr>\n    <tr>\n      <th>143</th>\n      <td>D_119</td>\n      <td>24</td>\n      <td>0.02</td>\n    </tr>\n    <tr>\n      <th>144</th>\n      <td>D_120</td>\n      <td>99378</td>\n      <td>99.38</td>\n    </tr>\n    <tr>\n      <th>145</th>\n      <td>D_121</td>\n      <td>59</td>\n      <td>0.06</td>\n    </tr>\n    <tr>\n      <th>146</th>\n      <td>D_122</td>\n      <td>98965</td>\n      <td>98.96</td>\n    </tr>\n    <tr>\n      <th>147</th>\n      <td>D_123</td>\n      <td>98965</td>\n      <td>98.96</td>\n    </tr>\n    <tr>\n      <th>148</th>\n      <td>D_124</td>\n      <td>98809</td>\n      <td>98.81</td>\n    </tr>\n    <tr>\n      <th>149</th>\n      <td>D_125</td>\n      <td>59</td>\n      <td>0.06</td>\n    </tr>\n    <tr>\n      <th>150</th>\n      <td>D_126</td>\n      <td>13</td>\n      <td>0.01</td>\n    </tr>\n    <tr>\n      <th>151</th>\n      <td>D_127</td>\n      <td>22660</td>\n      <td>22.66</td>\n    </tr>\n    <tr>\n      <th>152</th>\n      <td>D_128</td>\n      <td>2429</td>\n      <td>2.43</td>\n    </tr>\n    <tr>\n      <th>153</th>\n      <td>D_129</td>\n      <td>2429</td>\n      <td>2.43</td>\n    </tr>\n    <tr>\n      <th>154</th>\n      <td>B_41</td>\n      <td>2429</td>\n      <td>2.43</td>\n    </tr>\n    <tr>\n      <th>155</th>\n      <td>D_130</td>\n      <td>2429</td>\n      <td>2.43</td>\n    </tr>\n    <tr>\n      <th>156</th>\n      <td>D_131</td>\n      <td>2429</td>\n      <td>2.43</td>\n    </tr>\n    <tr>\n      <th>157</th>\n      <td>D_133</td>\n      <td>2429</td>\n      <td>2.43</td>\n    </tr>\n    <tr>\n      <th>158</th>\n      <td>R_28</td>\n      <td>2429</td>\n      <td>2.43</td>\n    </tr>\n    <tr>\n      <th>159</th>\n      <td>D_139</td>\n      <td>2429</td>\n      <td>2.43</td>\n    </tr>\n    <tr>\n      <th>160</th>\n      <td>D_140</td>\n      <td>2429</td>\n      <td>2.43</td>\n    </tr>\n    <tr>\n      <th>161</th>\n      <td>D_141</td>\n      <td>2429</td>\n      <td>2.43</td>\n    </tr>\n    <tr>\n      <th>162</th>\n      <td>D_143</td>\n      <td>2429</td>\n      <td>2.43</td>\n    </tr>\n    <tr>\n      <th>163</th>\n      <td>D_144</td>\n      <td>2429</td>\n      <td>2.43</td>\n    </tr>\n    <tr>\n      <th>164</th>\n      <td>D_145</td>\n      <td>2429</td>\n      <td>2.43</td>\n    </tr>\n    <tr>\n      <th>165</th>\n      <td>target</td>\n      <td>664</td>\n      <td>0.66</td>\n    </tr>\n    <tr>\n      <th>166</th>\n      <td>Day of week</td>\n      <td>0</td>\n      <td>0.0</td>\n    </tr>\n    <tr>\n      <th>167</th>\n      <td>Year</td>\n      <td>814</td>\n      <td>0.81</td>\n    </tr>\n    <tr>\n      <th>168</th>\n      <td>Month</td>\n      <td>814</td>\n      <td>0.81</td>\n    </tr>\n    <tr>\n      <th>169</th>\n      <td>Day</td>\n      <td>35</td>\n      <td>0.04</td>\n    </tr>\n    <tr>\n      <th>170</th>\n      <td>NaN</td>\n      <td>97940.0</td>\n      <td>97.94</td>\n    </tr>\n    <tr>\n      <th>171</th>\n      <td>NaN</td>\n      <td>814.0</td>\n      <td>0.81</td>\n    </tr>\n    <tr>\n      <th>172</th>\n      <td>NaN</td>\n      <td>814.0</td>\n      <td>0.81</td>\n    </tr>\n    <tr>\n      <th>173</th>\n      <td>NaN</td>\n      <td>88087.0</td>\n      <td>88.09</td>\n    </tr>\n    <tr>\n      <th>174</th>\n      <td>NaN</td>\n      <td>244.0</td>\n      <td>0.24</td>\n    </tr>\n    <tr>\n      <th>175</th>\n      <td>NaN</td>\n      <td>0.0</td>\n      <td>0.0</td>\n    </tr>\n    <tr>\n      <th>176</th>\n      <td>NaN</td>\n      <td>96618.0</td>\n      <td>96.62</td>\n    </tr>\n    <tr>\n      <th>177</th>\n      <td>NaN</td>\n      <td>96618.0</td>\n      <td>96.62</td>\n    </tr>\n    <tr>\n      <th>178</th>\n      <td>NaN</td>\n      <td>96618.0</td>\n      <td>96.62</td>\n    </tr>\n    <tr>\n      <th>179</th>\n      <td>NaN</td>\n      <td>96618.0</td>\n      <td>96.62</td>\n    </tr>\n    <tr>\n      <th>180</th>\n      <td>NaN</td>\n      <td>96618.0</td>\n      <td>96.62</td>\n    </tr>\n    <tr>\n      <th>181</th>\n      <td>NaN</td>\n      <td>814.0</td>\n      <td>0.81</td>\n    </tr>\n    <tr>\n      <th>182</th>\n      <td>NaN</td>\n      <td>201.0</td>\n      <td>0.2</td>\n    </tr>\n    <tr>\n      <th>183</th>\n      <td>NaN</td>\n      <td>814.0</td>\n      <td>0.81</td>\n    </tr>\n    <tr>\n      <th>184</th>\n      <td>NaN</td>\n      <td>82413.0</td>\n      <td>82.41</td>\n    </tr>\n    <tr>\n      <th>185</th>\n      <td>NaN</td>\n      <td>814.0</td>\n      <td>0.81</td>\n    </tr>\n    <tr>\n      <th>186</th>\n      <td>NaN</td>\n      <td>204.0</td>\n      <td>0.2</td>\n    </tr>\n    <tr>\n      <th>187</th>\n      <td>NaN</td>\n      <td>814.0</td>\n      <td>0.81</td>\n    </tr>\n    <tr>\n      <th>188</th>\n      <td>NaN</td>\n      <td>0.0</td>\n      <td>0.0</td>\n    </tr>\n    <tr>\n      <th>189</th>\n      <td>NaN</td>\n      <td>0.0</td>\n      <td>0.0</td>\n    </tr>\n    <tr>\n      <th>190</th>\n      <td>NaN</td>\n      <td>0.0</td>\n      <td>0.0</td>\n    </tr>\n    <tr>\n      <th>191</th>\n      <td>NaN</td>\n      <td>0.0</td>\n      <td>0.0</td>\n    </tr>\n  </tbody>\n</table>\n</div>"
          },
          "metadata": {}
        }
      ]
    },
    {
      "cell_type": "code",
      "source": [
        "df_test = df_test.drop(['D_42','D_49','D_66','D_73','D_76','R_9','B_29','D_87','D_88','D_106','R_26','D_108','D_110','D_111','B_39','B_42','D_132','D_134','D_135','D_136','D_137','D_138','D_142'], axis=1)"
      ],
      "metadata": {
        "execution": {
          "iopub.status.busy": "2022-11-04T12:38:38.639995Z",
          "iopub.execute_input": "2022-11-04T12:38:38.640349Z",
          "iopub.status.idle": "2022-11-04T12:38:38.685088Z",
          "shell.execute_reply.started": "2022-11-04T12:38:38.640317Z",
          "shell.execute_reply": "2022-11-04T12:38:38.684053Z"
        },
        "trusted": true,
        "id": "pYjU6gT6LkDL"
      },
      "execution_count": null,
      "outputs": []
    },
    {
      "cell_type": "code",
      "source": [
        "selected_column_test = np.array(['P_2','S_3','B_2','D_41','D_43','B_3','D_44','D_45','D_46','D_48','D_50','D_53','S_7','D_56','S_9','S_12','S_17','B_6','B_8','D_52','P_3','D_54','D_55','B_13','D_59','D_61','B_15','D_62','B_16','B_17','D_77','B_19','B_20','D_69','B_22','D_70','D_72','D_74','R_7','B_25','B_26','D_78','D_79','D_80','B_27','D_81','R_12','D_82','D_105','S_27','D_83','R_14','D_84','D_86','R_20','B_33','D_89','D_91','S_22','S_23','S_24','S_25','S_26','D_102','D_103','D_104','D_107','B_37','R_27','D_109','D_112','B_40','D_113','D_115','D_118','D_119','D_121','D_122','D_123','D_124','D_125','D_128','D_129','B_41','D_130','D_131','D_133','D_139','D_140','D_141','D_143','D_144','D_145'])\n",
        "\n",
        "for column in selected_column_test:\n",
        "    df_test[column] = df_test[column].fillna(df_test[column].median())"
      ],
      "metadata": {
        "execution": {
          "iopub.status.busy": "2022-11-04T12:38:38.686315Z",
          "iopub.execute_input": "2022-11-04T12:38:38.687651Z",
          "iopub.status.idle": "2022-11-04T12:38:38.970093Z",
          "shell.execute_reply.started": "2022-11-04T12:38:38.687609Z",
          "shell.execute_reply": "2022-11-04T12:38:38.968830Z"
        },
        "trusted": true,
        "id": "YLPc-XEdLkDL"
      },
      "execution_count": null,
      "outputs": []
    },
    {
      "cell_type": "code",
      "source": [
        "selected_column2_test = np.array(['D_68','B_30','B_38','D_64','D_114','D_116','D_117','D_120','D_126'])\n",
        "\n",
        "for column2 in selected_column2_test:\n",
        "    df_test[column2] =  df_test[column2].fillna(df_test[column2].mode()[0])"
      ],
      "metadata": {
        "execution": {
          "iopub.status.busy": "2022-11-04T12:38:38.973735Z",
          "iopub.execute_input": "2022-11-04T12:38:38.975152Z",
          "iopub.status.idle": "2022-11-04T12:38:39.015752Z",
          "shell.execute_reply.started": "2022-11-04T12:38:38.975097Z",
          "shell.execute_reply": "2022-11-04T12:38:39.014359Z"
        },
        "trusted": true,
        "id": "IMSqRbnWLkDL"
      },
      "execution_count": null,
      "outputs": []
    },
    {
      "cell_type": "code",
      "source": [
        "df_test.isnull().sum().sum()"
      ],
      "metadata": {
        "execution": {
          "iopub.status.busy": "2022-11-04T12:38:39.017764Z",
          "iopub.execute_input": "2022-11-04T12:38:39.018435Z",
          "iopub.status.idle": "2022-11-04T12:38:39.077551Z",
          "shell.execute_reply.started": "2022-11-04T12:38:39.018382Z",
          "shell.execute_reply": "2022-11-04T12:38:39.076131Z"
        },
        "trusted": true,
        "id": "TSSEfyJ2LkDM",
        "outputId": "9add8831-7cf4-4bde-b6ff-219e946c08d5"
      },
      "execution_count": null,
      "outputs": [
        {
          "execution_count": 364,
          "output_type": "execute_result",
          "data": {
            "text/plain": "0"
          },
          "metadata": {}
        }
      ]
    },
    {
      "cell_type": "code",
      "source": [
        "df.shape,df_test.shape"
      ],
      "metadata": {
        "execution": {
          "iopub.status.busy": "2022-11-04T12:38:39.079303Z",
          "iopub.execute_input": "2022-11-04T12:38:39.080196Z",
          "iopub.status.idle": "2022-11-04T12:38:39.087838Z",
          "shell.execute_reply.started": "2022-11-04T12:38:39.080148Z",
          "shell.execute_reply": "2022-11-04T12:38:39.086729Z"
        },
        "trusted": true,
        "id": "xLknjRQLLkDN",
        "outputId": "0ade10eb-bb0f-4b65-8a94-52e332d97605"
      },
      "execution_count": null,
      "outputs": [
        {
          "execution_count": 365,
          "output_type": "execute_result",
          "data": {
            "text/plain": "((200000, 170), (100000, 169))"
          },
          "metadata": {}
        }
      ]
    },
    {
      "cell_type": "markdown",
      "source": [
        "**HANDLING CATEGORICAL FEATURES**"
      ],
      "metadata": {
        "id": "3X5CirYdLkDO"
      }
    },
    {
      "cell_type": "code",
      "source": [
        "#convert dtype for categorical variable to object\n",
        "df = df.astype({\"B_30\": 'str', \"B_38\": 'str',\"D_114\": 'str', \"D_116\": 'str', \"D_117\": 'str', \n",
        "                         \"D_120\": 'str', \"D_126\": 'str', \"D_68\": 'str', \"Day of week\": 'str',\n",
        "                         \"Year\": 'str', \"Month\": 'str', \"Day\": 'str'})"
      ],
      "metadata": {
        "execution": {
          "iopub.status.busy": "2022-11-04T12:38:39.089241Z",
          "iopub.execute_input": "2022-11-04T12:38:39.089805Z",
          "iopub.status.idle": "2022-11-04T12:38:45.187992Z",
          "shell.execute_reply.started": "2022-11-04T12:38:39.089755Z",
          "shell.execute_reply": "2022-11-04T12:38:45.184064Z"
        },
        "trusted": true,
        "id": "Vp0xfjfkLkDO"
      },
      "execution_count": null,
      "outputs": []
    },
    {
      "cell_type": "code",
      "source": [
        "#convert dtype for categorical variable to object\n",
        "df_test = df_test.astype({\"B_30\": 'str', \"B_38\": 'str',\"D_114\": 'str', \"D_116\": 'str', \"D_117\": 'str', \n",
        "                         \"D_120\": 'str', \"D_126\": 'str', \"D_68\": 'str', \"Day of week\": 'str',\n",
        "                         \"Year\": 'str', \"Month\": 'str', \"Day\": 'str'})"
      ],
      "metadata": {
        "execution": {
          "iopub.status.busy": "2022-11-04T12:38:45.192331Z",
          "iopub.execute_input": "2022-11-04T12:38:45.193724Z",
          "iopub.status.idle": "2022-11-04T12:38:47.163216Z",
          "shell.execute_reply.started": "2022-11-04T12:38:45.193681Z",
          "shell.execute_reply": "2022-11-04T12:38:47.159722Z"
        },
        "trusted": true,
        "id": "wnq9j28gLkDP"
      },
      "execution_count": null,
      "outputs": []
    },
    {
      "cell_type": "code",
      "source": [
        "# separate X and y for further processing\n",
        "X = df.drop(columns=['target'])\n",
        "y = df['target']"
      ],
      "metadata": {
        "execution": {
          "iopub.status.busy": "2022-11-04T12:38:47.187457Z",
          "iopub.execute_input": "2022-11-04T12:38:47.188098Z",
          "iopub.status.idle": "2022-11-04T12:38:47.600705Z",
          "shell.execute_reply.started": "2022-11-04T12:38:47.187929Z",
          "shell.execute_reply": "2022-11-04T12:38:47.599205Z"
        },
        "trusted": true,
        "id": "alD5tEyMLkDP"
      },
      "execution_count": null,
      "outputs": []
    },
    {
      "cell_type": "code",
      "source": [
        "X.shape,y.shape"
      ],
      "metadata": {
        "execution": {
          "iopub.status.busy": "2022-11-04T12:38:47.602587Z",
          "iopub.execute_input": "2022-11-04T12:38:47.602950Z",
          "iopub.status.idle": "2022-11-04T12:38:47.612625Z",
          "shell.execute_reply.started": "2022-11-04T12:38:47.602918Z",
          "shell.execute_reply": "2022-11-04T12:38:47.611043Z"
        },
        "trusted": true,
        "id": "I8jY3gHjLkDQ",
        "outputId": "f9dfd477-fe00-4c3f-eab4-fb488a376e7c"
      },
      "execution_count": null,
      "outputs": [
        {
          "execution_count": 369,
          "output_type": "execute_result",
          "data": {
            "text/plain": "((200000, 169), (200000,))"
          },
          "metadata": {}
        }
      ]
    },
    {
      "cell_type": "markdown",
      "source": [
        "**TRAIN-TEST SPLIT**"
      ],
      "metadata": {
        "id": "OUXFk8vOLkDQ"
      }
    },
    {
      "cell_type": "code",
      "source": [
        "X_train, X_test, y_train, y_test = train_test_split(X, y, test_size = 0.2, stratify=y, random_state = 42)\n",
        "print(\"Shape of X_train\", X_train.shape)\n",
        "print(\"Shape of X_test\", X_test.shape)\n",
        "print(\"Shape of y_train\", y_train.shape)\n",
        "print(\"Shape of y_test\", y_test.shape)"
      ],
      "metadata": {
        "execution": {
          "iopub.status.busy": "2022-11-04T12:38:47.614579Z",
          "iopub.execute_input": "2022-11-04T12:38:47.615122Z",
          "iopub.status.idle": "2022-11-04T12:38:48.297284Z",
          "shell.execute_reply.started": "2022-11-04T12:38:47.615074Z",
          "shell.execute_reply": "2022-11-04T12:38:48.294955Z"
        },
        "trusted": true,
        "id": "UM-RZZdVLkDQ",
        "outputId": "9097884c-5c72-4909-bd35-d20675b7269e"
      },
      "execution_count": null,
      "outputs": [
        {
          "name": "stdout",
          "text": "Shape of X_train (160000, 169)\nShape of X_test (40000, 169)\nShape of y_train (160000,)\nShape of y_test (40000,)\n",
          "output_type": "stream"
        }
      ]
    },
    {
      "cell_type": "markdown",
      "source": [
        "**ENCODING CATEGORICAL DATA**\n"
      ],
      "metadata": {
        "id": "Dq_P5IGjLkDR"
      }
    },
    {
      "cell_type": "code",
      "source": [
        "# define categorical columns\n",
        "cat_col = list(X.select_dtypes('object').columns)\n",
        "print(f\"Categorical variables (columns) are: {cat_col}\")\n",
        "\n",
        "# define numerical variables columns\n",
        "num_col = list(X.select_dtypes('number').columns)\n",
        "print(f\"Numerical variables (columns) are: {num_col}\")"
      ],
      "metadata": {
        "execution": {
          "iopub.status.busy": "2022-11-04T12:38:48.299497Z",
          "iopub.execute_input": "2022-11-04T12:38:48.300345Z",
          "iopub.status.idle": "2022-11-04T12:38:48.514228Z",
          "shell.execute_reply.started": "2022-11-04T12:38:48.300307Z",
          "shell.execute_reply": "2022-11-04T12:38:48.512497Z"
        },
        "trusted": true,
        "id": "Ym2YdnwaLkDR",
        "outputId": "57d02ee4-5838-4bf0-cde1-79e8cafb48ef"
      },
      "execution_count": null,
      "outputs": [
        {
          "name": "stdout",
          "text": "Categorical variables (columns) are: ['D_63', 'D_64', 'D_68', 'B_30', 'B_38', 'D_114', 'D_116', 'D_117', 'D_120', 'D_126', 'Day of week', 'Year', 'Month', 'Day']\nNumerical variables (columns) are: ['P_2', 'D_39', 'B_1', 'B_2', 'R_1', 'S_3', 'D_41', 'B_3', 'D_43', 'D_44', 'B_4', 'D_45', 'B_5', 'R_2', 'D_46', 'D_47', 'D_48', 'B_6', 'B_7', 'B_8', 'D_50', 'D_51', 'B_9', 'R_3', 'D_52', 'P_3', 'B_10', 'D_53', 'S_5', 'B_11', 'S_6', 'D_54', 'R_4', 'S_7', 'B_12', 'S_8', 'D_55', 'D_56', 'B_13', 'R_5', 'D_58', 'S_9', 'B_14', 'D_59', 'D_60', 'D_61', 'B_15', 'S_11', 'D_62', 'D_65', 'B_16', 'B_17', 'B_18', 'B_19', 'B_20', 'S_12', 'R_6', 'S_13', 'B_21', 'D_69', 'B_22', 'D_70', 'D_71', 'D_72', 'S_15', 'B_23', 'P_4', 'D_74', 'D_75', 'B_24', 'R_7', 'D_77', 'B_25', 'B_26', 'D_78', 'D_79', 'R_8', 'S_16', 'D_80', 'R_10', 'R_11', 'B_27', 'D_81', 'D_82', 'S_17', 'R_12', 'B_28', 'R_13', 'D_83', 'R_14', 'R_15', 'D_84', 'R_16', 'S_18', 'D_86', 'R_17', 'R_18', 'B_31', 'S_19', 'R_19', 'B_32', 'S_20', 'R_20', 'R_21', 'B_33', 'D_89', 'R_22', 'R_23', 'D_91', 'D_92', 'D_93', 'D_94', 'R_24', 'R_25', 'D_96', 'S_22', 'S_23', 'S_24', 'S_25', 'S_26', 'D_102', 'D_103', 'D_104', 'D_105', 'D_107', 'B_36', 'B_37', 'R_27', 'D_109', 'D_112', 'B_40', 'S_27', 'D_113', 'D_115', 'D_118', 'D_119', 'D_121', 'D_122', 'D_123', 'D_124', 'D_125', 'D_127', 'D_128', 'D_129', 'B_41', 'D_130', 'D_131', 'D_133', 'R_28', 'D_139', 'D_140', 'D_141', 'D_143', 'D_144', 'D_145']\n",
          "output_type": "stream"
        }
      ]
    },
    {
      "cell_type": "code",
      "source": [
        "# define categorical pipeline\n",
        "cat_pipe = Pipeline([\n",
        "    ('imputer', SimpleImputer(strategy='most_frequent', missing_values=np.nan)),\n",
        "    ('encoder', OrdinalEncoder(handle_unknown='use_encoded_value', unknown_value=-1)),\n",
        "    ('scaler', StandardScaler())\n",
        "])\n",
        "\n",
        "print(cat_pipe)"
      ],
      "metadata": {
        "execution": {
          "iopub.status.busy": "2022-11-04T12:38:48.516816Z",
          "iopub.execute_input": "2022-11-04T12:38:48.517361Z",
          "iopub.status.idle": "2022-11-04T12:38:48.529092Z",
          "shell.execute_reply.started": "2022-11-04T12:38:48.517319Z",
          "shell.execute_reply": "2022-11-04T12:38:48.527627Z"
        },
        "trusted": true,
        "id": "9UZTjBw5LkDR",
        "outputId": "15152b0f-12dc-460b-df6d-9d2357ded3fd"
      },
      "execution_count": null,
      "outputs": [
        {
          "name": "stdout",
          "text": "Pipeline(steps=[('imputer', SimpleImputer(strategy='most_frequent')),\n                ('encoder',\n                 OrdinalEncoder(handle_unknown='use_encoded_value',\n                                unknown_value=-1)),\n                ('scaler', StandardScaler())])\n",
          "output_type": "stream"
        }
      ]
    },
    {
      "cell_type": "code",
      "source": [
        "# define numerical pipeline\n",
        "num_pipe = Pipeline([\n",
        "    ('imputer', SimpleImputer(strategy='most_frequent', missing_values=np.nan)),\n",
        "    ('scaler', StandardScaler())\n",
        "])\n",
        "print(num_pipe)"
      ],
      "metadata": {
        "execution": {
          "iopub.status.busy": "2022-11-04T12:38:48.530660Z",
          "iopub.execute_input": "2022-11-04T12:38:48.531533Z",
          "iopub.status.idle": "2022-11-04T12:38:48.543328Z",
          "shell.execute_reply.started": "2022-11-04T12:38:48.531350Z",
          "shell.execute_reply": "2022-11-04T12:38:48.541558Z"
        },
        "trusted": true,
        "id": "YlviKsx9LkDS",
        "outputId": "68dc5465-d8b7-48cd-c1eb-ef0a26cfb6f8"
      },
      "execution_count": null,
      "outputs": [
        {
          "name": "stdout",
          "text": "Pipeline(steps=[('imputer', SimpleImputer(strategy='most_frequent')),\n                ('scaler', StandardScaler())])\n",
          "output_type": "stream"
        }
      ]
    },
    {
      "cell_type": "code",
      "source": [
        "preprocess_df = ColumnTransformer([\n",
        "    ('cat', cat_pipe, cat_col),\n",
        "    ('num', num_pipe, num_col)\n",
        "])"
      ],
      "metadata": {
        "execution": {
          "iopub.status.busy": "2022-11-04T12:38:48.545110Z",
          "iopub.execute_input": "2022-11-04T12:38:48.546094Z",
          "iopub.status.idle": "2022-11-04T12:38:48.558103Z",
          "shell.execute_reply.started": "2022-11-04T12:38:48.546040Z",
          "shell.execute_reply": "2022-11-04T12:38:48.556298Z"
        },
        "trusted": true,
        "id": "miMvMathLkDS"
      },
      "execution_count": null,
      "outputs": []
    },
    {
      "cell_type": "code",
      "source": [
        "preprocess_df.fit(X_train)\n",
        "X_train = preprocess_df.transform(X_train)\n",
        "X_test = preprocess_df.transform(X_test)"
      ],
      "metadata": {
        "execution": {
          "iopub.status.busy": "2022-11-04T12:38:48.560069Z",
          "iopub.execute_input": "2022-11-04T12:38:48.560478Z",
          "iopub.status.idle": "2022-11-04T12:39:01.707315Z",
          "shell.execute_reply.started": "2022-11-04T12:38:48.560446Z",
          "shell.execute_reply": "2022-11-04T12:39:01.706175Z"
        },
        "trusted": true,
        "id": "ADyX0WZWLkDS"
      },
      "execution_count": null,
      "outputs": []
    },
    {
      "cell_type": "code",
      "source": [
        "X_train = pd.DataFrame(X_train, columns = cat_col + num_col )\n",
        "X_test = pd.DataFrame(X_test, columns = cat_col + num_col )"
      ],
      "metadata": {
        "execution": {
          "iopub.status.busy": "2022-11-04T12:39:01.709118Z",
          "iopub.execute_input": "2022-11-04T12:39:01.710720Z",
          "iopub.status.idle": "2022-11-04T12:39:01.720864Z",
          "shell.execute_reply.started": "2022-11-04T12:39:01.710659Z",
          "shell.execute_reply": "2022-11-04T12:39:01.718908Z"
        },
        "trusted": true,
        "id": "4wxbvjgxLkDS"
      },
      "execution_count": null,
      "outputs": []
    },
    {
      "cell_type": "markdown",
      "source": [
        "**Plotting two numerical columns**"
      ],
      "metadata": {
        "id": "-euW_eNrLkDT"
      }
    },
    {
      "cell_type": "code",
      "source": [
        "sns.countplot (x=\"Year\",hue=\"target\",data=df)"
      ],
      "metadata": {
        "execution": {
          "iopub.status.busy": "2022-11-04T12:39:01.722911Z",
          "iopub.execute_input": "2022-11-04T12:39:01.723683Z",
          "iopub.status.idle": "2022-11-04T12:39:06.056268Z",
          "shell.execute_reply.started": "2022-11-04T12:39:01.723641Z",
          "shell.execute_reply": "2022-11-04T12:39:06.054849Z"
        },
        "trusted": true,
        "id": "qpjDgvApLkDT",
        "outputId": "cf69419c-c44e-42f0-e2fc-7a42f4734310"
      },
      "execution_count": null,
      "outputs": [
        {
          "execution_count": 377,
          "output_type": "execute_result",
          "data": {
            "text/plain": "<AxesSubplot:xlabel='Year', ylabel='count'>"
          },
          "metadata": {}
        },
        {
          "output_type": "display_data",
          "data": {
            "text/plain": "<Figure size 432x288 with 1 Axes>",
            "image/png": "[encoded data removed]"
          },
          "metadata": {
            "needs_background": "light"
          }
        }
      ]
    },
    {
      "cell_type": "markdown",
      "source": [
        "**plotting one numerical and categorical columns**"
      ],
      "metadata": {
        "id": "6EvU3paFLkDU"
      }
    },
    {
      "cell_type": "code",
      "source": [
        "sns.countplot (x=\"target\",hue=\"D_120\",data=df)"
      ],
      "metadata": {
        "execution": {
          "iopub.status.busy": "2022-11-04T12:39:06.057847Z",
          "iopub.execute_input": "2022-11-04T12:39:06.058203Z",
          "iopub.status.idle": "2022-11-04T12:39:08.545272Z",
          "shell.execute_reply.started": "2022-11-04T12:39:06.058172Z",
          "shell.execute_reply": "2022-11-04T12:39:08.543818Z"
        },
        "trusted": true,
        "id": "2WA0MIX1LkDU",
        "outputId": "7025a622-be4a-449c-f9de-5c3f1b7fb406"
      },
      "execution_count": null,
      "outputs": [
        {
          "execution_count": 378,
          "output_type": "execute_result",
          "data": {
            "text/plain": "<AxesSubplot:xlabel='target', ylabel='count'>"
          },
          "metadata": {}
        },
        {
          "output_type": "display_data",
          "data": {
            "text/plain": "<Figure size 432x288 with 1 Axes>",
            "image/png": "[encoded data removed]"
          },
          "metadata": {
            "needs_background": "light"
          }
        }
      ]
    },
    {
      "cell_type": "markdown",
      "source": [
        "**Aggregated general categories**"
      ],
      "metadata": {
        "id": "CyhLFb3kLkDW"
      }
    },
    {
      "cell_type": "code",
      "source": [
        "Delinquency = [d for d in df.columns if d.startswith('D_')]\n",
        "Spend = [s for s in df.columns if s.startswith('S_')]\n",
        "Payment = [p for p in df.columns if p.startswith('P_')]\n",
        "Balance = [b for b in df.columns if b.startswith('B_')]\n",
        "Risk = [r for r in df.columns if r.startswith('R_')]\n",
        "Dict = {'Delinquency': len(Delinquency), 'Spend': len(Spend), 'Payment': len(Payment), 'Balance': len(Balance), 'Risk': len(Risk),}\n",
        "\n",
        "plt.figure(figsize=(10,5))\n",
        "sns.barplot(x=list(Dict.keys()), y=list(Dict.values()));"
      ],
      "metadata": {
        "execution": {
          "iopub.status.busy": "2022-11-04T12:35:08.936663Z",
          "iopub.status.idle": "2022-11-04T12:35:08.937051Z",
          "shell.execute_reply.started": "2022-11-04T12:35:08.936854Z",
          "shell.execute_reply": "2022-11-04T12:35:08.936880Z"
        },
        "trusted": true,
        "id": "ce1ZGRoOLkDW"
      },
      "execution_count": null,
      "outputs": []
    },
    {
      "cell_type": "markdown",
      "source": [
        "![download (2).png](data:image/png;base64,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)"
      ],
      "metadata": {
        "id": "_bk4M6ABQzgv"
      }
    },
    {
      "cell_type": "markdown",
      "source": [
        "**Encoding on test dataset**"
      ],
      "metadata": {
        "id": "1hrm3jdvLkDW"
      }
    },
    {
      "cell_type": "code",
      "source": [
        "# define categorical columns\n",
        "cat_col_test = list(df_test.select_dtypes('object').columns)\n",
        "print(f\"Categorical variables (columns) are: {cat_col_test}\")\n",
        "\n",
        "# define numerical variables columns\n",
        "num_col_test = list(df_test.select_dtypes('number').columns)\n",
        "print(f\"Numerical variables (columns) are: {num_col_test}\")"
      ],
      "metadata": {
        "execution": {
          "iopub.status.busy": "2022-11-04T12:35:08.938139Z",
          "iopub.status.idle": "2022-11-04T12:35:08.938514Z",
          "shell.execute_reply.started": "2022-11-04T12:35:08.938330Z",
          "shell.execute_reply": "2022-11-04T12:35:08.938347Z"
        },
        "trusted": true,
        "id": "Qq-IThOTLkDW"
      },
      "execution_count": null,
      "outputs": []
    },
    {
      "cell_type": "code",
      "source": [
        "preprocess_df_test = ColumnTransformer([\n",
        "    ('cat', cat_pipe, cat_col_test),\n",
        "    ('num', num_pipe, num_col_test)\n",
        "])"
      ],
      "metadata": {
        "execution": {
          "iopub.status.busy": "2022-11-04T12:35:08.940330Z",
          "iopub.status.idle": "2022-11-04T12:35:08.941050Z",
          "shell.execute_reply.started": "2022-11-04T12:35:08.940701Z",
          "shell.execute_reply": "2022-11-04T12:35:08.940732Z"
        },
        "trusted": true,
        "id": "AXlD7eeOLkDW"
      },
      "execution_count": null,
      "outputs": []
    },
    {
      "cell_type": "code",
      "source": [
        "preprocess_df_test.fit(df_test)\n",
        "df_test = preprocess_df_test.transform(df_test)"
      ],
      "metadata": {
        "execution": {
          "iopub.status.busy": "2022-11-04T12:35:08.942901Z",
          "iopub.status.idle": "2022-11-04T12:35:08.943738Z",
          "shell.execute_reply.started": "2022-11-04T12:35:08.943375Z",
          "shell.execute_reply": "2022-11-04T12:35:08.943408Z"
        },
        "trusted": true,
        "id": "ci2mrnpVLkDX"
      },
      "execution_count": null,
      "outputs": []
    },
    {
      "cell_type": "code",
      "source": [
        "df_test = pd.DataFrame(df_test, columns = cat_col_test + num_col_test )"
      ],
      "metadata": {
        "execution": {
          "iopub.status.busy": "2022-11-04T12:35:08.945754Z",
          "iopub.status.idle": "2022-11-04T12:35:08.946364Z",
          "shell.execute_reply.started": "2022-11-04T12:35:08.946063Z",
          "shell.execute_reply": "2022-11-04T12:35:08.946091Z"
        },
        "trusted": true,
        "id": "RuEz0wUFLkDX"
      },
      "execution_count": null,
      "outputs": []
    },
    {
      "cell_type": "code",
      "source": [
        "print(\"Shape of X_train\", X_train.shape)\n",
        "print(\"Shape of X_test\", X_test.shape)\n",
        "print(\"Shape of y_train\", y_train.shape)\n",
        "print(\"Shape of y_test\", y_test.shape)"
      ],
      "metadata": {
        "execution": {
          "iopub.status.busy": "2022-11-04T12:35:08.948318Z",
          "iopub.status.idle": "2022-11-04T12:35:08.948969Z",
          "shell.execute_reply.started": "2022-11-04T12:35:08.948643Z",
          "shell.execute_reply": "2022-11-04T12:35:08.948672Z"
        },
        "trusted": true,
        "id": "b0iXA_qaLkDX"
      },
      "execution_count": null,
      "outputs": []
    },
    {
      "cell_type": "markdown",
      "source": [
        "**MODELLING**"
      ],
      "metadata": {
        "id": "3fX1qG_nLkDY"
      }
    },
    {
      "cell_type": "code",
      "source": [
        "from sklearn.tree import DecisionTreeClassifier\n",
        "\n",
        "clf = DecisionTreeClassifier()\n",
        "clf.fit(X_train, y_train)\n",
        "\n",
        "y_pred = clf.predict(X_test)"
      ],
      "metadata": {
        "execution": {
          "iopub.status.busy": "2022-11-04T12:35:08.950999Z",
          "iopub.status.idle": "2022-11-04T12:35:08.951505Z",
          "shell.execute_reply.started": "2022-11-04T12:35:08.951283Z",
          "shell.execute_reply": "2022-11-04T12:35:08.951312Z"
        },
        "trusted": true,
        "id": "NPp5jdvgLkDY"
      },
      "execution_count": null,
      "outputs": []
    },
    {
      "cell_type": "code",
      "source": [
        "# accuracy_score, confusion_matrix and classification_report\n",
        "from sklearn.metrics import accuracy_score, confusion_matrix, classification_report\n",
        "\n",
        "clf_train_acc = accuracy_score(y_train, clf.predict(X_train))\n",
        "clf_test_acc = accuracy_score(y_test, y_pred)\n",
        "\n",
        "print(f\"Training accuracy of clf is : {clf_train_acc}\")\n",
        "print(f\"Test accuracy of clf is : {clf_test_acc}\")\n",
        "\n",
        "print(confusion_matrix(y_test, y_pred))\n",
        "print(classification_report(y_test, y_pred))"
      ],
      "metadata": {
        "execution": {
          "iopub.status.busy": "2022-11-04T12:35:08.952905Z",
          "iopub.status.idle": "2022-11-04T12:35:08.953319Z",
          "shell.execute_reply.started": "2022-11-04T12:35:08.953121Z",
          "shell.execute_reply": "2022-11-04T12:35:08.953140Z"
        },
        "trusted": true,
        "id": "94Ud7e0cLkDY"
      },
      "execution_count": null,
      "outputs": []
    },
    {
      "cell_type": "markdown",
      "source": [
        "**PREDICTIONS**"
      ],
      "metadata": {
        "id": "VQ8r0YZxLkDZ"
      }
    },
    {
      "cell_type": "code",
      "source": [
        "prediction=clf.predict(df_test)\n"
      ],
      "metadata": {
        "execution": {
          "iopub.status.busy": "2022-11-04T12:35:08.954869Z",
          "iopub.status.idle": "2022-11-04T12:35:08.955258Z",
          "shell.execute_reply.started": "2022-11-04T12:35:08.955069Z",
          "shell.execute_reply": "2022-11-04T12:35:08.955087Z"
        },
        "trusted": true,
        "id": "36PfblTGLkDZ"
      },
      "execution_count": null,
      "outputs": []
    },
    {
      "cell_type": "code",
      "source": [
        "prediction"
      ],
      "metadata": {
        "execution": {
          "iopub.status.busy": "2022-11-04T12:35:08.956243Z",
          "iopub.status.idle": "2022-11-04T12:35:08.956662Z",
          "shell.execute_reply.started": "2022-11-04T12:35:08.956440Z",
          "shell.execute_reply": "2022-11-04T12:35:08.956458Z"
        },
        "trusted": true,
        "id": "YebLxoZlLkDZ"
      },
      "execution_count": null,
      "outputs": []
    },
    {
      "cell_type": "markdown",
      "source": [
        "**SUBMISSION**"
      ],
      "metadata": {
        "id": "8lrSEjYCLkDa"
      }
    },
    {
      "cell_type": "code",
      "source": [
        "sample_dataset=df_train=pd.read_csv('../input/amex-default-prediction/sample_submission.csv')\n",
        "#output = pd.DataFrame({'customer_ID': sample_dataset.customer_ID, 'prediction': prediction})\n",
        "#output.to_csv('submission.csv', index=False)"
      ],
      "metadata": {
        "execution": {
          "iopub.status.busy": "2022-11-04T12:35:08.958008Z",
          "iopub.status.idle": "2022-11-04T12:35:08.958387Z",
          "shell.execute_reply.started": "2022-11-04T12:35:08.958201Z",
          "shell.execute_reply": "2022-11-04T12:35:08.958220Z"
        },
        "trusted": true,
        "id": "qMK9jlZELkDa"
      },
      "execution_count": null,
      "outputs": []
    }
  ]
}